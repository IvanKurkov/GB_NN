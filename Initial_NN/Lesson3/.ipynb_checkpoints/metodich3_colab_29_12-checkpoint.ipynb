{
 "cells": [
  {
   "cell_type": "markdown",
   "metadata": {
    "id": "j9uRd98UFzPL"
   },
   "source": [
    "# Введение в искусственные нейронные сети\n",
    "# Урок 3. TensorFlow"
   ]
  },
  {
   "cell_type": "markdown",
   "metadata": {
    "id": "k3iOZn2wFzPQ"
   },
   "source": [
    "## Содержание методического пособия:\n",
    "\n",
    "\n",
    "<ol>\n",
    "<li>Что такое TensorFlow</li>\n",
    "<li>Основы синтаксиса TensorFlow</li>\n",
    "<li>Пример нейросети на TensorFlow</li>\n",
    "</ol>"
   ]
  },
  {
   "cell_type": "markdown",
   "metadata": {
    "id": "Sx3Su3u6FzPS"
   },
   "source": [
    "## Что такое TensorFlow\n",
    "\n",
    "TensorFlow - это фреймворк для создания ML моделей. TensorFlow предназначен в первую очередь для Deep Learning, т.е. создания современных нейросетей. Однако в TensorFlow также есть поддержка некоторых классических ML алгоритмов: K-means clustering, Random Forests, Support Vector Machines, Gaussian Mixture Model clustering, Linear/logistic regression.\n",
    "\n",
    "TensorFlow выпустила компания Google в 2015. TensorFlow - это opensource проект. На данный момент это один из основных инструментов для создания нейросетей в рабочих целях. TensorFlow позволяет создавать нейронные сети как для кластеров из большого количества вычислительных устройств, так и для устройств с относительно небольшой вычислитей мощностью, таких как смартфоны и одноплатные компьютеры.\n",
    "\n",
    "TensorFlow применяется самой компанией Google для ее поиска, почты, переводчика, распознования голоса, внутренних нужд наподобие мониторинга оборудования. TensorFlow используется различными компаниями для различных проектов связанных с компьютерным зрением, решением задач ранжирования и т.д.\n"
   ]
  },
  {
   "cell_type": "markdown",
   "metadata": {
    "id": "mBqyxNwdFzPU"
   },
   "source": [
    "## Основы синтаксиса TensorFlow\n",
    "\n",
    "Процесс создания нейросети на TensorFlow схож с разобранным нами процессом обучения нейросети на Keras. Отличее здесь в том, что здесь нам нужно прописать больше деталей в коде. \n",
    "\n",
    "Название TensorFlow означает поток тензоров. Тензоры - это массивы. Данные в компьютере предствлены часто в виде массивах и работа с этими массивами подразумевает их преобразования. Преобразования осуществляются через, к примеру, математические операции. Работа TensorFlow складывается из цепочки преобразований тензоров, т.е. данных. Сами операции осуществляющие преобразование данных представлены в TensorFlow в виде графов. Особенностью TensorFlow версии 1 является то, что сначала необходимо декларировать переменные и вычисления, которые будут совершенны над ними, а потом уже непосредственно запускать работу над данными. "
   ]
  },
  {
   "cell_type": "markdown",
   "metadata": {
    "id": "NTDIFFhhFzPW"
   },
   "source": [
    "Давайте рассмотрим базовые вещи в синтаксисе Tensorflow 2."
   ]
  },
  {
   "cell_type": "markdown",
   "metadata": {
    "id": "BuAYrRxLFzPY"
   },
   "source": [
    "Выведем строку Hello world, а также версию tensorflow"
   ]
  },
  {
   "cell_type": "code",
   "execution_count": 1,
   "metadata": {
    "executionInfo": {
     "elapsed": 4,
     "status": "ok",
     "timestamp": 1665839320497,
     "user": {
      "displayName": "Mariia Korliakova",
      "userId": "14165537686129864864"
     },
     "user_tz": -180
    },
    "id": "A4Hcl_IoHv7n"
   },
   "outputs": [],
   "source": [
    "#!pip install --upgrade pip\n",
    "#!pip install tensorflow\n",
    "#!pip install tf-nightly"
   ]
  },
  {
   "cell_type": "code",
   "execution_count": 2,
   "metadata": {
    "colab": {
     "base_uri": "https://localhost:8080/"
    },
    "executionInfo": {
     "elapsed": 4,
     "status": "ok",
     "timestamp": 1665839320498,
     "user": {
      "displayName": "Mariia Korliakova",
      "userId": "14165537686129864864"
     },
     "user_tz": -180
    },
    "id": "ad84hsn2Gwhi",
    "outputId": "c8ac5e94-5caa-43da-c786-35bbe6997dbc"
   },
   "outputs": [
    {
     "name": "stdout",
     "output_type": "stream",
     "text": [
      "Colab only includes TensorFlow 2.x; %tensorflow_version has no effect.\n"
     ]
    }
   ],
   "source": [
    "%tensorflow_version 2.x"
   ]
  },
  {
   "cell_type": "code",
   "execution_count": 3,
   "metadata": {
    "colab": {
     "base_uri": "https://localhost:8080/"
    },
    "executionInfo": {
     "elapsed": 5106,
     "status": "ok",
     "timestamp": 1665839325601,
     "user": {
      "displayName": "Mariia Korliakova",
      "userId": "14165537686129864864"
     },
     "user_tz": -180
    },
    "id": "75BVCTdbFzPa",
    "outputId": "15434102-cf5e-4434-b16d-da3f7af6e6d7"
   },
   "outputs": [
    {
     "name": "stdout",
     "output_type": "stream",
     "text": [
      "2.9.2\n",
      "TensorFlow 2.0 Hello World\n"
     ]
    }
   ],
   "source": [
    "import tensorflow as tf\n",
    "print(tf.__version__)\n",
    "msg = tf.constant('TensorFlow 2.0 Hello World')\n",
    "tf.print(msg)"
   ]
  },
  {
   "cell_type": "markdown",
   "metadata": {
    "id": "S4ZN0rdqFzPh"
   },
   "source": [
    "Пример создания тензора - "
   ]
  },
  {
   "cell_type": "code",
   "execution_count": 4,
   "metadata": {
    "colab": {
     "base_uri": "https://localhost:8080/"
    },
    "executionInfo": {
     "elapsed": 11,
     "status": "ok",
     "timestamp": 1665839325601,
     "user": {
      "displayName": "Mariia Korliakova",
      "userId": "14165537686129864864"
     },
     "user_tz": -180
    },
    "id": "VATG0L6IFzPj",
    "outputId": "71febdf9-8718-44d5-887a-035ff0a21209"
   },
   "outputs": [
    {
     "name": "stdout",
     "output_type": "stream",
     "text": [
      "tf.Tensor(\n",
      "[[3 2]\n",
      " [5 2]], shape=(2, 2), dtype=int32)\n"
     ]
    }
   ],
   "source": [
    "A = tf.constant( [[3, 2], \n",
    "                 [5, 2]])\n",
    "\n",
    "print(A)"
   ]
  },
  {
   "cell_type": "code",
   "execution_count": 5,
   "metadata": {
    "colab": {
     "base_uri": "https://localhost:8080/"
    },
    "executionInfo": {
     "elapsed": 9,
     "status": "ok",
     "timestamp": 1665839325602,
     "user": {
      "displayName": "Mariia Korliakova",
      "userId": "14165537686129864864"
     },
     "user_tz": -180
    },
    "id": "zO731BJ7cUBG",
    "outputId": "08187b4e-ff31-4f3c-a7ce-18c93612a7e9"
   },
   "outputs": [
    {
     "data": {
      "text/plain": [
       "<tf.Variable 'Variable:0' shape=(2, 1) dtype=float32, numpy=\n",
       "array([[1.],\n",
       "       [2.]], dtype=float32)>"
      ]
     },
     "execution_count": 5,
     "metadata": {},
     "output_type": "execute_result"
    }
   ],
   "source": [
    "w = tf.Variable([[1.], [2.]])\n",
    "w"
   ]
  },
  {
   "cell_type": "markdown",
   "metadata": {
    "id": "PoSPW2QuREEv"
   },
   "source": [
    "Тензор, заполненный только единицами"
   ]
  },
  {
   "cell_type": "code",
   "execution_count": 6,
   "metadata": {
    "colab": {
     "base_uri": "https://localhost:8080/"
    },
    "executionInfo": {
     "elapsed": 7,
     "status": "ok",
     "timestamp": 1665839325602,
     "user": {
      "displayName": "Mariia Korliakova",
      "userId": "14165537686129864864"
     },
     "user_tz": -180
    },
    "id": "g4OGJqgiQvY-",
    "outputId": "3f6e6152-8cc0-4168-919f-dd5c065ce7ca"
   },
   "outputs": [
    {
     "name": "stdout",
     "output_type": "stream",
     "text": [
      "tf.Tensor(\n",
      "[[[1.]\n",
      "  [1.]]\n",
      "\n",
      " [[1.]\n",
      "  [1.]]\n",
      "\n",
      " [[1.]\n",
      "  [1.]]], shape=(3, 2, 1), dtype=float32)\n"
     ]
    }
   ],
   "source": [
    "x = tf.ones(shape=(3, 2, 1))\n",
    "print(x)"
   ]
  },
  {
   "cell_type": "markdown",
   "metadata": {
    "id": "lVQVuCv5RIU5"
   },
   "source": [
    "Тензор, заполненный только нулями:"
   ]
  },
  {
   "cell_type": "code",
   "execution_count": 7,
   "metadata": {
    "colab": {
     "base_uri": "https://localhost:8080/"
    },
    "executionInfo": {
     "elapsed": 433,
     "status": "ok",
     "timestamp": 1665839326030,
     "user": {
      "displayName": "Mariia Korliakova",
      "userId": "14165537686129864864"
     },
     "user_tz": -180
    },
    "id": "C2T4MAHCQ4Fn",
    "outputId": "5aa27bd4-fbdd-4ec0-d371-b4fb396a25e6"
   },
   "outputs": [
    {
     "name": "stdout",
     "output_type": "stream",
     "text": [
      "tf.Tensor(\n",
      "[[[0. 0. 0.]\n",
      "  [0. 0. 0.]]\n",
      "\n",
      " [[0. 0. 0.]\n",
      "  [0. 0. 0.]]], shape=(2, 2, 3), dtype=float32)\n"
     ]
    }
   ],
   "source": [
    "x = tf.zeros(shape=(2, 2,3))\n",
    "print(x)"
   ]
  },
  {
   "cell_type": "markdown",
   "metadata": {
    "id": "wZRIvAwdRNGt"
   },
   "source": [
    "Cлучайные тензоры"
   ]
  },
  {
   "cell_type": "code",
   "execution_count": 8,
   "metadata": {
    "colab": {
     "base_uri": "https://localhost:8080/"
    },
    "executionInfo": {
     "elapsed": 23,
     "status": "ok",
     "timestamp": 1665839326030,
     "user": {
      "displayName": "Mariia Korliakova",
      "userId": "14165537686129864864"
     },
     "user_tz": -180
    },
    "id": "h6ker3veRBrQ",
    "outputId": "932697d8-cbbe-44a7-d299-8e164cc4216a"
   },
   "outputs": [
    {
     "name": "stdout",
     "output_type": "stream",
     "text": [
      "tf.Tensor(\n",
      "[[-1.8268849]\n",
      " [ 0.806373 ]\n",
      " [-0.5376964]], shape=(3, 1), dtype=float32)\n"
     ]
    }
   ],
   "source": [
    "x = tf.random.normal(shape=(3, 1), mean=0., stddev=1.)\n",
    "print(x)"
   ]
  },
  {
   "cell_type": "code",
   "execution_count": 9,
   "metadata": {
    "colab": {
     "base_uri": "https://localhost:8080/"
    },
    "executionInfo": {
     "elapsed": 19,
     "status": "ok",
     "timestamp": 1665839326030,
     "user": {
      "displayName": "Mariia Korliakova",
      "userId": "14165537686129864864"
     },
     "user_tz": -180
    },
    "id": "YLjXW-uFRfTB",
    "outputId": "b7314dd5-5d7c-4815-bbad-565978795f41"
   },
   "outputs": [
    {
     "name": "stdout",
     "output_type": "stream",
     "text": [
      "<tf.Variable 'Variable:0' shape=(3, 1) dtype=float32, numpy=\n",
      "array([[-0.10329627],\n",
      "       [ 0.81413436],\n",
      "       [-0.34103543]], dtype=float32)>\n"
     ]
    }
   ],
   "source": [
    "v = tf.Variable(initial_value=tf.random.normal(shape=(3, 1)))\n",
    "print(v)"
   ]
  },
  {
   "cell_type": "markdown",
   "metadata": {
    "id": "ueNZM4bARngO"
   },
   "source": [
    "Состояние переменной можно изменить с помощью метода assign"
   ]
  },
  {
   "cell_type": "code",
   "execution_count": 10,
   "metadata": {
    "colab": {
     "base_uri": "https://localhost:8080/"
    },
    "executionInfo": {
     "elapsed": 16,
     "status": "ok",
     "timestamp": 1665839326030,
     "user": {
      "displayName": "Mariia Korliakova",
      "userId": "14165537686129864864"
     },
     "user_tz": -180
    },
    "id": "s4VMhhuBRlgp",
    "outputId": "116c9ed5-a1a6-47ed-eb1d-5128f674443b"
   },
   "outputs": [
    {
     "data": {
      "text/plain": [
       "<tf.Variable 'UnreadVariable' shape=(3, 1) dtype=float32, numpy=\n",
       "array([[1.],\n",
       "       [1.],\n",
       "       [1.]], dtype=float32)>"
      ]
     },
     "execution_count": 10,
     "metadata": {},
     "output_type": "execute_result"
    }
   ],
   "source": [
    "v.assign(tf.ones((3, 1)))"
   ]
  },
  {
   "cell_type": "code",
   "execution_count": 11,
   "metadata": {
    "colab": {
     "base_uri": "https://localhost:8080/"
    },
    "executionInfo": {
     "elapsed": 15,
     "status": "ok",
     "timestamp": 1665839326031,
     "user": {
      "displayName": "Mariia Korliakova",
      "userId": "14165537686129864864"
     },
     "user_tz": -180
    },
    "id": "SejHNh3QRwXu",
    "outputId": "121c6662-3cf0-4904-ecdb-025cbfd06c0a"
   },
   "outputs": [
    {
     "data": {
      "text/plain": [
       "<tf.Variable 'UnreadVariable' shape=(3, 1) dtype=float32, numpy=\n",
       "array([[3.],\n",
       "       [1.],\n",
       "       [1.]], dtype=float32)>"
      ]
     },
     "execution_count": 11,
     "metadata": {},
     "output_type": "execute_result"
    }
   ],
   "source": [
    "v[0, 0].assign(3.)"
   ]
  },
  {
   "cell_type": "markdown",
   "metadata": {
    "id": "XTfjbLKLFzPx"
   },
   "source": [
    "Пример изменения размерности тензора - "
   ]
  },
  {
   "cell_type": "code",
   "execution_count": 12,
   "metadata": {
    "colab": {
     "base_uri": "https://localhost:8080/"
    },
    "executionInfo": {
     "elapsed": 12,
     "status": "ok",
     "timestamp": 1665839326031,
     "user": {
      "displayName": "Mariia Korliakova",
      "userId": "14165537686129864864"
     },
     "user_tz": -180
    },
    "id": "Yk_mB4qGFzPz",
    "outputId": "1d57ae5b-6c03-40c6-875b-b922c246690b"
   },
   "outputs": [
    {
     "name": "stdout",
     "output_type": "stream",
     "text": [
      "BEFORE [[3 2]\n",
      " [5 2]\n",
      " [9 5]\n",
      " [1 3]]\n",
      "AFTER [[3 2 5 2]\n",
      " [9 5 1 3]]\n"
     ]
    }
   ],
   "source": [
    "tensor = tf.constant([[3, 2], \n",
    "                      [5, 2], \n",
    "                      [9, 5], \n",
    "                      [1, 3]])\n",
    "\n",
    "resh_tensor = tf.reshape(tensor = tensor, shape = [2, 4]) \n",
    "\n",
    "print(f'BEFORE {tensor.numpy()}')\n",
    "print(f'AFTER {resh_tensor.numpy()}')"
   ]
  },
  {
   "cell_type": "markdown",
   "metadata": {
    "id": "van47kdAFzPp"
   },
   "source": [
    "Пример сложения тензеров - "
   ]
  },
  {
   "cell_type": "code",
   "execution_count": 13,
   "metadata": {
    "colab": {
     "base_uri": "https://localhost:8080/"
    },
    "executionInfo": {
     "elapsed": 10,
     "status": "ok",
     "timestamp": 1665839326031,
     "user": {
      "displayName": "Mariia Korliakova",
      "userId": "14165537686129864864"
     },
     "user_tz": -180
    },
    "id": "wYwJYGSvFzPr",
    "outputId": "626194d5-7afb-4f61-de63-c6c2da52c32f"
   },
   "outputs": [
    {
     "name": "stdout",
     "output_type": "stream",
     "text": [
      "[[3 2 9 5]\n",
      " [5 2 1 3]]\n"
     ]
    }
   ],
   "source": [
    "B = tf.constant([[9, 5], \n",
    "                 [1, 3]])\n",
    "\n",
    "AB = tf.concat(values=[A, B], axis=1)\n",
    "print(AB.numpy())"
   ]
  },
  {
   "cell_type": "markdown",
   "metadata": {
    "id": "rDoym3IkSN-k"
   },
   "source": [
    "Для переменных можно еще и так (добавить к тому. что есть)"
   ]
  },
  {
   "cell_type": "code",
   "execution_count": 14,
   "metadata": {
    "colab": {
     "base_uri": "https://localhost:8080/"
    },
    "executionInfo": {
     "elapsed": 8,
     "status": "ok",
     "timestamp": 1665839326031,
     "user": {
      "displayName": "Mariia Korliakova",
      "userId": "14165537686129864864"
     },
     "user_tz": -180
    },
    "id": "zmPnlSvTRUqk",
    "outputId": "2e9f23be-55ca-414a-ea44-ca0cbb2c173a"
   },
   "outputs": [
    {
     "data": {
      "text/plain": [
       "<tf.Variable 'UnreadVariable' shape=(3, 1) dtype=float32, numpy=\n",
       "array([[4.],\n",
       "       [2.],\n",
       "       [2.]], dtype=float32)>"
      ]
     },
     "execution_count": 14,
     "metadata": {},
     "output_type": "execute_result"
    }
   ],
   "source": [
    "v.assign_add(tf.ones((3, 1)))"
   ]
  },
  {
   "cell_type": "markdown",
   "metadata": {
    "id": "txp4OBMXFzP6"
   },
   "source": [
    "Пример умножения матриц, одной из самых частых операций в машинном обучении - "
   ]
  },
  {
   "cell_type": "code",
   "execution_count": 15,
   "metadata": {
    "colab": {
     "base_uri": "https://localhost:8080/"
    },
    "executionInfo": {
     "elapsed": 7,
     "status": "ok",
     "timestamp": 1665839326031,
     "user": {
      "displayName": "Mariia Korliakova",
      "userId": "14165537686129864864"
     },
     "user_tz": -180
    },
    "id": "2VM7TqHlFzP8",
    "outputId": "41f084a4-638f-4a51-ef25-6fbea03d5eb2"
   },
   "outputs": [
    {
     "name": "stdout",
     "output_type": "stream",
     "text": [
      "tf.Tensor(\n",
      "[[  30   70]\n",
      " [1000 9000]], shape=(2, 2), dtype=int32)\n"
     ]
    }
   ],
   "source": [
    "A = tf.constant([[3, 7], \n",
    "                 [1, 9]])\n",
    "\n",
    "\n",
    "B = tf.constant([[10, 10],\n",
    "                 [1000, 1000]])\n",
    "\n",
    "AB = tf.multiply(A, B)\n",
    "print(AB)\n"
   ]
  },
  {
   "cell_type": "code",
   "execution_count": 16,
   "metadata": {
    "colab": {
     "base_uri": "https://localhost:8080/"
    },
    "executionInfo": {
     "elapsed": 6,
     "status": "ok",
     "timestamp": 1665839326032,
     "user": {
      "displayName": "Mariia Korliakova",
      "userId": "14165537686129864864"
     },
     "user_tz": -180
    },
    "id": "qCCRCUpj9aPF",
    "outputId": "3a559967-cc13-47a1-aded-9f997f6b9d7b"
   },
   "outputs": [
    {
     "name": "stdout",
     "output_type": "stream",
     "text": [
      "tf.Tensor([[10 15]], shape=(1, 2), dtype=int32)\n",
      "(1, 2)\n",
      "<dtype: 'int32'>\n"
     ]
    }
   ],
   "source": [
    "x = tf.matmul([[5]], [[2, 3]])\n",
    "print(x)\n",
    "print(x.shape)\n",
    "print(x.dtype)"
   ]
  },
  {
   "cell_type": "markdown",
   "metadata": {
    "id": "YuV-xpouSe97"
   },
   "source": [
    "Можно много всякого похожего на numpy"
   ]
  },
  {
   "cell_type": "code",
   "execution_count": 17,
   "metadata": {
    "colab": {
     "base_uri": "https://localhost:8080/"
    },
    "executionInfo": {
     "elapsed": 2097,
     "status": "ok",
     "timestamp": 1665839328124,
     "user": {
      "displayName": "Mariia Korliakova",
      "userId": "14165537686129864864"
     },
     "user_tz": -180
    },
    "id": "mctsk4y8SnCp",
    "outputId": "3ca1661d-2712-47ad-bdfc-dd01f9409f9c"
   },
   "outputs": [
    {
     "name": "stdout",
     "output_type": "stream",
     "text": [
      "tf.Tensor(\n",
      "[[2. 2.]\n",
      " [2. 2.]], shape=(2, 2), dtype=float32)\n",
      "tf.Tensor(\n",
      "[[4. 4.]\n",
      " [4. 4.]], shape=(2, 2), dtype=float32)\n",
      "tf.Tensor(\n",
      "[[1.4142135 1.4142135]\n",
      " [1.4142135 1.4142135]], shape=(2, 2), dtype=float32)\n",
      "tf.Tensor(\n",
      "[[5.4142137 5.4142137]\n",
      " [5.4142137 5.4142137]], shape=(2, 2), dtype=float32)\n",
      "tf.Tensor(\n",
      "[[16. 16.]\n",
      " [16. 16.]], shape=(2, 2), dtype=float32)\n",
      "tf.Tensor(\n",
      "[[86.62742 86.62742]\n",
      " [86.62742 86.62742]], shape=(2, 2), dtype=float32)\n"
     ]
    }
   ],
   "source": [
    "a = tf.ones((2, 2)) * 2\n",
    "print(a)\n",
    "b = tf.square(a)\n",
    "print(b)\n",
    "c = tf.sqrt(a)\n",
    "print(c)\n",
    "d = b + c\n",
    "print(d)\n",
    "e = tf.matmul(a, b)\n",
    "print(e)\n",
    "e *= d\n",
    "print(e)\n",
    "\n"
   ]
  },
  {
   "cell_type": "code",
   "execution_count": 18,
   "metadata": {
    "colab": {
     "base_uri": "https://localhost:8080/"
    },
    "executionInfo": {
     "elapsed": 9,
     "status": "ok",
     "timestamp": 1665839328125,
     "user": {
      "displayName": "Mariia Korliakova",
      "userId": "14165537686129864864"
     },
     "user_tz": -180
    },
    "id": "5zd1GMQ0-o80",
    "outputId": "e1e9aacc-7e7d-4d94-e7ee-828de18cca9e"
   },
   "outputs": [
    {
     "name": "stdout",
     "output_type": "stream",
     "text": [
      "превратим numpy arrays в Tensors \n",
      "tf.Tensor(\n",
      "[[42. 42. 42.]\n",
      " [42. 42. 42.]\n",
      " [42. 42. 42.]], shape=(3, 3), dtype=float64)\n",
      "добавим к тензору 1 \n",
      "[[43. 43. 43.]\n",
      " [43. 43. 43.]\n",
      " [43. 43. 43.]]\n",
      " .numpy() превратим тензор в  numpy array\n",
      "[[42. 42. 42.]\n",
      " [42. 42. 42.]\n",
      " [42. 42. 42.]]\n"
     ]
    }
   ],
   "source": [
    "import numpy as np\n",
    "\n",
    "ndarray = np.ones([3, 3])\n",
    "\n",
    "print(\"превратим numpy arrays в Tensors \")\n",
    "tensor = tf.multiply(ndarray, 42)\n",
    "print(tensor)\n",
    "\n",
    "\n",
    "print(\"добавим к тензору 1 \")\n",
    "print(np.add(tensor, 1))\n",
    "\n",
    "print(\" .numpy() превратим тензор в  numpy array\")\n",
    "print(tensor.numpy())"
   ]
  },
  {
   "cell_type": "markdown",
   "metadata": {
    "id": "VKoCavodWLb-"
   },
   "source": [
    "Проверяем работу GPU\n",
    "\n",
    "https://www.tensorflow.org/guide/gpu"
   ]
  },
  {
   "cell_type": "code",
   "execution_count": 19,
   "metadata": {
    "colab": {
     "base_uri": "https://localhost:8080/"
    },
    "executionInfo": {
     "elapsed": 5,
     "status": "ok",
     "timestamp": 1665839328125,
     "user": {
      "displayName": "Mariia Korliakova",
      "userId": "14165537686129864864"
     },
     "user_tz": -180
    },
    "id": "iwFVgO3t_Ghj",
    "outputId": "232da11f-d841-4801-ad58-5c706c82aa5a"
   },
   "outputs": [
    {
     "name": "stdout",
     "output_type": "stream",
     "text": [
      "есть ли доступные GPU: \n",
      "[PhysicalDevice(name='/physical_device:GPU:0', device_type='GPU')]\n",
      "тензор на GPU #0:  \n",
      "True\n"
     ]
    }
   ],
   "source": [
    "x = tf.random.uniform([3, 3])\n",
    "\n",
    "print(\"есть ли доступные GPU: \")\n",
    "print(tf.config.experimental.list_physical_devices(\"GPU\"))\n",
    "\n",
    "\n",
    "print(\"тензор на GPU #0:  \"),\n",
    "print(x.device.endswith('GPU:0'))\n"
   ]
  },
  {
   "cell_type": "markdown",
   "metadata": {
    "id": "MR36oPW2WSUh"
   },
   "source": [
    "Сделаем по 10 циклов на GPU и CPU:"
   ]
  },
  {
   "cell_type": "code",
   "execution_count": 20,
   "metadata": {
    "colab": {
     "base_uri": "https://localhost:8080/"
    },
    "executionInfo": {
     "elapsed": 1249,
     "status": "ok",
     "timestamp": 1665839329372,
     "user": {
      "displayName": "Mariia Korliakova",
      "userId": "14165537686129864864"
     },
     "user_tz": -180
    },
    "id": "oajro_Ip_hap",
    "outputId": "d252b040-f932-45c2-eee7-222045699ec0"
   },
   "outputs": [
    {
     "name": "stdout",
     "output_type": "stream",
     "text": [
      " CPU работает:\n",
      "10 циклов: 480.21ms\n",
      " какой GPU:\n",
      "10 циклов: 19.20ms\n"
     ]
    }
   ],
   "source": [
    "import time\n",
    "\n",
    "def time_matmul(x):\n",
    "  start = time.time()\n",
    "  for loop in range(10):\n",
    "    tf.matmul(x, x)\n",
    "\n",
    "  result = time.time()-start\n",
    "\n",
    "  print(\"10 циклов: {:0.2f}ms\".format(1000*result))\n",
    "\n",
    "# исполнение CPU\n",
    "print(\" CPU работает:\")\n",
    "with tf.device(\"CPU:0\"):\n",
    "  x = tf.random.uniform([1000, 1000])\n",
    "  assert x.device.endswith(\"CPU:0\")\n",
    "  time_matmul(x)\n",
    "\n",
    "# исполнение на GPU #0 , если доступен\n",
    "if tf.config.experimental.list_physical_devices(\"GPU\"):\n",
    "  print(\" какой GPU:\")\n",
    "  with tf.device(\"GPU:0\"): # или GPU:1 , для 2х GPU, GPU:2 для 3х  и т.д.\n",
    "    x = tf.random.uniform([1000, 1000])\n",
    "    assert x.device.endswith(\"GPU:0\")\n",
    "    time_matmul(x)"
   ]
  },
  {
   "cell_type": "markdown",
   "metadata": {
    "id": "bbWKa7DaTQIN"
   },
   "source": [
    "ГЛАВНЫЙ ФОКУС!!!\n",
    "Вычисляем производные (для дифференцируемых функций)"
   ]
  },
  {
   "cell_type": "code",
   "execution_count": 21,
   "metadata": {
    "colab": {
     "base_uri": "https://localhost:8080/"
    },
    "executionInfo": {
     "elapsed": 11,
     "status": "ok",
     "timestamp": 1665839329372,
     "user": {
      "displayName": "Mariia Korliakova",
      "userId": "14165537686129864864"
     },
     "user_tz": -180
    },
    "id": "d2-w6y0fTOuP",
    "outputId": "37aeab7f-81b4-43c0-8586-266a9b0068e3"
   },
   "outputs": [
    {
     "name": "stdout",
     "output_type": "stream",
     "text": [
      "input_var :  <tf.Variable 'Variable:0' shape=() dtype=float32, numpy=3.0>\n",
      "result = input_var^2 :  tf.Tensor(9.0, shape=(), dtype=float32)\n",
      "gradient :  tf.Tensor(6.0, shape=(), dtype=float32)\n"
     ]
    }
   ],
   "source": [
    "input_var = tf.Variable(initial_value=3.)\n",
    "with tf.GradientTape() as tape:\n",
    "   result = tf.square(input_var)\n",
    "gradient = tape.gradient(result, input_var)\n",
    "\n",
    "print('input_var : ',input_var)\n",
    "print('result = input_var^2 : ',result)\n",
    "print('gradient : ',gradient)\n"
   ]
  },
  {
   "cell_type": "markdown",
   "metadata": {
    "id": "_8s-9c41UFQN"
   },
   "source": [
    "Производная второго порядка:"
   ]
  },
  {
   "cell_type": "code",
   "execution_count": 22,
   "metadata": {
    "colab": {
     "base_uri": "https://localhost:8080/"
    },
    "executionInfo": {
     "elapsed": 8,
     "status": "ok",
     "timestamp": 1665839329372,
     "user": {
      "displayName": "Mariia Korliakova",
      "userId": "14165537686129864864"
     },
     "user_tz": -180
    },
    "id": "fHlpsLfLUDtU",
    "outputId": "68e6cd31-d197-4b75-e37d-4294210afd28"
   },
   "outputs": [
    {
     "name": "stdout",
     "output_type": "stream",
     "text": [
      "x :  tf.Tensor(\n",
      "[  0.         4.9       19.6       44.100002  78.4      122.49999\n",
      " 176.40001  240.09999  313.6      396.9     ], shape=(10,), dtype=float32)\n",
      "t :  <tf.Variable 'Variable:0' shape=(10,) dtype=float32, numpy=array([0., 1., 2., 3., 4., 5., 6., 7., 8., 9.], dtype=float32)>\n",
      "v :  tf.Tensor(\n",
      "[ 0.        9.8      19.6      29.400002 39.2      49.       58.800003\n",
      " 68.600006 78.4      88.200005], shape=(10,), dtype=float32)\n",
      "a :  tf.Tensor([9.8 9.8 9.8 9.8 9.8 9.8 9.8 9.8 9.8 9.8], shape=(10,), dtype=float32)\n"
     ]
    }
   ],
   "source": [
    "import numpy as np\n",
    "import matplotlib.pyplot as plt\n",
    "\n",
    "input_t = tf.Variable(np.arange(10), dtype='float32') # t\n",
    "with tf.GradientTape() as outer_tape:\n",
    "  with tf.GradientTape() as inner_tape:\n",
    "    x =  4.9 * input_t ** 2  # g * t^2 /2\n",
    "  speed = inner_tape.gradient( x, input_t)  # g * t\n",
    "acceleration = outer_tape.gradient(speed, input_t)   # g \n",
    "\n",
    "\n",
    "print('x : ',x)\n",
    "print('t : ',input_t)\n",
    "print('v : ',speed)\n",
    "print('a : ',acceleration)"
   ]
  },
  {
   "cell_type": "code",
   "execution_count": 23,
   "metadata": {
    "colab": {
     "base_uri": "https://localhost:8080/",
     "height": 334
    },
    "executionInfo": {
     "elapsed": 7,
     "status": "ok",
     "timestamp": 1665839329372,
     "user": {
      "displayName": "Mariia Korliakova",
      "userId": "14165537686129864864"
     },
     "user_tz": -180
    },
    "id": "VeqHFTyFVOdc",
    "outputId": "dd772436-fa1d-4aef-eac7-ec822b5ab9c5"
   },
   "outputs": [
    {
     "data": {
      "image/png": "[encoded data removed]",
      "text/plain": [
       "<Figure size 1152x360 with 1 Axes>"
      ]
     },
     "metadata": {
      "needs_background": "light"
     },
     "output_type": "display_data"
    }
   ],
   "source": [
    "plt.figure(figsize=(16,5))\n",
    "plt.plot(input_t.numpy(), x.numpy(), label = 'x')\n",
    "plt.plot(input_t.numpy(), speed.numpy(), label = 'speed')\n",
    "plt.plot(input_t.numpy(), acceleration.numpy(), label = 'acceleration')\n",
    "plt.legend()\n",
    "plt.xlabel('t')\n",
    "plt.grid('on')\n",
    "plt.show()"
   ]
  },
  {
   "cell_type": "markdown",
   "metadata": {
    "id": "ya0ZTsC3DNBF"
   },
   "source": [
    "В отличие от графического процессора, использование TPU требует явного подключения к работнику TPU. Поэтому необходимо настроить свое обучение и определение логического вывода, чтобы наблюдать ускорение\n",
    "\n",
    "пример работы с TPU на будущее\n",
    "\n",
    "https://www.tensorflow.org/guide/tpu\n",
    "\n",
    "https://colab.research.google.com/github/tensorflow/tpu/blob/master/tools/colab/shakespeare_with_tpu_and_keras.ipynb"
   ]
  },
  {
   "cell_type": "markdown",
   "metadata": {
    "id": "Tc9NTP1_FzQC"
   },
   "source": [
    "Функции tensorflow призваны ускорить вычисления, давайте посмотрим на следующий пример - "
   ]
  },
  {
   "cell_type": "code",
   "execution_count": 24,
   "metadata": {
    "colab": {
     "base_uri": "https://localhost:8080/"
    },
    "executionInfo": {
     "elapsed": 1241,
     "status": "ok",
     "timestamp": 1665839330608,
     "user": {
      "displayName": "Mariia Korliakova",
      "userId": "14165537686129864864"
     },
     "user_tz": -180
    },
    "id": "qBUSq3dWHUjF",
    "outputId": "b976dce1-d19e-496c-e5f0-4bbc38e61de7"
   },
   "outputs": [
    {
     "name": "stdout",
     "output_type": "stream",
     "text": [
      "Downloading data from https://storage.googleapis.com/tensorflow/tf-keras-datasets/mnist.npz\n",
      "11490434/11490434 [==============================] - 0s 0us/step\n",
      "(60000, 784)\n",
      "(10000, 784)\n"
     ]
    }
   ],
   "source": [
    "from tensorflow.keras.datasets import mnist\n",
    "\n",
    "\n",
    "(train_images,train_labels),(test_images,testn_labels)=mnist.load_data()\n",
    "\n",
    "# Нормализация.\n",
    "train_images = (train_images / 255) * 2 - 1\n",
    "test_images = (test_images / 255) * 2 - 1\n",
    "\n",
    "# векторизация.\n",
    "train_images = train_images.reshape((-1, 784))\n",
    "test_images = test_images.reshape((-1, 784))\n",
    "\n",
    "print(train_images.shape) # (60000, 784)\n",
    "print(test_images.shape)  # (10000, 784)\n",
    "\n"
   ]
  },
  {
   "cell_type": "code",
   "execution_count": 25,
   "metadata": {
    "executionInfo": {
     "elapsed": 10,
     "status": "ok",
     "timestamp": 1665839330609,
     "user": {
      "displayName": "Mariia Korliakova",
      "userId": "14165537686129864864"
     },
     "user_tz": -180
    },
    "id": "ozb2tTqNIBzX"
   },
   "outputs": [],
   "source": [
    "from tensorflow.keras.models import Sequential\n",
    "from tensorflow.keras.layers import Dense\n",
    "from tensorflow.keras.utils import to_categorical"
   ]
  },
  {
   "cell_type": "code",
   "execution_count": 26,
   "metadata": {
    "executionInfo": {
     "elapsed": 9,
     "status": "ok",
     "timestamp": 1665839330609,
     "user": {
      "displayName": "Mariia Korliakova",
      "userId": "14165537686129864864"
     },
     "user_tz": -180
    },
    "id": "NInsePV5QKs4"
   },
   "outputs": [],
   "source": [
    "import matplotlib.pyplot as plt\n"
   ]
  },
  {
   "cell_type": "code",
   "execution_count": 27,
   "metadata": {
    "colab": {
     "base_uri": "https://localhost:8080/"
    },
    "executionInfo": {
     "elapsed": 9,
     "status": "ok",
     "timestamp": 1665839330609,
     "user": {
      "displayName": "Mariia Korliakova",
      "userId": "14165537686129864864"
     },
     "user_tz": -180
    },
    "id": "PIIwUIB_GWzd",
    "outputId": "e4b4dfa1-f889-4724-f7d3-7f086f398066"
   },
   "outputs": [
    {
     "name": "stdout",
     "output_type": "stream",
     "text": [
      "Model: \"sequential\"\n",
      "_________________________________________________________________\n",
      " Layer (type)                Output Shape              Param #   \n",
      "=================================================================\n",
      " dense (Dense)               (None, 512)               401920    \n",
      "                                                                 \n",
      " dense_1 (Dense)             (None, 512)               262656    \n",
      "                                                                 \n",
      " dense_2 (Dense)             (None, 10)                5130      \n",
      "                                                                 \n",
      "=================================================================\n",
      "Total params: 669,706\n",
      "Trainable params: 669,706\n",
      "Non-trainable params: 0\n",
      "_________________________________________________________________\n"
     ]
    }
   ],
   "source": [
    "bigger_model = Sequential([\n",
    "    Dense( 512, activation='relu', input_shape=(784,)),\n",
    "    Dense(512, activation='linear'),\n",
    "    Dense(10, activation='softmax')\n",
    "])\n",
    "\n",
    "bigger_model.compile(optimizer='adam',\n",
    "                     loss='categorical_crossentropy',\n",
    "                     metrics=['accuracy'])\n",
    "\n",
    "bigger_model.summary()"
   ]
  },
  {
   "cell_type": "code",
   "execution_count": 28,
   "metadata": {
    "colab": {
     "base_uri": "https://localhost:8080/"
    },
    "executionInfo": {
     "elapsed": 2191,
     "status": "ok",
     "timestamp": 1665839332797,
     "user": {
      "displayName": "Mariia Korliakova",
      "userId": "14165537686129864864"
     },
     "user_tz": -180
    },
    "id": "FEjAQhBK0g9I",
    "outputId": "ee72d722-bd87-4c73-cf8e-5863f6bf3278"
   },
   "outputs": [
    {
     "name": "stdout",
     "output_type": "stream",
     "text": [
      "24/24 [==============================] - 2s 40ms/step - loss: 1.1271 - accuracy: 0.6912 - val_loss: 0.3780 - val_accuracy: 0.8853\n"
     ]
    }
   ],
   "source": [
    "bigger_history = bigger_model.fit( train_images, to_categorical(train_labels,10),\n",
    "                                  epochs=1,\n",
    "                                  batch_size=2000, validation_split=0.2)"
   ]
  },
  {
   "cell_type": "markdown",
   "metadata": {
    "id": "EHMumt30YxTG"
   },
   "source": [
    "Работа на GPU и СPU\n",
    "\n",
    "\n",
    "\n",
    "Строго GPU:"
   ]
  },
  {
   "cell_type": "code",
   "execution_count": 29,
   "metadata": {
    "colab": {
     "base_uri": "https://localhost:8080/"
    },
    "executionInfo": {
     "elapsed": 1612,
     "status": "ok",
     "timestamp": 1665839334408,
     "user": {
      "displayName": "Mariia Korliakova",
      "userId": "14165537686129864864"
     },
     "user_tz": -180
    },
    "id": "Bhi6IXWR0UFW",
    "outputId": "ae1a77aa-8172-40d8-b168-90bb75df36b9"
   },
   "outputs": [
    {
     "name": "stdout",
     "output_type": "stream",
     "text": [
      "On GPU:\n",
      "Epoch 1/2\n",
      "24/24 [==============================] - 1s 26ms/step - loss: 0.3324 - accuracy: 0.9015 - val_loss: 0.2645 - val_accuracy: 0.9223\n",
      "Epoch 2/2\n",
      "24/24 [==============================] - 0s 15ms/step - loss: 0.2412 - accuracy: 0.9297 - val_loss: 0.2079 - val_accuracy: 0.9399\n"
     ]
    }
   ],
   "source": [
    "print(\"On GPU:\")\n",
    "with tf.device(\"GPU:0\"):\n",
    "  \n",
    "  bigger_history = bigger_model.fit( train_images, to_categorical(train_labels,10),\n",
    "  epochs=2,\n",
    "  batch_size=2000, validation_split=0.2)"
   ]
  },
  {
   "cell_type": "markdown",
   "metadata": {
    "id": "d0HvzbRm1Nys"
   },
   "source": [
    "Строго CPU:"
   ]
  },
  {
   "cell_type": "code",
   "execution_count": 30,
   "metadata": {
    "colab": {
     "base_uri": "https://localhost:8080/"
    },
    "executionInfo": {
     "elapsed": 8648,
     "status": "ok",
     "timestamp": 1665839343054,
     "user": {
      "displayName": "Mariia Korliakova",
      "userId": "14165537686129864864"
     },
     "user_tz": -180
    },
    "id": "UmAqbArVIkl9",
    "outputId": "8d82febc-4f4f-4682-879e-e919dc7dc93a"
   },
   "outputs": [
    {
     "name": "stdout",
     "output_type": "stream",
     "text": [
      "On CPU:\n",
      "Epoch 1/2\n",
      "24/24 [==============================] - 4s 178ms/step - loss: 0.1918 - accuracy: 0.9449 - val_loss: 0.1737 - val_accuracy: 0.9507\n",
      "Epoch 2/2\n",
      "24/24 [==============================] - 4s 169ms/step - loss: 0.1575 - accuracy: 0.9547 - val_loss: 0.1496 - val_accuracy: 0.9579\n"
     ]
    }
   ],
   "source": [
    "print(\"On CPU:\")\n",
    "with tf.device(\"CPU:0\"):\n",
    "  \n",
    "  bigger_history = bigger_model.fit( train_images, to_categorical(train_labels,10),\n",
    "  epochs=2,\n",
    "  batch_size=2000, validation_split=0.2)\n"
   ]
  },
  {
   "cell_type": "code",
   "execution_count": 31,
   "metadata": {
    "colab": {
     "base_uri": "https://localhost:8080/",
     "height": 295
    },
    "executionInfo": {
     "elapsed": 608,
     "status": "ok",
     "timestamp": 1665839343659,
     "user": {
      "displayName": "Mariia Korliakova",
      "userId": "14165537686129864864"
     },
     "user_tz": -180
    },
    "id": "8RzpMwruRFdS",
    "outputId": "0bb76ccb-c886-41a1-93a2-d0ce3c786e16"
   },
   "outputs": [
    {
     "data": {
      "image/png": "[encoded data removed]",
      "text/plain": [
       "<Figure size 432x288 with 1 Axes>"
      ]
     },
     "metadata": {
      "needs_background": "light"
     },
     "output_type": "display_data"
    }
   ],
   "source": [
    "plt.plot(bigger_history.history['val_accuracy'] ,label='val')\n",
    "plt.plot(bigger_history.history['accuracy'] ,label='train')\n",
    "plt.legend()\n",
    "plt.xlabel('epoch')\n",
    "plt.ylabel('accuracy')\n",
    "plt.title('точность сети от эпох')\n",
    "plt.grid()\n",
    "plt.show()"
   ]
  },
  {
   "cell_type": "markdown",
   "metadata": {
    "id": "exJ9iaLC1Uuo"
   },
   "source": [
    "Выбрать из возможностей CPU/GPU"
   ]
  },
  {
   "cell_type": "code",
   "execution_count": 32,
   "metadata": {
    "colab": {
     "base_uri": "https://localhost:8080/"
    },
    "executionInfo": {
     "elapsed": 401,
     "status": "ok",
     "timestamp": 1665839344054,
     "user": {
      "displayName": "Mariia Korliakova",
      "userId": "14165537686129864864"
     },
     "user_tz": -180
    },
    "id": "d2EKg1rQXGJl",
    "outputId": "3c1d25d7-9e62-4e58-e30f-79f0d18fe1ec"
   },
   "outputs": [
    {
     "name": "stdout",
     "output_type": "stream",
     "text": [
      "  GPU:\n",
      "24/24 [==============================] - 1s 22ms/step - loss: 0.1291 - accuracy: 0.9627 - val_loss: 0.1363 - val_accuracy: 0.9620\n"
     ]
    }
   ],
   "source": [
    "# исполнение на GPU #0 , если доступен\n",
    "if tf.config.experimental.list_physical_devices(\"GPU\"):\n",
    "  print(\"  GPU:\")\n",
    "  with tf.device(\"GPU:0\"): # или GPU:1 , для 2х GPU, GPU:2 для 3х  и т.д.\n",
    "    \n",
    "    bigger_model.fit( train_images, to_categorical(train_labels,10), epochs=1,batch_size=2000, validation_split=0.2)"
   ]
  },
  {
   "cell_type": "code",
   "execution_count": 33,
   "metadata": {
    "colab": {
     "base_uri": "https://localhost:8080/"
    },
    "executionInfo": {
     "elapsed": 3682,
     "status": "ok",
     "timestamp": 1665839347734,
     "user": {
      "displayName": "Mariia Korliakova",
      "userId": "14165537686129864864"
     },
     "user_tz": -180
    },
    "id": "1RIX-mfy4WPb",
    "outputId": "30604c62-5919-4715-d4cc-9acbbb8d0a40"
   },
   "outputs": [
    {
     "name": "stdout",
     "output_type": "stream",
     "text": [
      "240/240 [==============================] - 2s 8ms/step - loss: 0.1690 - accuracy: 0.9477 - val_loss: 0.1569 - val_accuracy: 0.9523\n"
     ]
    }
   ],
   "source": [
    "bigger_history = bigger_model.fit( train_images, to_categorical(train_labels,10),\n",
    "                                  epochs=1,\n",
    "                                  batch_size=200, validation_split=0.2)"
   ]
  },
  {
   "cell_type": "markdown",
   "metadata": {
    "id": "gHGTGmIGY_bW"
   },
   "source": [
    "Построим еще моделей"
   ]
  },
  {
   "cell_type": "code",
   "execution_count": 34,
   "metadata": {
    "colab": {
     "base_uri": "https://localhost:8080/"
    },
    "executionInfo": {
     "elapsed": 4008,
     "status": "ok",
     "timestamp": 1665839351740,
     "user": {
      "displayName": "Mariia Korliakova",
      "userId": "14165537686129864864"
     },
     "user_tz": -180
    },
    "id": "2Zm-TPIKO-Y_",
    "outputId": "b7ebbc9b-b06e-4d26-d31b-8e0c175d2f20"
   },
   "outputs": [
    {
     "name": "stdout",
     "output_type": "stream",
     "text": [
      "Epoch 1/5\n",
      "24/24 [==============================] - 2s 33ms/step - loss: 1.3477 - accuracy: 0.6352 - val_loss: 0.4171 - val_accuracy: 0.8781\n",
      "Epoch 2/5\n",
      "24/24 [==============================] - 0s 13ms/step - loss: 0.3723 - accuracy: 0.8893 - val_loss: 0.2789 - val_accuracy: 0.9169\n",
      "Epoch 3/5\n",
      "24/24 [==============================] - 0s 9ms/step - loss: 0.2618 - accuracy: 0.9232 - val_loss: 0.2115 - val_accuracy: 0.9383\n",
      "Epoch 4/5\n",
      "24/24 [==============================] - 0s 11ms/step - loss: 0.2035 - accuracy: 0.9406 - val_loss: 0.1770 - val_accuracy: 0.9482\n",
      "Epoch 5/5\n",
      "24/24 [==============================] - 0s 9ms/step - loss: 0.1678 - accuracy: 0.9511 - val_loss: 0.1513 - val_accuracy: 0.9562\n"
     ]
    }
   ],
   "source": [
    "bigger_model2 = Sequential([\n",
    "    Dense(512, activation='relu', input_shape=(784,)),\n",
    "    Dense(512, activation='linear'),\n",
    "    Dense(10, activation='softmax')\n",
    "])\n",
    "\n",
    "bigger_model2.compile(optimizer='adam',\n",
    "                     loss='categorical_crossentropy',\n",
    "                     metrics=['accuracy'])\n",
    "\n",
    "bigger_history2 = bigger_model2.fit( train_images, to_categorical(train_labels,10),\n",
    "  epochs=5,\n",
    "  batch_size=2000, validation_split=0.2\n",
    ")"
   ]
  },
  {
   "cell_type": "code",
   "execution_count": 35,
   "metadata": {
    "colab": {
     "base_uri": "https://localhost:8080/",
     "height": 295
    },
    "executionInfo": {
     "elapsed": 549,
     "status": "ok",
     "timestamp": 1665839352286,
     "user": {
      "displayName": "Mariia Korliakova",
      "userId": "14165537686129864864"
     },
     "user_tz": -180
    },
    "id": "PhX7tQdBSOI5",
    "outputId": "0d283b41-8595-4292-e5c2-014c47267689"
   },
   "outputs": [
    {
     "data": {
      "image/png": "[encoded data removed]",
      "text/plain": [
       "<Figure size 432x288 with 1 Axes>"
      ]
     },
     "metadata": {
      "needs_background": "light"
     },
     "output_type": "display_data"
    }
   ],
   "source": [
    "plt.plot(bigger_history2.history['val_accuracy'] ,label='val')\n",
    "plt.plot(bigger_history2.history['accuracy'] ,label='train')\n",
    "plt.legend()\n",
    "plt.xlabel('epoch')\n",
    "plt.ylabel('accuracy')\n",
    "plt.title('точность сети от эпох')\n",
    "plt.grid()\n",
    "plt.show()"
   ]
  },
  {
   "cell_type": "markdown",
   "metadata": {
    "id": "bAu48rK-ZEPe"
   },
   "source": [
    "И еще одну"
   ]
  },
  {
   "cell_type": "code",
   "execution_count": 36,
   "metadata": {
    "colab": {
     "base_uri": "https://localhost:8080/"
    },
    "executionInfo": {
     "elapsed": 1097,
     "status": "ok",
     "timestamp": 1665839353372,
     "user": {
      "displayName": "Mariia Korliakova",
      "userId": "14165537686129864864"
     },
     "user_tz": -180
    },
    "id": "o7Q0qQIxPg0q",
    "outputId": "dfdb802f-2b5c-4fd3-e663-6e700d0d88a8"
   },
   "outputs": [
    {
     "name": "stdout",
     "output_type": "stream",
     "text": [
      "Epoch 1/5\n",
      "24/24 [==============================] - 0s 12ms/step - loss: 0.1413 - accuracy: 0.9594 - val_loss: 0.1348 - val_accuracy: 0.9621\n",
      "Epoch 2/5\n",
      "24/24 [==============================] - 0s 11ms/step - loss: 0.1197 - accuracy: 0.9654 - val_loss: 0.1248 - val_accuracy: 0.9642\n",
      "Epoch 3/5\n",
      "24/24 [==============================] - 0s 11ms/step - loss: 0.1027 - accuracy: 0.9701 - val_loss: 0.1105 - val_accuracy: 0.9681\n",
      "Epoch 4/5\n",
      "24/24 [==============================] - 0s 9ms/step - loss: 0.0892 - accuracy: 0.9745 - val_loss: 0.1060 - val_accuracy: 0.9699\n",
      "Epoch 5/5\n",
      "24/24 [==============================] - 0s 9ms/step - loss: 0.0798 - accuracy: 0.9773 - val_loss: 0.1036 - val_accuracy: 0.9692\n"
     ]
    }
   ],
   "source": [
    "bigger_history3 = bigger_model2.fit( train_images, to_categorical(train_labels,10),\n",
    "  epochs=5,\n",
    "  batch_size=2000, validation_split=0.2\n",
    ")"
   ]
  },
  {
   "cell_type": "code",
   "execution_count": 37,
   "metadata": {
    "colab": {
     "base_uri": "https://localhost:8080/",
     "height": 295
    },
    "executionInfo": {
     "elapsed": 623,
     "status": "ok",
     "timestamp": 1665839353993,
     "user": {
      "displayName": "Mariia Korliakova",
      "userId": "14165537686129864864"
     },
     "user_tz": -180
    },
    "id": "Rv6N5eMcRAQ_",
    "outputId": "6fc783d2-aeb2-4655-c5b8-33bec5e9266a"
   },
   "outputs": [
    {
     "data": {
      "image/png": "[encoded data removed]",
      "text/plain": [
       "<Figure size 432x288 with 1 Axes>"
      ]
     },
     "metadata": {
      "needs_background": "light"
     },
     "output_type": "display_data"
    }
   ],
   "source": [
    "plt.plot(bigger_history3.history['val_accuracy'] ,label='val')\n",
    "plt.plot(bigger_history3.history['accuracy'] ,label='train')\n",
    "plt.legend()\n",
    "plt.xlabel('epoch')\n",
    "plt.ylabel('accuracy')\n",
    "plt.title('точность сети от эпох')\n",
    "plt.grid()\n",
    "plt.show()"
   ]
  },
  {
   "cell_type": "code",
   "execution_count": 38,
   "metadata": {
    "colab": {
     "base_uri": "https://localhost:8080/"
    },
    "executionInfo": {
     "elapsed": 10273,
     "status": "ok",
     "timestamp": 1665839364257,
     "user": {
      "displayName": "Mariia Korliakova",
      "userId": "14165537686129864864"
     },
     "user_tz": -180
    },
    "id": "bzdqOaHfPnqU",
    "outputId": "48592206-1901-46ec-e715-551dd70bae6c"
   },
   "outputs": [
    {
     "name": "stdout",
     "output_type": "stream",
     "text": [
      "Epoch 1/30\n",
      "24/24 [==============================] - 0s 11ms/step - loss: 0.0711 - accuracy: 0.9793 - val_loss: 0.0975 - val_accuracy: 0.9712\n",
      "Epoch 2/30\n",
      "24/24 [==============================] - 0s 9ms/step - loss: 0.0638 - accuracy: 0.9821 - val_loss: 0.0930 - val_accuracy: 0.9732\n",
      "Epoch 3/30\n",
      "24/24 [==============================] - 0s 8ms/step - loss: 0.0566 - accuracy: 0.9837 - val_loss: 0.0924 - val_accuracy: 0.9728\n",
      "Epoch 4/30\n",
      "24/24 [==============================] - 0s 8ms/step - loss: 0.0510 - accuracy: 0.9856 - val_loss: 0.0894 - val_accuracy: 0.9728\n",
      "Epoch 5/30\n",
      "24/24 [==============================] - 0s 8ms/step - loss: 0.0465 - accuracy: 0.9869 - val_loss: 0.0861 - val_accuracy: 0.9752\n",
      "Epoch 6/30\n",
      "24/24 [==============================] - 0s 8ms/step - loss: 0.0421 - accuracy: 0.9884 - val_loss: 0.0921 - val_accuracy: 0.9741\n",
      "Epoch 7/30\n",
      "24/24 [==============================] - 0s 9ms/step - loss: 0.0382 - accuracy: 0.9897 - val_loss: 0.0895 - val_accuracy: 0.9741\n",
      "Epoch 8/30\n",
      "24/24 [==============================] - 0s 8ms/step - loss: 0.0348 - accuracy: 0.9907 - val_loss: 0.0872 - val_accuracy: 0.9745\n",
      "Epoch 9/30\n",
      "24/24 [==============================] - 0s 9ms/step - loss: 0.0307 - accuracy: 0.9923 - val_loss: 0.0836 - val_accuracy: 0.9756\n",
      "Epoch 10/30\n",
      "24/24 [==============================] - 0s 8ms/step - loss: 0.0271 - accuracy: 0.9933 - val_loss: 0.0858 - val_accuracy: 0.9744\n",
      "Epoch 11/30\n",
      "24/24 [==============================] - 0s 8ms/step - loss: 0.0246 - accuracy: 0.9942 - val_loss: 0.0895 - val_accuracy: 0.9726\n",
      "Epoch 12/30\n",
      "24/24 [==============================] - 0s 8ms/step - loss: 0.0232 - accuracy: 0.9945 - val_loss: 0.0838 - val_accuracy: 0.9766\n",
      "Epoch 13/30\n",
      "24/24 [==============================] - 0s 10ms/step - loss: 0.0218 - accuracy: 0.9942 - val_loss: 0.0841 - val_accuracy: 0.9768\n",
      "Epoch 14/30\n",
      "24/24 [==============================] - 0s 10ms/step - loss: 0.0180 - accuracy: 0.9960 - val_loss: 0.0848 - val_accuracy: 0.9768\n",
      "Epoch 15/30\n",
      "24/24 [==============================] - 0s 8ms/step - loss: 0.0159 - accuracy: 0.9970 - val_loss: 0.0852 - val_accuracy: 0.9770\n",
      "Epoch 16/30\n",
      "24/24 [==============================] - 0s 8ms/step - loss: 0.0139 - accuracy: 0.9974 - val_loss: 0.0831 - val_accuracy: 0.9765\n",
      "Epoch 17/30\n",
      "24/24 [==============================] - 0s 8ms/step - loss: 0.0133 - accuracy: 0.9976 - val_loss: 0.0829 - val_accuracy: 0.9770\n",
      "Epoch 18/30\n",
      "24/24 [==============================] - 0s 9ms/step - loss: 0.0128 - accuracy: 0.9976 - val_loss: 0.0859 - val_accuracy: 0.9778\n",
      "Epoch 19/30\n",
      "24/24 [==============================] - 0s 8ms/step - loss: 0.0110 - accuracy: 0.9982 - val_loss: 0.0847 - val_accuracy: 0.9772\n",
      "Epoch 20/30\n",
      "24/24 [==============================] - 0s 8ms/step - loss: 0.0097 - accuracy: 0.9986 - val_loss: 0.0868 - val_accuracy: 0.9769\n",
      "Epoch 21/30\n",
      "24/24 [==============================] - 0s 8ms/step - loss: 0.0085 - accuracy: 0.9989 - val_loss: 0.0842 - val_accuracy: 0.9777\n",
      "Epoch 22/30\n",
      "24/24 [==============================] - 0s 8ms/step - loss: 0.0084 - accuracy: 0.9988 - val_loss: 0.0898 - val_accuracy: 0.9770\n",
      "Epoch 23/30\n",
      "24/24 [==============================] - 0s 8ms/step - loss: 0.0066 - accuracy: 0.9994 - val_loss: 0.0869 - val_accuracy: 0.9777\n",
      "Epoch 24/30\n",
      "24/24 [==============================] - 0s 9ms/step - loss: 0.0056 - accuracy: 0.9996 - val_loss: 0.0884 - val_accuracy: 0.9783\n",
      "Epoch 25/30\n",
      "24/24 [==============================] - 0s 8ms/step - loss: 0.0051 - accuracy: 0.9997 - val_loss: 0.0884 - val_accuracy: 0.9780\n",
      "Epoch 26/30\n",
      "24/24 [==============================] - 0s 10ms/step - loss: 0.0045 - accuracy: 0.9997 - val_loss: 0.0877 - val_accuracy: 0.9786\n",
      "Epoch 27/30\n",
      "24/24 [==============================] - 0s 8ms/step - loss: 0.0042 - accuracy: 0.9999 - val_loss: 0.0871 - val_accuracy: 0.9788\n",
      "Epoch 28/30\n",
      "24/24 [==============================] - 0s 8ms/step - loss: 0.0040 - accuracy: 1.0000 - val_loss: 0.0905 - val_accuracy: 0.9778\n",
      "Epoch 29/30\n",
      "24/24 [==============================] - 0s 9ms/step - loss: 0.0036 - accuracy: 0.9999 - val_loss: 0.0881 - val_accuracy: 0.9781\n",
      "Epoch 30/30\n",
      "24/24 [==============================] - 0s 8ms/step - loss: 0.0032 - accuracy: 1.0000 - val_loss: 0.0908 - val_accuracy: 0.9784\n"
     ]
    }
   ],
   "source": [
    "bigger_history3 = bigger_model2.fit( train_images, to_categorical(train_labels,10),\n",
    "  epochs=30,\n",
    "  batch_size=2000, validation_split=0.2\n",
    ")"
   ]
  },
  {
   "cell_type": "code",
   "execution_count": 39,
   "metadata": {
    "colab": {
     "base_uri": "https://localhost:8080/",
     "height": 295
    },
    "executionInfo": {
     "elapsed": 6,
     "status": "ok",
     "timestamp": 1665839364259,
     "user": {
      "displayName": "Mariia Korliakova",
      "userId": "14165537686129864864"
     },
     "user_tz": -180
    },
    "id": "-YIEb3PpQGLF",
    "outputId": "9c3ef5ee-3ad3-49a9-a6fa-65f9932b4ac9"
   },
   "outputs": [
    {
     "data": {
      "image/png": "[encoded data removed]",
      "text/plain": [
       "<Figure size 432x288 with 1 Axes>"
      ]
     },
     "metadata": {
      "needs_background": "light"
     },
     "output_type": "display_data"
    }
   ],
   "source": [
    "plt.plot(bigger_history3.history['val_accuracy'] ,label='val')\n",
    "plt.plot(bigger_history3.history['accuracy'] ,label='train')\n",
    "plt.legend()\n",
    "plt.xlabel('epoch')\n",
    "plt.ylabel('accuracy')\n",
    "plt.title('точность сети от эпох')\n",
    "plt.grid()\n",
    "plt.show()"
   ]
  },
  {
   "cell_type": "markdown",
   "metadata": {
    "id": "ubaqhSOiTj9R"
   },
   "source": [
    "### Оптимизаторы"
   ]
  },
  {
   "cell_type": "code",
   "execution_count": 40,
   "metadata": {
    "executionInfo": {
     "elapsed": 4,
     "status": "ok",
     "timestamp": 1665839364259,
     "user": {
      "displayName": "Mariia Korliakova",
      "userId": "14165537686129864864"
     },
     "user_tz": -180
    },
    "id": "5g3px8aXXse6"
   },
   "outputs": [],
   "source": [
    "from tensorflow.keras.optimizers import Adam, SGD, RMSprop, Adagrad"
   ]
  },
  {
   "cell_type": "code",
   "execution_count": 41,
   "metadata": {
    "colab": {
     "base_uri": "https://localhost:8080/",
     "height": 295
    },
    "executionInfo": {
     "elapsed": 7793,
     "status": "ok",
     "timestamp": 1665839372048,
     "user": {
      "displayName": "Mariia Korliakova",
      "userId": "14165537686129864864"
     },
     "user_tz": -180
    },
    "id": "51b163fhReiz",
    "outputId": "bcc8a02c-db6c-467a-dc4c-b38f0f70c5b9"
   },
   "outputs": [
    {
     "data": {
      "image/png": "[encoded data removed]",
      "text/plain": [
       "<Figure size 432x288 with 1 Axes>"
      ]
     },
     "metadata": {
      "needs_background": "light"
     },
     "output_type": "display_data"
    }
   ],
   "source": [
    "for i in [0,1,2,3,4]:\n",
    "  bigger_model4 = Sequential([\n",
    "                              Dense(512, activation='relu', input_shape=(784,)),\n",
    "                              Dense(512, activation='linear'),\n",
    "                              Dense(10, activation='sigmoid')\n",
    "                              ])\n",
    "\n",
    "  bigger_model4.compile(optimizer='sgd',\n",
    "                        loss='categorical_crossentropy',\n",
    "                        metrics=['accuracy'])\n",
    "\n",
    "  bigger_history4 = bigger_model4.fit( train_images, to_categorical(train_labels,10),epochs=5,\n",
    "                                        batch_size=20000, validation_split=0.2, verbose = 0\n",
    "                                      )\n",
    "  plt.plot(bigger_history4.history['val_accuracy'],'.' )\n",
    "  plt.plot(bigger_history4.history['accuracy'] )\n",
    "plt.plot(bigger_history4.history['val_accuracy'],'.' ,label='val')\n",
    "plt.plot(bigger_history4.history['accuracy'] ,label='train')\n",
    "plt.grid()\n",
    "plt.legend()\n",
    "plt.xlabel('epoch')\n",
    "plt.ylabel('accuracy')\n",
    "plt.title('точность сети от эпох')\n",
    "plt.show()"
   ]
  },
  {
   "cell_type": "markdown",
   "metadata": {
    "id": "clLQq9qsUbuo"
   },
   "source": [
    "Параметры оптимизаторов\n",
    "\n",
    "\n",
    "Задача на один класс: to_categorical(train_labels,10)[:,0] "
   ]
  },
  {
   "cell_type": "code",
   "execution_count": 42,
   "metadata": {
    "colab": {
     "base_uri": "https://localhost:8080/",
     "height": 295
    },
    "executionInfo": {
     "elapsed": 6330,
     "status": "ok",
     "timestamp": 1665839378373,
     "user": {
      "displayName": "Mariia Korliakova",
      "userId": "14165537686129864864"
     },
     "user_tz": -180
    },
    "id": "yjjhpVRlXn04",
    "outputId": "4a7a6b6c-1abb-4eeb-f026-0e2aff57e401"
   },
   "outputs": [
    {
     "data": {
      "image/png": "[encoded data removed]",
      "text/plain": [
       "<Figure size 432x288 with 1 Axes>"
      ]
     },
     "metadata": {
      "needs_background": "light"
     },
     "output_type": "display_data"
    }
   ],
   "source": [
    "for i in [0,1]:\n",
    "  bigger_model4 = Sequential([\n",
    "                              Dense(512, activation='relu', input_shape=(784,)),\n",
    "                              Dense(512, activation='linear'),\n",
    "                              Dense(1, activation='sigmoid')  # нейронов на выходе 1 - для одного класса один выход ( бинарный классификатор)\n",
    "                              ])\n",
    "\n",
    "  bigger_model4.compile(optimizer= Adam(learning_rate=0.0001+0.01*i, beta_1=0.89) ,\n",
    "                        loss='binary_crossentropy',\n",
    "                        metrics=['accuracy'])\n",
    "\n",
    "  bigger_history4 = bigger_model4.fit( train_images, to_categorical(train_labels,10)[:,0],epochs=15,\n",
    "                                        batch_size=2000, validation_split=0.2, verbose = 0\n",
    "                                      )\n",
    "  plt.plot(bigger_history4.history['val_accuracy'],'.',label='val lr(' +str(0.0001+0.01*i)+')')\n",
    "  plt.plot(bigger_history4.history['accuracy'] ,label='train lr(' +str(0.0001+0.01*i)+')')\n",
    "\n",
    "plt.legend()\n",
    "plt.xlabel('epoch')\n",
    "plt.ylabel('accuracy')\n",
    "plt.title('точность сети от эпох')\n",
    "plt.grid()\n",
    "plt.show()"
   ]
  },
  {
   "cell_type": "code",
   "execution_count": 43,
   "metadata": {
    "executionInfo": {
     "elapsed": 5105,
     "status": "ok",
     "timestamp": 1665839383474,
     "user": {
      "displayName": "Mariia Korliakova",
      "userId": "14165537686129864864"
     },
     "user_tz": -180
    },
    "id": "Uzm1sfR8nE9i"
   },
   "outputs": [],
   "source": [
    "bigger_history4 = bigger_model4.fit( train_images, to_categorical(train_labels,10)[:,0],epochs=5,\n",
    "                                        batch_size=200, validation_split=0.2, verbose = 0\n",
    "                                      )"
   ]
  },
  {
   "cell_type": "markdown",
   "metadata": {
    "id": "jYysdyb-CaWM"
   },
   "source": [
    "# Классификация изображений одежды"
   ]
  },
  {
   "cell_type": "markdown",
   "metadata": {
    "id": "FbVhjPpzn6BM"
   },
   "source": [
    "Давайте разберем использование tensorflow 2 на примере датасета с одеждой. В это датасете будут находиться маленькие изображения на белом фоне, такие как кросовки, футболки и прочее.\n",
    "\n",
    "В данном случае мы будем использовать High API от TensorFlow"
   ]
  },
  {
   "cell_type": "code",
   "execution_count": 44,
   "metadata": {
    "colab": {
     "base_uri": "https://localhost:8080/"
    },
    "executionInfo": {
     "elapsed": 17,
     "status": "ok",
     "timestamp": 1665839383475,
     "user": {
      "displayName": "Mariia Korliakova",
      "userId": "14165537686129864864"
     },
     "user_tz": -180
    },
    "id": "dzLKpmZICaWN",
    "outputId": "a2105691-a7ba-4cf7-86aa-e3571d3f279c"
   },
   "outputs": [
    {
     "name": "stdout",
     "output_type": "stream",
     "text": [
      "2.9.2\n"
     ]
    }
   ],
   "source": [
    "from __future__ import absolute_import, division, print_function, unicode_literals\n",
    "\n",
    "# TensorFlow and tf.keras\n",
    "\n",
    "from tensorflow import keras\n",
    "\n",
    "# Helper libraries\n",
    "import numpy as np\n",
    "import matplotlib.pyplot as plt\n",
    "\n",
    "print(tf.__version__)"
   ]
  },
  {
   "cell_type": "markdown",
   "metadata": {
    "id": "yR0EdgrLCaWR"
   },
   "source": [
    "## Импортируем Fashion MNIST датасет"
   ]
  },
  {
   "cell_type": "markdown",
   "metadata": {
    "id": "DLdCchMdCaWQ"
   },
   "source": [
    "Мы будет использовать следующий датасет -  [Fashion MNIST](https://github.com/zalandoresearch/fashion-mnist) Этот датасет содержит 70,000 черно-белых изображений в 10 категориях. Изображения имеют разрешение 28x28 пикселей.\n",
    "\n",
    "<table>\n",
    "  <tr><td>\n",
    "    <img src=\"https://tensorflow.org/images/fashion-mnist-sprite.png\"\n",
    "         alt=\"Fashion MNIST sprite\"  width=\"600\">\n",
    "  </td></tr>\n",
    "  <tr><td align=\"center\">\n",
    "    <b>Figure 1.</b> <a href=\"https://github.com/zalandoresearch/fashion-mnist\">Fashion-MNIST samples</a> (by Zalando, MIT License).<br/>&nbsp;\n",
    "  </td></tr>\n",
    "</table>\n",
    "\n",
    "Долгое время в машинном обучение для программ Hello world использовался датасет MNIST с рукописными цифрами. Данный датасет призван несколько усложнить задачу распознования но также подходит в качестве программы Hello world.\n",
    "\n",
    "В этом датасете 60 000 тренировочных изображений и 10 000 тестовых."
   ]
  },
  {
   "cell_type": "code",
   "execution_count": 45,
   "metadata": {
    "colab": {
     "base_uri": "https://localhost:8080/"
    },
    "executionInfo": {
     "elapsed": 481,
     "status": "ok",
     "timestamp": 1665839383941,
     "user": {
      "displayName": "Mariia Korliakova",
      "userId": "14165537686129864864"
     },
     "user_tz": -180
    },
    "id": "7MqDQO0KCaWS",
    "outputId": "022d4ed6-06ac-4eab-aeee-60ebb10116ca"
   },
   "outputs": [
    {
     "name": "stdout",
     "output_type": "stream",
     "text": [
      "Downloading data from https://storage.googleapis.com/tensorflow/tf-keras-datasets/train-labels-idx1-ubyte.gz\n",
      "29515/29515 [==============================] - 0s 0us/step\n",
      "Downloading data from https://storage.googleapis.com/tensorflow/tf-keras-datasets/train-images-idx3-ubyte.gz\n",
      "26421880/26421880 [==============================] - 0s 0us/step\n",
      "Downloading data from https://storage.googleapis.com/tensorflow/tf-keras-datasets/t10k-labels-idx1-ubyte.gz\n",
      "5148/5148 [==============================] - 0s 0us/step\n",
      "Downloading data from https://storage.googleapis.com/tensorflow/tf-keras-datasets/t10k-images-idx3-ubyte.gz\n",
      "4422102/4422102 [==============================] - 0s 0us/step\n"
     ]
    }
   ],
   "source": [
    "fashion_mnist = keras.datasets.fashion_mnist\n",
    "\n",
    "(train_images, train_labels), (test_images, test_labels) = fashion_mnist.load_data()"
   ]
  },
  {
   "cell_type": "markdown",
   "metadata": {
    "id": "t9FDsUlxCaWW"
   },
   "source": [
    "Датасет содержит следующие классы:\n",
    "\n",
    "<table>\n",
    "  <tr>\n",
    "    <th>Label</th>\n",
    "    <th>Class</th>\n",
    "  </tr>\n",
    "  <tr>\n",
    "    <td>0</td>\n",
    "    <td>T-shirt/top</td>\n",
    "  </tr>\n",
    "  <tr>\n",
    "    <td>1</td>\n",
    "    <td>Trouser</td>\n",
    "  </tr>\n",
    "    <tr>\n",
    "    <td>2</td>\n",
    "    <td>Pullover</td>\n",
    "  </tr>\n",
    "    <tr>\n",
    "    <td>3</td>\n",
    "    <td>Dress</td>\n",
    "  </tr>\n",
    "    <tr>\n",
    "    <td>4</td>\n",
    "    <td>Coat</td>\n",
    "  </tr>\n",
    "    <tr>\n",
    "    <td>5</td>\n",
    "    <td>Sandal</td>\n",
    "  </tr>\n",
    "    <tr>\n",
    "    <td>6</td>\n",
    "    <td>Shirt</td>\n",
    "  </tr>\n",
    "    <tr>\n",
    "    <td>7</td>\n",
    "    <td>Sneaker</td>\n",
    "  </tr>\n",
    "    <tr>\n",
    "    <td>8</td>\n",
    "    <td>Bag</td>\n",
    "  </tr>\n",
    "    <tr>\n",
    "    <td>9</td>\n",
    "    <td>Ankle boot</td>\n",
    "  </tr>\n",
    "</table>\n",
    "\n",
    "Каждому классу обозначенному цифрой мы можем присвоить текстовое значение -"
   ]
  },
  {
   "cell_type": "code",
   "execution_count": 46,
   "metadata": {
    "executionInfo": {
     "elapsed": 17,
     "status": "ok",
     "timestamp": 1665839383941,
     "user": {
      "displayName": "Mariia Korliakova",
      "userId": "14165537686129864864"
     },
     "user_tz": -180
    },
    "id": "IjnLH5S2CaWx"
   },
   "outputs": [],
   "source": [
    "class_names = ['T-shirt/top', 'Trouser', 'Pullover', 'Dress', 'Coat',\n",
    "               'Sandal', 'Shirt', 'Sneaker', 'Bag', 'Ankle boot']"
   ]
  },
  {
   "cell_type": "markdown",
   "metadata": {
    "id": "Brm0b_KACaWX"
   },
   "source": [
    "## Анализ датасета \n",
    "\n",
    "Давайте посмотрим структуры полученного массива данных:"
   ]
  },
  {
   "cell_type": "code",
   "execution_count": 47,
   "metadata": {
    "colab": {
     "base_uri": "https://localhost:8080/"
    },
    "executionInfo": {
     "elapsed": 15,
     "status": "ok",
     "timestamp": 1665839383941,
     "user": {
      "displayName": "Mariia Korliakova",
      "userId": "14165537686129864864"
     },
     "user_tz": -180
    },
    "id": "zW5k_xz1CaWX",
    "outputId": "170654ed-ee87-458d-b31a-ab62cfc3252e"
   },
   "outputs": [
    {
     "data": {
      "text/plain": [
       "(60000, 28, 28)"
      ]
     },
     "execution_count": 47,
     "metadata": {},
     "output_type": "execute_result"
    }
   ],
   "source": [
    "train_images.shape"
   ]
  },
  {
   "cell_type": "code",
   "execution_count": 48,
   "metadata": {
    "colab": {
     "base_uri": "https://localhost:8080/"
    },
    "executionInfo": {
     "elapsed": 12,
     "status": "ok",
     "timestamp": 1665839383941,
     "user": {
      "displayName": "Mariia Korliakova",
      "userId": "14165537686129864864"
     },
     "user_tz": -180
    },
    "id": "TRFYHB2mCaWb",
    "outputId": "04adae5b-9874-4380-87d5-788cc2c4d540"
   },
   "outputs": [
    {
     "data": {
      "text/plain": [
       "60000"
      ]
     },
     "execution_count": 48,
     "metadata": {},
     "output_type": "execute_result"
    }
   ],
   "source": [
    "len(train_labels)"
   ]
  },
  {
   "cell_type": "code",
   "execution_count": 49,
   "metadata": {
    "colab": {
     "base_uri": "https://localhost:8080/"
    },
    "executionInfo": {
     "elapsed": 10,
     "status": "ok",
     "timestamp": 1665839383942,
     "user": {
      "displayName": "Mariia Korliakova",
      "userId": "14165537686129864864"
     },
     "user_tz": -180
    },
    "id": "XKnCTHz4CaWg",
    "outputId": "27bdfe3a-617c-46c9-a2cf-2debbd9d7074"
   },
   "outputs": [
    {
     "data": {
      "text/plain": [
       "array([9, 0, 0, ..., 3, 0, 5], dtype=uint8)"
      ]
     },
     "execution_count": 49,
     "metadata": {},
     "output_type": "execute_result"
    }
   ],
   "source": [
    "train_labels"
   ]
  },
  {
   "cell_type": "markdown",
   "metadata": {
    "id": "TMPI88iZpO2T"
   },
   "source": [
    "Проанализируем тестовую выборку:"
   ]
  },
  {
   "cell_type": "code",
   "execution_count": 50,
   "metadata": {
    "colab": {
     "base_uri": "https://localhost:8080/"
    },
    "executionInfo": {
     "elapsed": 7,
     "status": "ok",
     "timestamp": 1665839383942,
     "user": {
      "displayName": "Mariia Korliakova",
      "userId": "14165537686129864864"
     },
     "user_tz": -180
    },
    "id": "2KFnYlcwCaWl",
    "outputId": "ca4090d5-2c23-450a-900d-b18f2b3cc29b"
   },
   "outputs": [
    {
     "data": {
      "text/plain": [
       "(10000, 28, 28)"
      ]
     },
     "execution_count": 50,
     "metadata": {},
     "output_type": "execute_result"
    }
   ],
   "source": [
    "test_images.shape"
   ]
  },
  {
   "cell_type": "code",
   "execution_count": 51,
   "metadata": {
    "colab": {
     "base_uri": "https://localhost:8080/"
    },
    "executionInfo": {
     "elapsed": 5,
     "status": "ok",
     "timestamp": 1665839383942,
     "user": {
      "displayName": "Mariia Korliakova",
      "userId": "14165537686129864864"
     },
     "user_tz": -180
    },
    "id": "iJmPr5-ACaWn",
    "outputId": "5437808c-ebbe-4c8d-dab3-fe95cbf9e2cb"
   },
   "outputs": [
    {
     "data": {
      "text/plain": [
       "10000"
      ]
     },
     "execution_count": 51,
     "metadata": {},
     "output_type": "execute_result"
    }
   ],
   "source": [
    "len(test_labels)"
   ]
  },
  {
   "cell_type": "code",
   "execution_count": 52,
   "metadata": {
    "executionInfo": {
     "elapsed": 3,
     "status": "ok",
     "timestamp": 1665839383942,
     "user": {
      "displayName": "Mariia Korliakova",
      "userId": "14165537686129864864"
     },
     "user_tz": -180
    },
    "id": "1PHqiEKY8Ktu"
   },
   "outputs": [],
   "source": [
    "y_train_labels = to_categorical(train_labels)\n",
    "y_test_labels = to_categorical(test_labels)"
   ]
  },
  {
   "cell_type": "markdown",
   "metadata": {
    "id": "ES6uQoLKCaWr"
   },
   "source": [
    "## Preprocess the data\n",
    "\n",
    "Давайте взглянем на конкретный пример изображений с помощью matplotlib:"
   ]
  },
  {
   "cell_type": "code",
   "execution_count": 53,
   "metadata": {
    "colab": {
     "base_uri": "https://localhost:8080/",
     "height": 266
    },
    "executionInfo": {
     "elapsed": 382,
     "status": "ok",
     "timestamp": 1665839384321,
     "user": {
      "displayName": "Mariia Korliakova",
      "userId": "14165537686129864864"
     },
     "user_tz": -180
    },
    "id": "m4VEw8Ud9Quh",
    "outputId": "8be50e99-d99f-4f7b-944e-8a1f82a00768"
   },
   "outputs": [
    {
     "data": {
      "image/png": "[encoded data removed]",
      "text/plain": [
       "<Figure size 432x288 with 2 Axes>"
      ]
     },
     "metadata": {
      "needs_background": "light"
     },
     "output_type": "display_data"
    }
   ],
   "source": [
    "plt.figure()\n",
    "plt.imshow(train_images[1110])\n",
    "plt.colorbar()\n",
    "plt.grid(False)\n",
    "plt.show()"
   ]
  },
  {
   "cell_type": "markdown",
   "metadata": {
    "id": "Wz7l27Lz9S1P"
   },
   "source": [
    "Для процесса обучения нейронной сети нам важно перевести данные из диапазона от 0 до 255 в диапазон от 0 до 1:"
   ]
  },
  {
   "cell_type": "code",
   "execution_count": 54,
   "metadata": {
    "executionInfo": {
     "elapsed": 5,
     "status": "ok",
     "timestamp": 1665839384322,
     "user": {
      "displayName": "Mariia Korliakova",
      "userId": "14165537686129864864"
     },
     "user_tz": -180
    },
    "id": "bW5WzIPlCaWv"
   },
   "outputs": [],
   "source": [
    "train_images = train_images / 255.0\n",
    "\n",
    "test_images = test_images / 255.0"
   ]
  },
  {
   "cell_type": "markdown",
   "metadata": {
    "id": "Ee638AlnCaWz"
   },
   "source": [
    "Посмотрим первые 25 изображений:"
   ]
  },
  {
   "cell_type": "code",
   "execution_count": 55,
   "metadata": {
    "colab": {
     "base_uri": "https://localhost:8080/",
     "height": 589
    },
    "executionInfo": {
     "elapsed": 1311,
     "status": "ok",
     "timestamp": 1665839385629,
     "user": {
      "displayName": "Mariia Korliakova",
      "userId": "14165537686129864864"
     },
     "user_tz": -180
    },
    "id": "oZTImqg_CaW1",
    "outputId": "94f8cc01-524b-48e1-b2a6-32ab478db00b"
   },
   "outputs": [
    {
     "data": {
      "image/png": "[encoded data removed]",
      "text/plain": [
       "<Figure size 720x720 with 25 Axes>"
      ]
     },
     "metadata": {},
     "output_type": "display_data"
    }
   ],
   "source": [
    "plt.figure(figsize=(10,10))\n",
    "for i in range(25):\n",
    "    plt.subplot(5,5,i+1)\n",
    "    plt.xticks([])\n",
    "    plt.yticks([])\n",
    "    plt.grid(False)\n",
    "    plt.imshow(train_images[i], cmap=plt.cm.binary)\n",
    "    plt.xlabel(class_names[train_labels[i]])\n",
    "plt.show()"
   ]
  },
  {
   "cell_type": "markdown",
   "metadata": {
    "id": "59veuiEZCaW4"
   },
   "source": [
    "## Построение модели\n",
    "\n",
    "Построение нейронной сети подразумевает конфигурацию ее слоев и последующую компиляцию."
   ]
  },
  {
   "cell_type": "markdown",
   "metadata": {
    "id": "Gxg1XGm0eOBy"
   },
   "source": [
    "### Определение слоев\n",
    "\n",
    "Давайте создадим 3 слоя нейронной сети с помощью функционала Keras.layers"
   ]
  },
  {
   "cell_type": "code",
   "execution_count": 56,
   "metadata": {
    "executionInfo": {
     "elapsed": 11,
     "status": "ok",
     "timestamp": 1665839385629,
     "user": {
      "displayName": "Mariia Korliakova",
      "userId": "14165537686129864864"
     },
     "user_tz": -180
    },
    "id": "bSwpguOgo66i"
   },
   "outputs": [],
   "source": [
    "from tensorflow.keras.layers import Input, Flatten\n",
    "from tensorflow.keras.models import Model\n",
    "import tensorflow"
   ]
  },
  {
   "cell_type": "code",
   "execution_count": 57,
   "metadata": {
    "executionInfo": {
     "elapsed": 10,
     "status": "ok",
     "timestamp": 1665839385629,
     "user": {
      "displayName": "Mariia Korliakova",
      "userId": "14165537686129864864"
     },
     "user_tz": -180
    },
    "id": "9ODch-OFCaW4"
   },
   "outputs": [],
   "source": [
    "model = keras.Sequential([\n",
    "    keras.layers.Flatten(input_shape=(28, 28)),\n",
    "    keras.layers.Dense(128, activation='relu'),\n",
    "    keras.layers.Dense(10)\n",
    "])"
   ]
  },
  {
   "cell_type": "markdown",
   "metadata": {
    "id": "SPGsEc5l4_8J"
   },
   "source": [
    "Соберем модель в функциональной форме (функциональное API Keras) \n",
    "\n",
    "Сеть собираем как последовательности соединей узлов:\n",
    " \n",
    " вход -> слой 1 -> слой 2 -> выход\n",
    "\n",
    " связь идет через тензоры"
   ]
  },
  {
   "cell_type": "code",
   "execution_count": 58,
   "metadata": {
    "colab": {
     "base_uri": "https://localhost:8080/"
    },
    "executionInfo": {
     "elapsed": 10,
     "status": "ok",
     "timestamp": 1665839385630,
     "user": {
      "displayName": "Mariia Korliakova",
      "userId": "14165537686129864864"
     },
     "user_tz": -180
    },
    "id": "pCb24tU45MXG",
    "outputId": "c3c094bd-8c66-4e34-a2f3-6bd19d459265"
   },
   "outputs": [
    {
     "name": "stdout",
     "output_type": "stream",
     "text": [
      "Model: \"sequential_9\"\n",
      "_________________________________________________________________\n",
      " Layer (type)                Output Shape              Param #   \n",
      "=================================================================\n",
      " flatten (Flatten)           (None, 784)               0         \n",
      "                                                                 \n",
      " dense_27 (Dense)            (None, 128)               100480    \n",
      "                                                                 \n",
      " dense_28 (Dense)            (None, 10)                1290      \n",
      "                                                                 \n",
      "=================================================================\n",
      "Total params: 101,770\n",
      "Trainable params: 101,770\n",
      "Non-trainable params: 0\n",
      "_________________________________________________________________\n"
     ]
    }
   ],
   "source": [
    "model.summary()"
   ]
  },
  {
   "cell_type": "code",
   "execution_count": 59,
   "metadata": {
    "executionInfo": {
     "elapsed": 563,
     "status": "ok",
     "timestamp": 1665839386190,
     "user": {
      "displayName": "Mariia Korliakova",
      "userId": "14165537686129864864"
     },
     "user_tz": -180
    },
    "id": "P9V7ENde4t1S"
   },
   "outputs": [],
   "source": [
    "inputs = Input( shape=(28, 28))\n",
    "x_1 = keras.layers.Flatten()(inputs)\n",
    "x = keras.layers.Dense(128, activation='relu')(x_1)\n",
    "outputs = keras.layers.Dense(10)(x)\n",
    "\n",
    "model = keras.Model(  inputs,outputs)"
   ]
  },
  {
   "cell_type": "code",
   "execution_count": 60,
   "metadata": {
    "colab": {
     "base_uri": "https://localhost:8080/"
    },
    "executionInfo": {
     "elapsed": 9,
     "status": "ok",
     "timestamp": 1665839386191,
     "user": {
      "displayName": "Mariia Korliakova",
      "userId": "14165537686129864864"
     },
     "user_tz": -180
    },
    "id": "Cu7Rm7zw6Una",
    "outputId": "3742a758-051f-425d-ae02-f3ac7066a009"
   },
   "outputs": [
    {
     "name": "stdout",
     "output_type": "stream",
     "text": [
      "Model: \"model\"\n",
      "_________________________________________________________________\n",
      " Layer (type)                Output Shape              Param #   \n",
      "=================================================================\n",
      " input_1 (InputLayer)        [(None, 28, 28)]          0         \n",
      "                                                                 \n",
      " flatten_1 (Flatten)         (None, 784)               0         \n",
      "                                                                 \n",
      " dense_29 (Dense)            (None, 128)               100480    \n",
      "                                                                 \n",
      " dense_30 (Dense)            (None, 10)                1290      \n",
      "                                                                 \n",
      "=================================================================\n",
      "Total params: 101,770\n",
      "Trainable params: 101,770\n",
      "Non-trainable params: 0\n",
      "_________________________________________________________________\n"
     ]
    }
   ],
   "source": [
    "model.summary()"
   ]
  },
  {
   "cell_type": "markdown",
   "metadata": {
    "id": "gut8A_7rCaW6"
   },
   "source": [
    "Первый слой, `tf.keras.layers.Flatten`, трасформирует двумерный массив на входе в одномерный массив.\n",
    "\n",
    "Получившиеся 784(28 x 28) входных нейрона присоединяем к полносвязному слою из 128 нейронов , которые будут использовать функцию активации relu. В выходном слое будет 10 нейронов, по числу классов, которые он должен предсказывать. В нем будет использоваться функция активации softmax и он будет давать предсказание от 0 до 1, где 1 это стопроцентная вероятность.\n",
    "\n",
    "### Компиляция модели\n",
    "\n",
    "Давайте вспомним ключевые понятия, которые нам понадобяться при компиляции:\n",
    "\n",
    "* *Loss function* — меряет как точно работает нейросеть.\n",
    "* *Optimizer* — определяет способ корректировки весов.\n",
    "* *Metrics* — определяет за какие характеристики будут отражаться в процессе обучения."
   ]
  },
  {
   "cell_type": "code",
   "execution_count": 61,
   "metadata": {
    "executionInfo": {
     "elapsed": 6,
     "status": "ok",
     "timestamp": 1665839386191,
     "user": {
      "displayName": "Mariia Korliakova",
      "userId": "14165537686129864864"
     },
     "user_tz": -180
    },
    "id": "Lhan11blCaW7"
   },
   "outputs": [],
   "source": [
    "model.compile(optimizer='adam',\n",
    "              loss=tf.keras.losses.CategoricalCrossentropy(from_logits=True),\n",
    "              metrics=['accuracy'])"
   ]
  },
  {
   "cell_type": "markdown",
   "metadata": {
    "id": "qKF6uW-BCaW-"
   },
   "source": [
    "## Тренировка модели\n",
    "\n",
    "Здесь все стандартно - данные передаются в нейросеть и сопоставляются изображения и лейблы.\n",
    "\n"
   ]
  },
  {
   "cell_type": "markdown",
   "metadata": {
    "id": "Z4P4zIV7E28Z"
   },
   "source": [
    "### Передача данных в модель\n",
    "\n",
    "Команда непосредственно запускающая процесс обучения называется - `model.fit`:"
   ]
  },
  {
   "cell_type": "code",
   "execution_count": 62,
   "metadata": {
    "colab": {
     "base_uri": "https://localhost:8080/"
    },
    "executionInfo": {
     "elapsed": 1043,
     "status": "ok",
     "timestamp": 1665839387229,
     "user": {
      "displayName": "Mariia Korliakova",
      "userId": "14165537686129864864"
     },
     "user_tz": -180
    },
    "id": "xvwvpA64CaW_",
    "outputId": "2d0fb6f1-0618-4dfb-9174-c365fc7c27d5"
   },
   "outputs": [
    {
     "name": "stdout",
     "output_type": "stream",
     "text": [
      "Epoch 1/3\n",
      "60/60 [==============================] - 1s 4ms/step - loss: 0.8440 - accuracy: 0.7162\n",
      "Epoch 2/3\n",
      "60/60 [==============================] - 0s 4ms/step - loss: 0.5115 - accuracy: 0.8262\n",
      "Epoch 3/3\n",
      "60/60 [==============================] - 0s 4ms/step - loss: 0.4538 - accuracy: 0.8458\n"
     ]
    },
    {
     "data": {
      "text/plain": [
       "<keras.callbacks.History at 0x7f30a6950090>"
      ]
     },
     "execution_count": 62,
     "metadata": {},
     "output_type": "execute_result"
    }
   ],
   "source": [
    "model.fit(train_images, y_train_labels, epochs=3, batch_size=1000)"
   ]
  },
  {
   "cell_type": "code",
   "execution_count": 63,
   "metadata": {
    "colab": {
     "base_uri": "https://localhost:8080/"
    },
    "executionInfo": {
     "elapsed": 1393,
     "status": "ok",
     "timestamp": 1665839388987,
     "user": {
      "displayName": "Mariia Korliakova",
      "userId": "14165537686129864864"
     },
     "user_tz": -180
    },
    "id": "VflXLEeECaXC",
    "outputId": "ad67eafc-31d2-4122-f259-c36d155d049f"
   },
   "outputs": [
    {
     "name": "stdout",
     "output_type": "stream",
     "text": [
      "313/313 - 1s - loss: 0.4683 - accuracy: 0.8396 - 726ms/epoch - 2ms/step\n",
      "\n",
      "Test accuracy: 0.8396000266075134\n"
     ]
    }
   ],
   "source": [
    "test_loss, test_acc = model.evaluate(test_images,  y_test_labels, verbose=2)\n",
    "\n",
    "print('\\nTest accuracy:', test_acc)"
   ]
  },
  {
   "cell_type": "markdown",
   "metadata": {
    "id": "ThiOOMngFzRw"
   },
   "source": [
    "В выводе выше мы следим за точностью в процессе обучения, проверяем точность на тестовых данных и меняем параметры нейросети если точность на тестовых данных нас не устраивает."
   ]
  },
  {
   "cell_type": "code",
   "execution_count": 64,
   "metadata": {
    "colab": {
     "base_uri": "https://localhost:8080/"
    },
    "executionInfo": {
     "elapsed": 9,
     "status": "ok",
     "timestamp": 1665839388987,
     "user": {
      "displayName": "Mariia Korliakova",
      "userId": "14165537686129864864"
     },
     "user_tz": -180
    },
    "id": "lr_bHCQ8p8rY",
    "outputId": "2a9d0e0c-df3a-42a4-b87e-81368188b583"
   },
   "outputs": [
    {
     "name": "stdout",
     "output_type": "stream",
     "text": [
      "1/1 [==============================] - 0s 64ms/step\n"
     ]
    }
   ],
   "source": [
    "y_p = model.predict(test_images[:1,:,:])"
   ]
  },
  {
   "cell_type": "code",
   "execution_count": 65,
   "metadata": {
    "colab": {
     "base_uri": "https://localhost:8080/"
    },
    "executionInfo": {
     "elapsed": 8,
     "status": "ok",
     "timestamp": 1665839388988,
     "user": {
      "displayName": "Mariia Korliakova",
      "userId": "14165537686129864864"
     },
     "user_tz": -180
    },
    "id": "X5ZI0O2aqGBs",
    "outputId": "b30fb1f8-1146-4679-bac4-737f6e0a8fcd"
   },
   "outputs": [
    {
     "data": {
      "text/plain": [
       "array([[-3.259725 , -3.5233014, -2.5358067, -2.7819216, -2.715155 ,\n",
       "         4.978874 , -1.3782787,  5.0520296,  2.030232 ,  6.1999326]],\n",
       "      dtype=float32)"
      ]
     },
     "execution_count": 65,
     "metadata": {},
     "output_type": "execute_result"
    }
   ],
   "source": [
    "y_p"
   ]
  },
  {
   "cell_type": "code",
   "execution_count": 66,
   "metadata": {
    "colab": {
     "base_uri": "https://localhost:8080/"
    },
    "executionInfo": {
     "elapsed": 6,
     "status": "ok",
     "timestamp": 1665839388988,
     "user": {
      "displayName": "Mariia Korliakova",
      "userId": "14165537686129864864"
     },
     "user_tz": -180
    },
    "id": "fKG0Dm1jp355",
    "outputId": "f9d18ef5-b512-434f-e8da-a1abdd571758"
   },
   "outputs": [
    {
     "data": {
      "text/plain": [
       "9"
      ]
     },
     "execution_count": 66,
     "metadata": {},
     "output_type": "execute_result"
    }
   ],
   "source": [
    "np.argmax(y_p[0])"
   ]
  },
  {
   "cell_type": "markdown",
   "metadata": {
    "id": "v-PyD1SYE28q"
   },
   "source": [
    "### Предсказания нейросети\n",
    "\n",
    "Команды ниже позволяют проверить работу натренированной ранее нейросети - "
   ]
  },
  {
   "cell_type": "code",
   "execution_count": 67,
   "metadata": {
    "executionInfo": {
     "elapsed": 5,
     "status": "ok",
     "timestamp": 1665839388988,
     "user": {
      "displayName": "Mariia Korliakova",
      "userId": "14165537686129864864"
     },
     "user_tz": -180
    },
    "id": "DnfNA0CrQLSD"
   },
   "outputs": [],
   "source": [
    "probability_model = tf.keras.Sequential([model, \n",
    "                                         tf.keras.layers.Softmax()])"
   ]
  },
  {
   "cell_type": "code",
   "execution_count": 68,
   "metadata": {
    "colab": {
     "base_uri": "https://localhost:8080/"
    },
    "executionInfo": {
     "elapsed": 866,
     "status": "ok",
     "timestamp": 1665839389850,
     "user": {
      "displayName": "Mariia Korliakova",
      "userId": "14165537686129864864"
     },
     "user_tz": -180
    },
    "id": "Gl91RPhdCaXI",
    "outputId": "87fd056d-0f87-42ef-9c58-1e477a441702"
   },
   "outputs": [
    {
     "name": "stdout",
     "output_type": "stream",
     "text": [
      "313/313 [==============================] - 1s 1ms/step\n"
     ]
    }
   ],
   "source": [
    "predictions = probability_model.predict(test_images)"
   ]
  },
  {
   "cell_type": "code",
   "execution_count": 69,
   "metadata": {
    "colab": {
     "base_uri": "https://localhost:8080/"
    },
    "executionInfo": {
     "elapsed": 9,
     "status": "ok",
     "timestamp": 1665839389850,
     "user": {
      "displayName": "Mariia Korliakova",
      "userId": "14165537686129864864"
     },
     "user_tz": -180
    },
    "id": "3DmJEUinCaXK",
    "outputId": "0a74daba-02cd-4bb9-d86d-c2b65cca4ac4"
   },
   "outputs": [
    {
     "data": {
      "text/plain": [
       "0.99999994"
      ]
     },
     "execution_count": 69,
     "metadata": {},
     "output_type": "execute_result"
    }
   ],
   "source": [
    "predictions[0].sum()"
   ]
  },
  {
   "cell_type": "code",
   "execution_count": 70,
   "metadata": {
    "colab": {
     "base_uri": "https://localhost:8080/"
    },
    "executionInfo": {
     "elapsed": 9,
     "status": "ok",
     "timestamp": 1665839389851,
     "user": {
      "displayName": "Mariia Korliakova",
      "userId": "14165537686129864864"
     },
     "user_tz": -180
    },
    "id": "qsqenuPnCaXO",
    "outputId": "188544ec-01e8-46fe-e4ec-ba439e3e8ca5"
   },
   "outputs": [
    {
     "data": {
      "text/plain": [
       "9"
      ]
     },
     "execution_count": 70,
     "metadata": {},
     "output_type": "execute_result"
    }
   ],
   "source": [
    "np.argmax(predictions[0])"
   ]
  },
  {
   "cell_type": "code",
   "execution_count": 71,
   "metadata": {
    "colab": {
     "base_uri": "https://localhost:8080/"
    },
    "executionInfo": {
     "elapsed": 7,
     "status": "ok",
     "timestamp": 1665839389851,
     "user": {
      "displayName": "Mariia Korliakova",
      "userId": "14165537686129864864"
     },
     "user_tz": -180
    },
    "id": "A2GkcENyzPb-",
    "outputId": "57df26a4-3ac2-4ea2-fcfa-213dc6113ff5"
   },
   "outputs": [
    {
     "data": {
      "text/plain": [
       "array([4.7848589e-05, 3.6762049e-05, 9.8687728e-05, 7.7157347e-05,\n",
       "       8.2484679e-05, 1.8107045e-01, 3.1402998e-04, 1.9481318e-01,\n",
       "       9.4900504e-03, 6.1396933e-01], dtype=float32)"
      ]
     },
     "execution_count": 71,
     "metadata": {},
     "output_type": "execute_result"
    }
   ],
   "source": [
    "predictions[0]"
   ]
  },
  {
   "cell_type": "code",
   "execution_count": 72,
   "metadata": {
    "colab": {
     "base_uri": "https://localhost:8080/"
    },
    "executionInfo": {
     "elapsed": 6,
     "status": "ok",
     "timestamp": 1665839389851,
     "user": {
      "displayName": "Mariia Korliakova",
      "userId": "14165537686129864864"
     },
     "user_tz": -180
    },
    "id": "Sd7Pgsu6CaXP",
    "outputId": "2307b488-7b90-4a5c-809f-cc5c371e22eb"
   },
   "outputs": [
    {
     "data": {
      "text/plain": [
       "9"
      ]
     },
     "execution_count": 72,
     "metadata": {},
     "output_type": "execute_result"
    }
   ],
   "source": [
    "test_labels[0]"
   ]
  },
  {
   "cell_type": "code",
   "execution_count": 73,
   "metadata": {
    "executionInfo": {
     "elapsed": 5,
     "status": "ok",
     "timestamp": 1665839389851,
     "user": {
      "displayName": "Mariia Korliakova",
      "userId": "14165537686129864864"
     },
     "user_tz": -180
    },
    "id": "DvYmmrpIy6Y1"
   },
   "outputs": [],
   "source": [
    "def plot_image(i, predictions_array, true_label, img):\n",
    "  predictions_array, true_label, img = predictions_array, true_label[i], img[i]\n",
    "  plt.grid(False)\n",
    "  plt.xticks([])\n",
    "  plt.yticks([])\n",
    "\n",
    "  plt.imshow(img, cmap=plt.cm.binary)\n",
    "\n",
    "  predicted_label = np.argmax(predictions_array)\n",
    "  if predicted_label == true_label:\n",
    "    color = 'blue'\n",
    "  else:\n",
    "    color = 'red'\n",
    "\n",
    "  plt.xlabel(\"{} {:2.0f}% ({})\".format(class_names[predicted_label],\n",
    "                                100*np.max(predictions_array),\n",
    "                                class_names[true_label]),\n",
    "                                color=color)\n",
    "\n",
    "def plot_value_array(i, predictions_array, true_label):\n",
    "  predictions_array, true_label = predictions_array, true_label[i]\n",
    "  plt.grid(False)\n",
    "  plt.xticks(range(10))\n",
    "  plt.yticks([])\n",
    "  thisplot = plt.bar(range(10), predictions_array, color=\"#777777\")\n",
    "  plt.ylim([0, 1])\n",
    "  predicted_label = np.argmax(predictions_array)\n",
    "\n",
    "  thisplot[predicted_label].set_color('red')\n",
    "  thisplot[true_label].set_color('blue')"
   ]
  },
  {
   "cell_type": "markdown",
   "metadata": {
    "id": "Zh9yABaME29S"
   },
   "source": [
    "### Проверка предсказаний\n",
    "\n",
    "Matplotlib нам дает возможность посмотреть наше предсказание графически:"
   ]
  },
  {
   "cell_type": "code",
   "execution_count": 74,
   "metadata": {
    "colab": {
     "base_uri": "https://localhost:8080/",
     "height": 211
    },
    "executionInfo": {
     "elapsed": 6,
     "status": "ok",
     "timestamp": 1665839389852,
     "user": {
      "displayName": "Mariia Korliakova",
      "userId": "14165537686129864864"
     },
     "user_tz": -180
    },
    "id": "HV5jw-5HwSmO",
    "outputId": "8dc87068-1612-482a-8e25-62eeb381783c"
   },
   "outputs": [
    {
     "data": {
      "image/png": "[encoded data removed]",
      "text/plain": [
       "<Figure size 432x216 with 2 Axes>"
      ]
     },
     "metadata": {
      "needs_background": "light"
     },
     "output_type": "display_data"
    }
   ],
   "source": [
    "i = 101\n",
    "plt.figure(figsize=(6,3))\n",
    "plt.subplot(1,2,1)\n",
    "plot_image(i, predictions[i], test_labels, test_images)\n",
    "plt.subplot(1,2,2)\n",
    "plot_value_array(i, predictions[i],  test_labels)\n",
    "plt.show()"
   ]
  },
  {
   "cell_type": "code",
   "execution_count": 75,
   "metadata": {
    "colab": {
     "base_uri": "https://localhost:8080/",
     "height": 211
    },
    "executionInfo": {
     "elapsed": 383,
     "status": "ok",
     "timestamp": 1665839390229,
     "user": {
      "displayName": "Mariia Korliakova",
      "userId": "14165537686129864864"
     },
     "user_tz": -180
    },
    "id": "Ko-uzOufSCSe",
    "outputId": "c13942bb-be54-4177-dd71-10712b316711"
   },
   "outputs": [
    {
     "data": {
      "image/png": "[encoded data removed]",
      "text/plain": [
       "<Figure size 432x216 with 2 Axes>"
      ]
     },
     "metadata": {
      "needs_background": "light"
     },
     "output_type": "display_data"
    }
   ],
   "source": [
    "i = 5\n",
    "plt.figure(figsize=(6,3))\n",
    "plt.subplot(1,2,1)\n",
    "plot_image(i, predictions[i], test_labels, test_images)\n",
    "plt.subplot(1,2,2)\n",
    "plot_value_array(i, predictions[i],  test_labels)\n",
    "plt.show()"
   ]
  },
  {
   "cell_type": "markdown",
   "metadata": {
    "id": "kgdvGD52CaXR"
   },
   "source": [
    "Давайте сделаем еще несколько предсказаний - "
   ]
  },
  {
   "cell_type": "code",
   "execution_count": 76,
   "metadata": {
    "colab": {
     "base_uri": "https://localhost:8080/",
     "height": 729
    },
    "executionInfo": {
     "elapsed": 2218,
     "status": "ok",
     "timestamp": 1665839392444,
     "user": {
      "displayName": "Mariia Korliakova",
      "userId": "14165537686129864864"
     },
     "user_tz": -180
    },
    "id": "hQlnbqaw2Qu_",
    "outputId": "bd469671-866e-4983-9966-31ccbd5e1e66"
   },
   "outputs": [
    {
     "data": {
      "image/png": "[encoded data removed]",
      "text/plain": [
       "<Figure size 864x720 with 30 Axes>"
      ]
     },
     "metadata": {
      "needs_background": "light"
     },
     "output_type": "display_data"
    }
   ],
   "source": [
    "\n",
    "num_rows = 5\n",
    "num_cols = 3\n",
    "num_images = num_rows*num_cols\n",
    "plt.figure(figsize=(2*2*num_cols, 2*num_rows))\n",
    "for i in range(num_images):\n",
    "  plt.subplot(num_rows, 2*num_cols, 2*i+1)\n",
    "  plot_image(i, predictions[i], test_labels, test_images)\n",
    "  plt.subplot(num_rows, 2*num_cols, 2*i+2)\n",
    "  plot_value_array(i, predictions[i], test_labels)\n",
    "plt.tight_layout()\n",
    "plt.show()"
   ]
  },
  {
   "cell_type": "markdown",
   "metadata": {
    "id": "R32zteKHCaXT"
   },
   "source": [
    "## Использование полученной модели\n",
    "\n",
    "Давайте возьмем одно изображение из тестовой выборке и посмотрим предсказание нейронной сети - "
   ]
  },
  {
   "cell_type": "code",
   "execution_count": 77,
   "metadata": {
    "colab": {
     "base_uri": "https://localhost:8080/"
    },
    "executionInfo": {
     "elapsed": 12,
     "status": "ok",
     "timestamp": 1665839392444,
     "user": {
      "displayName": "Mariia Korliakova",
      "userId": "14165537686129864864"
     },
     "user_tz": -180
    },
    "id": "yRJ7JU7JCaXT",
    "outputId": "3776b964-4027-4b22-bb28-c898801c6137"
   },
   "outputs": [
    {
     "name": "stdout",
     "output_type": "stream",
     "text": [
      "(28, 28)\n"
     ]
    }
   ],
   "source": [
    "\n",
    "img1 = test_images[1]\n",
    "\n",
    "print(img1.shape)"
   ]
  },
  {
   "cell_type": "code",
   "execution_count": 78,
   "metadata": {
    "colab": {
     "base_uri": "https://localhost:8080/"
    },
    "executionInfo": {
     "elapsed": 9,
     "status": "ok",
     "timestamp": 1665839392444,
     "user": {
      "displayName": "Mariia Korliakova",
      "userId": "14165537686129864864"
     },
     "user_tz": -180
    },
    "id": "lDFh5yF_CaXW",
    "outputId": "7dc078b5-5253-49eb-c131-12d5e324ad8c"
   },
   "outputs": [
    {
     "name": "stdout",
     "output_type": "stream",
     "text": [
      "(1, 28, 28)\n"
     ]
    }
   ],
   "source": [
    "# Add the image to a batch where it's the only member.\n",
    "img = (np.expand_dims(img1,0))\n",
    "\n",
    "print(img.shape)"
   ]
  },
  {
   "cell_type": "code",
   "execution_count": 79,
   "metadata": {
    "colab": {
     "base_uri": "https://localhost:8080/"
    },
    "executionInfo": {
     "elapsed": 7,
     "status": "ok",
     "timestamp": 1665839392444,
     "user": {
      "displayName": "Mariia Korliakova",
      "userId": "14165537686129864864"
     },
     "user_tz": -180
    },
    "id": "o_rzNSdrCaXY",
    "outputId": "53a8c203-4aba-40a4-ea97-7b10d9ee0923"
   },
   "outputs": [
    {
     "name": "stdout",
     "output_type": "stream",
     "text": [
      "1/1 [==============================] - 0s 14ms/step\n",
      "[[1.1402626e-04 1.0504652e-06 9.4518399e-01 8.7082508e-06 8.5678855e-03\n",
      "  1.4791043e-07 4.6107635e-02 8.7888624e-10 1.6686416e-05 6.4378405e-09]]\n"
     ]
    }
   ],
   "source": [
    "predictions_single = probability_model.predict(img)\n",
    "\n",
    "print(predictions_single)"
   ]
  },
  {
   "cell_type": "code",
   "execution_count": 80,
   "metadata": {
    "colab": {
     "base_uri": "https://localhost:8080/",
     "height": 300
    },
    "executionInfo": {
     "elapsed": 6,
     "status": "ok",
     "timestamp": 1665839392445,
     "user": {
      "displayName": "Mariia Korliakova",
      "userId": "14165537686129864864"
     },
     "user_tz": -180
    },
    "id": "6Ai-cpLjO-3A",
    "outputId": "96b17b79-8ce2-4ee0-e610-e041a9553905"
   },
   "outputs": [
    {
     "data": {
      "image/png": "[encoded data removed]",
      "text/plain": [
       "<Figure size 432x288 with 1 Axes>"
      ]
     },
     "metadata": {
      "needs_background": "light"
     },
     "output_type": "display_data"
    }
   ],
   "source": [
    "plot_value_array(1, predictions_single[0], test_labels)\n",
    "_ = plt.xticks(range(10), class_names, rotation=45)"
   ]
  },
  {
   "cell_type": "markdown",
   "metadata": {
    "id": "cU1Y2OAMCaXb"
   },
   "source": [
    "`keras.Model.predict` возвращает список списков — по одному списку для каждого предсказания в батче. Нам нужны предсказания только для одного изображения:"
   ]
  },
  {
   "cell_type": "code",
   "execution_count": 81,
   "metadata": {
    "colab": {
     "base_uri": "https://localhost:8080/"
    },
    "executionInfo": {
     "elapsed": 6,
     "status": "ok",
     "timestamp": 1665839392445,
     "user": {
      "displayName": "Mariia Korliakova",
      "userId": "14165537686129864864"
     },
     "user_tz": -180
    },
    "id": "2tRmdq_8CaXb",
    "outputId": "296fd808-72f4-4e7b-b10f-163382a7f576"
   },
   "outputs": [
    {
     "data": {
      "text/plain": [
       "2"
      ]
     },
     "execution_count": 81,
     "metadata": {},
     "output_type": "execute_result"
    }
   ],
   "source": [
    "np.argmax(predictions_single[0])"
   ]
  },
  {
   "cell_type": "markdown",
   "metadata": {
    "id": "oiAdZfhLtMJ5"
   },
   "source": [
    "## **Проведем анализ работы модели по слоям**\n",
    "\n",
    "Состояние узлов в сети по эпохам (пакетам) и слоям можно оценить используя средства tensorflow через объект GradientTape() - исполняет шаг вычисления градиента для модели по ее loss для всех тренируемых весов модели (<имя модели>.trainable_weights) (см. https://www.tensorflow.org/guide/basic_training_loops, https://www.tensorflow.org/api_docs/python/tf/GradientTape)\n",
    "\n",
    "\n",
    "данные для обучения получим из tensorflow.data.Dataset (https://www.tensorflow.org/guide/data), куда передаем выборку , а на выходе получаем генератор пакетов заданного размера"
   ]
  },
  {
   "cell_type": "code",
   "execution_count": 82,
   "metadata": {
    "executionInfo": {
     "elapsed": 368,
     "status": "ok",
     "timestamp": 1665839392808,
     "user": {
      "displayName": "Mariia Korliakova",
      "userId": "14165537686129864864"
     },
     "user_tz": -180
    },
    "id": "X_NOoAuiKZko"
   },
   "outputs": [],
   "source": [
    "import tensorflow.nn as nn"
   ]
  },
  {
   "cell_type": "code",
   "execution_count": 83,
   "metadata": {
    "colab": {
     "base_uri": "https://localhost:8080/"
    },
    "executionInfo": {
     "elapsed": 6682,
     "status": "ok",
     "timestamp": 1665839399486,
     "user": {
      "displayName": "Mariia Korliakova",
      "userId": "14165537686129864864"
     },
     "user_tz": -180
    },
    "id": "OCMo1w13mswi",
    "outputId": "1a2c5e56-89b9-4812-d39e-a337b2e3c8c6"
   },
   "outputs": [
    {
     "name": "stdout",
     "output_type": "stream",
     "text": [
      "Начинаем эпоху 0\n",
      "Потери на обучении (для одного пакета) на шаге 0: 0.08997461199760437\n",
      "Уже увидели: 64 примеров\n",
      "Потери на обучении (для одного пакета) на шаге 20: 0.09000039845705032\n",
      "Уже увидели: 1344 примеров\n",
      "Потери на обучении (для одного пакета) на шаге 40: 0.08998093008995056\n",
      "Уже увидели: 2624 примеров\n",
      "Потери на обучении (для одного пакета) на шаге 60: 0.08999641239643097\n",
      "Уже увидели: 3904 примеров\n",
      "Потери на обучении (для одного пакета) на шаге 80: 0.09002172946929932\n",
      "Уже увидели: 5184 примеров\n",
      "Начинаем эпоху 1\n",
      "Потери на обучении (для одного пакета) на шаге 0: 0.08997121453285217\n",
      "Уже увидели: 64 примеров\n",
      "Потери на обучении (для одного пакета) на шаге 20: 0.08999501913785934\n",
      "Уже увидели: 1344 примеров\n",
      "Потери на обучении (для одного пакета) на шаге 40: 0.08998078852891922\n",
      "Уже увидели: 2624 примеров\n",
      "Потери на обучении (для одного пакета) на шаге 60: 0.0899980440735817\n",
      "Уже увидели: 3904 примеров\n",
      "Потери на обучении (для одного пакета) на шаге 80: 0.09001893550157547\n",
      "Уже увидели: 5184 примеров\n"
     ]
    }
   ],
   "source": [
    "# собираем сеть\n",
    "\n",
    "level =20\n",
    "inputs = Input(shape=(28,28), name='digits') \n",
    "x=Flatten()(inputs)\n",
    "for i in range(level):\n",
    "    x = Dense(64,  name='dense_'+str(i))(x) \n",
    "  \n",
    "    #x = tf.nn.relu(x)\n",
    "    #x = Dense(64, name='dense_'+str(i))(x)\n",
    "    #x = nn.sigmoid(x) \n",
    "    x = tf.nn.relu(x)\n",
    "x = Dense(10,name='predictions')(x) \n",
    "outputs =nn.softmax(x)\n",
    "modelg = Model(inputs=inputs, outputs=outputs) \n",
    "\n",
    "\n",
    "\n",
    "\n",
    "# Создадим экземпляр оптимизатора. \n",
    "optimizer = tensorflow.keras.optimizers.SGD(learning_rate=1e-3) \n",
    "# Instantiate a loss function. \n",
    "loss_fn = tensorflow.keras.losses.MeanSquaredError() #(from_logits=True) \n",
    "# Подготовим тренировочный датасет. \n",
    "batch_size = 64 \n",
    "# Итерируем по эпохам.\n",
    "grad_log=[]\n",
    "\n",
    "epochs=2  # учим немного, т.к. задача посмотреть , что происходит с градиентом\n",
    "for epoch in range(epochs): \n",
    "  print('Начинаем эпоху %d' % (epoch,)) \n",
    "  # Итерируем по пакетам в датасете. \n",
    "   \n",
    "  for step, (x_batch_train, y_batch_train) in enumerate(zip(train_images[:100,:,:], y_train_labels[:100])):\n",
    "    # Откроем GradientTape чтобы записать операции # выполняемые во время прямого прохода, \n",
    "    #включающего автодифференцирование. \n",
    "    with tensorflow.GradientTape() as tape: \n",
    "      # Запустим прямой проход слоя. \n",
    "      # Операции применяемые слоем к своим \n",
    "      # входным данным будут записаны \n",
    "      # на GradientTape. \n",
    "      loggits = modelg(x_batch_train.reshape((1,28,28))) \n",
    "      # loggits для пакета  - выходы модели \n",
    "      # Вычислим значение потерь для этого пакета. \n",
    "      y_batch_train = y_batch_train.reshape(1,10)\n",
    "      y_s=y_batch_train.shape\n",
    "      y  = tensorflow.reshape( y_batch_train,shape=(y_s[0],10,1))\n",
    "      l = tensorflow.reshape( loggits,shape=(y_s[0],10,1))\n",
    "      # вызываем лосс\n",
    "      loss_value = loss_fn(y, l) \n",
    "      # Используем gradient tape для автоматического извлечения градиентов \n",
    "      # обучаемых переменных относительно потерь. \n",
    "      grads = tape.gradient(loss_value, modelg.trainable_weights) \n",
    "      g_g=[]\n",
    "      w_w =[]\n",
    "      # пишем логи для сохранения значений градиента и веса по одной цепи \n",
    "      # (0-й канал распространения активности)\n",
    "      for g_s in grads:\n",
    "        # допишем логи значений градиента в зависимости от размера тензора градиента\n",
    "        if len(g_s.numpy().shape)==1:\n",
    "         \n",
    "          g_g.append(g_s.numpy()[0])\n",
    "        if len(g_s.numpy().shape)==2:\n",
    "          \n",
    "          g_g.append(g_s.numpy()[0,0]) \n",
    "        if len(g_s.numpy().shape)==3:\n",
    "          \n",
    "          g_g.append(g_s.numpy()[0,0,0]) \n",
    "        if len(g_s.numpy().shape)==4:\n",
    "          \n",
    "          g_g.append(g_s.numpy()[0,0,0,0])  \n",
    "\n",
    "              \n",
    "      # добавляем текущие логи по слоям к общей записи\n",
    "      grad_log.append(g_g)\n",
    "\n",
    "      # Выполним один шаг градиентного спуска обновив # значение переменных минимизирующих потери. \n",
    "      optimizer.apply_gradients(zip(grads, modelg.trainable_weights)) \n",
    "      # Пишем лог каждые 200 пакетов. \n",
    "      if step % 20 == 0: \n",
    "        print('Потери на обучении (для одного пакета) на шаге %s: %s' % (step, float(loss_value))) \n",
    "        print('Уже увидели: %s примеров' % ((step + 1) * batch_size))\n",
    "grad_log=np.array(grad_log)\n",
    "\n"
   ]
  },
  {
   "cell_type": "code",
   "execution_count": 84,
   "metadata": {
    "colab": {
     "base_uri": "https://localhost:8080/"
    },
    "executionInfo": {
     "elapsed": 921,
     "status": "ok",
     "timestamp": 1665839400389,
     "user": {
      "displayName": "Mariia Korliakova",
      "userId": "14165537686129864864"
     },
     "user_tz": -180
    },
    "id": "InVNvyKeu1Nm",
    "outputId": "9535346a-b289-4f90-d27e-6726ce1e87c9"
   },
   "outputs": [
    {
     "name": "stdout",
     "output_type": "stream",
     "text": [
      "Model: \"model_1\"\n",
      "_________________________________________________________________\n",
      " Layer (type)                Output Shape              Param #   \n",
      "=================================================================\n",
      " digits (InputLayer)         [(None, 28, 28)]          0         \n",
      "                                                                 \n",
      " flatten_2 (Flatten)         (None, 784)               0         \n",
      "                                                                 \n",
      " dense_0 (Dense)             (None, 64)                50240     \n",
      "                                                                 \n",
      " tf.nn.relu (TFOpLambda)     (None, 64)                0         \n",
      "                                                                 \n",
      " dense_1 (Dense)             (None, 64)                4160      \n",
      "                                                                 \n",
      " tf.nn.relu_1 (TFOpLambda)   (None, 64)                0         \n",
      "                                                                 \n",
      " dense_2 (Dense)             (None, 64)                4160      \n",
      "                                                                 \n",
      " tf.nn.relu_2 (TFOpLambda)   (None, 64)                0         \n",
      "                                                                 \n",
      " dense_3 (Dense)             (None, 64)                4160      \n",
      "                                                                 \n",
      " tf.nn.relu_3 (TFOpLambda)   (None, 64)                0         \n",
      "                                                                 \n",
      " dense_4 (Dense)             (None, 64)                4160      \n",
      "                                                                 \n",
      " tf.nn.relu_4 (TFOpLambda)   (None, 64)                0         \n",
      "                                                                 \n",
      " dense_5 (Dense)             (None, 64)                4160      \n",
      "                                                                 \n",
      " tf.nn.relu_5 (TFOpLambda)   (None, 64)                0         \n",
      "                                                                 \n",
      " dense_6 (Dense)             (None, 64)                4160      \n",
      "                                                                 \n",
      " tf.nn.relu_6 (TFOpLambda)   (None, 64)                0         \n",
      "                                                                 \n",
      " dense_7 (Dense)             (None, 64)                4160      \n",
      "                                                                 \n",
      " tf.nn.relu_7 (TFOpLambda)   (None, 64)                0         \n",
      "                                                                 \n",
      " dense_8 (Dense)             (None, 64)                4160      \n",
      "                                                                 \n",
      " tf.nn.relu_8 (TFOpLambda)   (None, 64)                0         \n",
      "                                                                 \n",
      " dense_9 (Dense)             (None, 64)                4160      \n",
      "                                                                 \n",
      " tf.nn.relu_9 (TFOpLambda)   (None, 64)                0         \n",
      "                                                                 \n",
      " dense_10 (Dense)            (None, 64)                4160      \n",
      "                                                                 \n",
      " tf.nn.relu_10 (TFOpLambda)  (None, 64)                0         \n",
      "                                                                 \n",
      " dense_11 (Dense)            (None, 64)                4160      \n",
      "                                                                 \n",
      " tf.nn.relu_11 (TFOpLambda)  (None, 64)                0         \n",
      "                                                                 \n",
      " dense_12 (Dense)            (None, 64)                4160      \n",
      "                                                                 \n",
      " tf.nn.relu_12 (TFOpLambda)  (None, 64)                0         \n",
      "                                                                 \n",
      " dense_13 (Dense)            (None, 64)                4160      \n",
      "                                                                 \n",
      " tf.nn.relu_13 (TFOpLambda)  (None, 64)                0         \n",
      "                                                                 \n",
      " dense_14 (Dense)            (None, 64)                4160      \n",
      "                                                                 \n",
      " tf.nn.relu_14 (TFOpLambda)  (None, 64)                0         \n",
      "                                                                 \n",
      " dense_15 (Dense)            (None, 64)                4160      \n",
      "                                                                 \n",
      " tf.nn.relu_15 (TFOpLambda)  (None, 64)                0         \n",
      "                                                                 \n",
      " dense_16 (Dense)            (None, 64)                4160      \n",
      "                                                                 \n",
      " tf.nn.relu_16 (TFOpLambda)  (None, 64)                0         \n",
      "                                                                 \n",
      " dense_17 (Dense)            (None, 64)                4160      \n",
      "                                                                 \n",
      " tf.nn.relu_17 (TFOpLambda)  (None, 64)                0         \n",
      "                                                                 \n",
      " dense_18 (Dense)            (None, 64)                4160      \n",
      "                                                                 \n",
      " tf.nn.relu_18 (TFOpLambda)  (None, 64)                0         \n",
      "                                                                 \n",
      " dense_19 (Dense)            (None, 64)                4160      \n",
      "                                                                 \n",
      " tf.nn.relu_19 (TFOpLambda)  (None, 64)                0         \n",
      "                                                                 \n",
      " predictions (Dense)         (None, 10)                650       \n",
      "                                                                 \n",
      " tf.nn.softmax (TFOpLambda)  (None, 10)                0         \n",
      "                                                                 \n",
      "=================================================================\n",
      "Total params: 129,930\n",
      "Trainable params: 129,930\n",
      "Non-trainable params: 0\n",
      "_________________________________________________________________\n"
     ]
    }
   ],
   "source": [
    "modelg.summary()"
   ]
  },
  {
   "cell_type": "code",
   "execution_count": 85,
   "metadata": {
    "colab": {
     "base_uri": "https://localhost:8080/",
     "height": 350
    },
    "executionInfo": {
     "elapsed": 6,
     "status": "ok",
     "timestamp": 1665839400389,
     "user": {
      "displayName": "Mariia Korliakova",
      "userId": "14165537686129864864"
     },
     "user_tz": -180
    },
    "id": "PN7GXEPBri2u",
    "outputId": "15c01ffe-a520-47f6-e048-e00f4b56040a"
   },
   "outputs": [
    {
     "data": {
      "image/png": "[encoded data removed]",
      "text/plain": [
       "<Figure size 1152x360 with 1 Axes>"
      ]
     },
     "metadata": {
      "needs_background": "light"
     },
     "output_type": "display_data"
    }
   ],
   "source": [
    "plt.figure(figsize=(16,5))\n",
    "plt.title('Градиент по слоям')\n",
    "plt.xlabel('№ layer')\n",
    "plt.ylabel('grad')\n",
    "plt.grid()\n",
    "plt.plot(np.abs(grad_log[0,:]),'-ob',label='step 0')\n",
    "plt.plot(np.abs(grad_log[10,:]),label='step 10')\n",
    "plt.plot(np.abs(grad_log[100,:]),label='step 100')\n",
    "#plt.plot(np.abs(grad_log[700,:]),label='step 700')\n",
    "plt.legend()\n",
    "plt.show()"
   ]
  },
  {
   "cell_type": "markdown",
   "metadata": {
    "id": "Eh-unHPRwe7M"
   },
   "source": [
    "### Сделаем анализ ошибок модели"
   ]
  },
  {
   "cell_type": "code",
   "execution_count": 86,
   "metadata": {
    "executionInfo": {
     "elapsed": 5,
     "status": "ok",
     "timestamp": 1665839400389,
     "user": {
      "displayName": "Mariia Korliakova",
      "userId": "14165537686129864864"
     },
     "user_tz": -180
    },
    "id": "5c6MdztxalDc"
   },
   "outputs": [],
   "source": [
    "from sklearn.metrics import confusion_matrix, ConfusionMatrixDisplay"
   ]
  },
  {
   "cell_type": "code",
   "execution_count": 87,
   "metadata": {
    "colab": {
     "base_uri": "https://localhost:8080/"
    },
    "executionInfo": {
     "elapsed": 682,
     "status": "ok",
     "timestamp": 1665839401066,
     "user": {
      "displayName": "Mariia Korliakova",
      "userId": "14165537686129864864"
     },
     "user_tz": -180
    },
    "id": "ApcYAUE4dr8q",
    "outputId": "a487db7a-02cf-4b14-ec1e-1a2656e86bab"
   },
   "outputs": [
    {
     "name": "stdout",
     "output_type": "stream",
     "text": [
      "313/313 [==============================] - 1s 2ms/step\n"
     ]
    },
    {
     "data": {
      "text/plain": [
       "array([9, 2, 1, 1, 6, 1, 4, 6, 5, 7])"
      ]
     },
     "execution_count": 87,
     "metadata": {},
     "output_type": "execute_result"
    }
   ],
   "source": [
    "y_pred = np.argmax(probability_model.predict(test_images), axis=1)\n",
    "y_pred[:10]"
   ]
  },
  {
   "cell_type": "code",
   "execution_count": 88,
   "metadata": {
    "colab": {
     "base_uri": "https://localhost:8080/"
    },
    "executionInfo": {
     "elapsed": 7,
     "status": "ok",
     "timestamp": 1665839401066,
     "user": {
      "displayName": "Mariia Korliakova",
      "userId": "14165537686129864864"
     },
     "user_tz": -180
    },
    "id": "DG7c3AV9ekyg",
    "outputId": "55810ef2-476a-4839-aab7-aea7b66d67b0"
   },
   "outputs": [
    {
     "name": "stdout",
     "output_type": "stream",
     "text": [
      "[[765   5  13  52   8   0 136   0  20   1]\n",
      " [  2 950   6  30   7   0   3   0   2   0]\n",
      " [  9   1 709   8 170   1  93   0   9   0]\n",
      " [ 23  12  16 856  46   1  39   0   7   0]\n",
      " [  0   1  87  28 798   1  78   0   7   0]\n",
      " [  1   0   0   2   0 893   0  62   7  35]\n",
      " [116   3 111  35 111   0 598   0  26   0]\n",
      " [  0   0   0   0   0  27   0 938   0  35]\n",
      " [  2   1   8   6   4   4  17   5 953   0]\n",
      " [  0   0   0   0   0  10   2  50   2 936]]\n"
     ]
    }
   ],
   "source": [
    "CM = confusion_matrix(test_labels,y_pred)\n",
    "print(CM)"
   ]
  },
  {
   "cell_type": "code",
   "execution_count": 89,
   "metadata": {
    "colab": {
     "base_uri": "https://localhost:8080/",
     "height": 279
    },
    "executionInfo": {
     "elapsed": 489,
     "status": "ok",
     "timestamp": 1665839401552,
     "user": {
      "displayName": "Mariia Korliakova",
      "userId": "14165537686129864864"
     },
     "user_tz": -180
    },
    "id": "V2kt2VW0i82L",
    "outputId": "7d2b45d7-5848-4960-d8d1-ed884f9aac2c"
   },
   "outputs": [
    {
     "data": {
      "image/png": "[encoded data removed]",
      "text/plain": [
       "<Figure size 432x288 with 2 Axes>"
      ]
     },
     "metadata": {
      "needs_background": "light"
     },
     "output_type": "display_data"
    }
   ],
   "source": [
    "disp = ConfusionMatrixDisplay(confusion_matrix=CM, display_labels=np.arange(10))\n",
    "\n",
    "disp.plot( values_format ='.3g')\n",
    "plt.show()"
   ]
  },
  {
   "cell_type": "code",
   "execution_count": 90,
   "metadata": {
    "colab": {
     "base_uri": "https://localhost:8080/",
     "height": 279
    },
    "executionInfo": {
     "elapsed": 630,
     "status": "ok",
     "timestamp": 1665839402179,
     "user": {
      "displayName": "Mariia Korliakova",
      "userId": "14165537686129864864"
     },
     "user_tz": -180
    },
    "id": "Rvd8zftsgWEC",
    "outputId": "a616d66f-04cf-407f-ed14-c3a2e875fdd3"
   },
   "outputs": [
    {
     "data": {
      "image/png": "[encoded data removed]",
      "text/plain": [
       "<Figure size 432x288 with 2 Axes>"
      ]
     },
     "metadata": {
      "needs_background": "light"
     },
     "output_type": "display_data"
    }
   ],
   "source": [
    "plt.imshow(CM, cmap='hot', interpolation='nearest')\n",
    "plt.colorbar()\n",
    "plt.yticks(ticks=np.arange(10))\n",
    "plt.xticks(ticks=np.arange(10))\n",
    "plt.xlabel('предсказаны')\n",
    "plt.ylabel('истина')\n",
    "plt.show()"
   ]
  },
  {
   "cell_type": "markdown",
   "metadata": {
    "id": "FEq8mmOM3knb"
   },
   "source": [
    "Сеть делает ошибки. Можно их попробовать исправить, если сделать комбинацию сетей (ансамбль) . Проверим вариант усреднения."
   ]
  },
  {
   "cell_type": "markdown",
   "metadata": {
    "id": "hcSnl7L5FzTA"
   },
   "source": [
    "Нейросеть при хорошо подобранных параметрах должна была выдать корректное предсказание\n",
    "\n",
    "\n",
    "Реализуем одинаковые сети в разном стиле:\n",
    "- model1 - линейная модель через список\n",
    "- model2 - линейная модель через добавление слоев по очереди\n",
    "- model3 - модель через функциональное описание\n",
    "\n",
    "У всех 3-х сетей предпоследний слой линейный (это не правильно для классификации и сделано, что бы модель была совсем простой)\n",
    "\n",
    "\n"
   ]
  },
  {
   "cell_type": "code",
   "execution_count": 91,
   "metadata": {
    "colab": {
     "base_uri": "https://localhost:8080/"
    },
    "executionInfo": {
     "elapsed": 7901,
     "status": "ok",
     "timestamp": 1665839410074,
     "user": {
      "displayName": "Mariia Korliakova",
      "userId": "14165537686129864864"
     },
     "user_tz": -180
    },
    "id": "pyurjN_EJN9P",
    "outputId": "fffaa988-b07f-4e78-e90b-cd91fb686600"
   },
   "outputs": [
    {
     "name": "stdout",
     "output_type": "stream",
     "text": [
      "Epoch 1/10\n"
     ]
    },
    {
     "name": "stderr",
     "output_type": "stream",
     "text": [
      "/usr/local/lib/python3.7/dist-packages/tensorflow/python/util/dispatch.py:1082: UserWarning: \"`sparse_categorical_crossentropy` received `from_logits=True`, but the `output` argument was produced by a sigmoid or softmax activation and thus does not represent logits. Was this intended?\"\n",
      "  return dispatch_target(*args, **kwargs)\n"
     ]
    },
    {
     "name": "stdout",
     "output_type": "stream",
     "text": [
      "30/30 [==============================] - 0s 5ms/step - loss: 2.4046 - accuracy: 0.1049\n",
      "Epoch 2/10\n",
      "30/30 [==============================] - 0s 5ms/step - loss: 2.2304 - accuracy: 0.2154\n",
      "Epoch 3/10\n",
      "30/30 [==============================] - 0s 5ms/step - loss: 2.1447 - accuracy: 0.3667\n",
      "Epoch 4/10\n",
      "30/30 [==============================] - 0s 5ms/step - loss: 2.0700 - accuracy: 0.4635\n",
      "Epoch 5/10\n",
      "30/30 [==============================] - 0s 5ms/step - loss: 2.0008 - accuracy: 0.5274\n",
      "Epoch 6/10\n",
      "30/30 [==============================] - 0s 5ms/step - loss: 1.9362 - accuracy: 0.5661\n",
      "Epoch 7/10\n",
      "30/30 [==============================] - 0s 5ms/step - loss: 1.8757 - accuracy: 0.5850\n",
      "Epoch 8/10\n",
      "30/30 [==============================] - 0s 5ms/step - loss: 1.8191 - accuracy: 0.6001\n",
      "Epoch 9/10\n",
      "30/30 [==============================] - 0s 5ms/step - loss: 1.7661 - accuracy: 0.6140\n",
      "Epoch 10/10\n",
      "30/30 [==============================] - 0s 5ms/step - loss: 1.7164 - accuracy: 0.6260\n",
      "Epoch 1/10\n",
      "30/30 [==============================] - 1s 5ms/step - loss: 1.3675 - accuracy: 0.6140\n",
      "Epoch 2/10\n",
      "30/30 [==============================] - 0s 5ms/step - loss: 0.8183 - accuracy: 0.7423\n",
      "Epoch 3/10\n",
      "30/30 [==============================] - 0s 5ms/step - loss: 0.7227 - accuracy: 0.7615\n",
      "Epoch 4/10\n",
      "30/30 [==============================] - 0s 5ms/step - loss: 0.6669 - accuracy: 0.7748\n",
      "Epoch 5/10\n",
      "30/30 [==============================] - 0s 5ms/step - loss: 0.6019 - accuracy: 0.7915\n",
      "Epoch 6/10\n",
      "30/30 [==============================] - 0s 5ms/step - loss: 0.5953 - accuracy: 0.7935\n",
      "Epoch 7/10\n",
      "30/30 [==============================] - 0s 5ms/step - loss: 0.5666 - accuracy: 0.8022\n",
      "Epoch 8/10\n",
      "30/30 [==============================] - 0s 5ms/step - loss: 0.5478 - accuracy: 0.8073\n",
      "Epoch 9/10\n",
      "30/30 [==============================] - 0s 5ms/step - loss: 0.5353 - accuracy: 0.8131\n",
      "Epoch 10/10\n",
      "30/30 [==============================] - 0s 5ms/step - loss: 0.5180 - accuracy: 0.8186\n",
      "Epoch 1/10\n",
      "30/30 [==============================] - 0s 5ms/step - loss: 1.0162 - accuracy: 0.6632\n",
      "Epoch 2/10\n",
      "30/30 [==============================] - 0s 5ms/step - loss: 0.5526 - accuracy: 0.8134\n",
      "Epoch 3/10\n",
      "30/30 [==============================] - 0s 5ms/step - loss: 0.4817 - accuracy: 0.8374\n",
      "Epoch 4/10\n",
      "30/30 [==============================] - 0s 5ms/step - loss: 0.4474 - accuracy: 0.8465\n",
      "Epoch 5/10\n",
      "30/30 [==============================] - 0s 5ms/step - loss: 0.4247 - accuracy: 0.8536\n",
      "Epoch 6/10\n",
      "30/30 [==============================] - 0s 4ms/step - loss: 0.4025 - accuracy: 0.8612\n",
      "Epoch 7/10\n",
      "30/30 [==============================] - 0s 5ms/step - loss: 0.3880 - accuracy: 0.8665\n",
      "Epoch 8/10\n",
      "30/30 [==============================] - 0s 5ms/step - loss: 0.3778 - accuracy: 0.8690\n",
      "Epoch 9/10\n",
      "30/30 [==============================] - 0s 5ms/step - loss: 0.3641 - accuracy: 0.8739\n",
      "Epoch 10/10\n",
      "30/30 [==============================] - 0s 5ms/step - loss: 0.3557 - accuracy: 0.8770\n"
     ]
    }
   ],
   "source": [
    "# заполняем модель списком\n",
    "model1 = keras.Sequential([\n",
    "    keras.layers.Flatten(input_shape=(28, 28)),\n",
    "    keras.layers.Dense(128, activation='sigmoid'),\n",
    "    keras.layers.Dense(10, activation='softmax')\n",
    "])\n",
    "\n",
    "# заполняем модель , добавляя слои последовательно \n",
    "model2 = keras.Sequential()\n",
    "model2.add(keras.layers.Flatten(input_shape=(28, 28)))\n",
    "model2.add(keras.layers.Dense(256, activation='linear'))\n",
    "model2.add(keras.layers.Dense(10, activation='softmax'))\n",
    "\n",
    "\n",
    "# Заполняем модель, формируя граф передачи тензоров\n",
    "x_input = keras.layers.Input(shape=(28,28))\n",
    "x3 = keras.layers.Flatten()(x_input)\n",
    "x3 = keras.layers.Dense(256, activation='relu')(x3)\n",
    "x_output = keras.layers.Dense(10, activation='softmax')(x3)\n",
    "model3=keras.models.Model(x_input,x_output)\n",
    "\n",
    "model1.compile(optimizer='sgd',\n",
    "              loss=tf.keras.losses.SparseCategoricalCrossentropy(from_logits=True),\n",
    "              metrics=['accuracy'])\n",
    "model2.compile(optimizer='rmsprop',\n",
    "              loss=tf.keras.losses.SparseCategoricalCrossentropy(from_logits=True),\n",
    "              metrics=['accuracy'])\n",
    "model3.compile(optimizer='adam',\n",
    "              loss=tf.keras.losses.SparseCategoricalCrossentropy(from_logits=True),\n",
    "              metrics=['accuracy'])\n",
    "\n",
    "hist1=model1.fit(train_images, train_labels, epochs=10, batch_size = 2000)\n",
    "hist2=model2.fit(train_images, train_labels, epochs=10, batch_size = 2000)\n",
    "hist3=model3.fit(train_images, train_labels, epochs=10, batch_size = 2000)\n",
    "\n"
   ]
  },
  {
   "cell_type": "code",
   "execution_count": 92,
   "metadata": {
    "colab": {
     "base_uri": "https://localhost:8080/"
    },
    "executionInfo": {
     "elapsed": 7111,
     "status": "ok",
     "timestamp": 1665839417179,
     "user": {
      "displayName": "Mariia Korliakova",
      "userId": "14165537686129864864"
     },
     "user_tz": -180
    },
    "id": "5xdAX6COhDUd",
    "outputId": "9730044b-11c3-4fed-920f-a6607dd263fa"
   },
   "outputs": [
    {
     "name": "stdout",
     "output_type": "stream",
     "text": [
      "Epoch 1/10\n",
      "30/30 [==============================] - 0s 5ms/step - loss: 1.6698 - accuracy: 0.6373\n",
      "Epoch 2/10\n",
      "30/30 [==============================] - 0s 5ms/step - loss: 1.6262 - accuracy: 0.6442\n",
      "Epoch 3/10\n",
      "30/30 [==============================] - 0s 5ms/step - loss: 1.5853 - accuracy: 0.6547\n",
      "Epoch 4/10\n",
      "30/30 [==============================] - 0s 5ms/step - loss: 1.5469 - accuracy: 0.6597\n",
      "Epoch 5/10\n",
      "30/30 [==============================] - 0s 5ms/step - loss: 1.5108 - accuracy: 0.6666\n",
      "Epoch 6/10\n",
      "30/30 [==============================] - 0s 5ms/step - loss: 1.4769 - accuracy: 0.6729\n",
      "Epoch 7/10\n",
      "30/30 [==============================] - 0s 5ms/step - loss: 1.4450 - accuracy: 0.6755\n",
      "Epoch 8/10\n",
      "30/30 [==============================] - 0s 5ms/step - loss: 1.4149 - accuracy: 0.6815\n",
      "Epoch 9/10\n",
      "30/30 [==============================] - 0s 5ms/step - loss: 1.3866 - accuracy: 0.6853\n",
      "Epoch 10/10\n",
      "30/30 [==============================] - 0s 5ms/step - loss: 1.3598 - accuracy: 0.6896\n",
      "Epoch 1/10\n",
      "30/30 [==============================] - 0s 5ms/step - loss: 0.5176 - accuracy: 0.8199\n",
      "Epoch 2/10\n",
      "30/30 [==============================] - 0s 6ms/step - loss: 0.5029 - accuracy: 0.8228\n",
      "Epoch 3/10\n",
      "30/30 [==============================] - 0s 5ms/step - loss: 0.4958 - accuracy: 0.8241\n",
      "Epoch 4/10\n",
      "30/30 [==============================] - 0s 5ms/step - loss: 0.4849 - accuracy: 0.8302\n",
      "Epoch 5/10\n",
      "30/30 [==============================] - 0s 5ms/step - loss: 0.4874 - accuracy: 0.8294\n",
      "Epoch 6/10\n",
      "30/30 [==============================] - 0s 5ms/step - loss: 0.4814 - accuracy: 0.8311\n",
      "Epoch 7/10\n",
      "30/30 [==============================] - 0s 5ms/step - loss: 0.4732 - accuracy: 0.8332\n",
      "Epoch 8/10\n",
      "30/30 [==============================] - 0s 5ms/step - loss: 0.4700 - accuracy: 0.8336\n",
      "Epoch 9/10\n",
      "30/30 [==============================] - 0s 5ms/step - loss: 0.4677 - accuracy: 0.8333\n",
      "Epoch 10/10\n",
      "30/30 [==============================] - 0s 5ms/step - loss: 0.4631 - accuracy: 0.8378\n",
      "Epoch 1/10\n",
      "30/30 [==============================] - 0s 5ms/step - loss: 0.3461 - accuracy: 0.8794\n",
      "Epoch 2/10\n",
      "30/30 [==============================] - 0s 5ms/step - loss: 0.3405 - accuracy: 0.8808\n",
      "Epoch 3/10\n",
      "30/30 [==============================] - 0s 5ms/step - loss: 0.3376 - accuracy: 0.8810\n",
      "Epoch 4/10\n",
      "30/30 [==============================] - 0s 5ms/step - loss: 0.3247 - accuracy: 0.8865\n",
      "Epoch 5/10\n",
      "30/30 [==============================] - 0s 5ms/step - loss: 0.3172 - accuracy: 0.8888\n",
      "Epoch 6/10\n",
      "30/30 [==============================] - 0s 5ms/step - loss: 0.3146 - accuracy: 0.8894\n",
      "Epoch 7/10\n",
      "30/30 [==============================] - 0s 5ms/step - loss: 0.3094 - accuracy: 0.8906\n",
      "Epoch 8/10\n",
      "30/30 [==============================] - 0s 5ms/step - loss: 0.3023 - accuracy: 0.8946\n",
      "Epoch 9/10\n",
      "30/30 [==============================] - 0s 5ms/step - loss: 0.2967 - accuracy: 0.8943\n",
      "Epoch 10/10\n",
      "30/30 [==============================] - 0s 5ms/step - loss: 0.2923 - accuracy: 0.8960\n"
     ]
    }
   ],
   "source": [
    "hist1=model1.fit(train_images, train_labels, epochs=10, batch_size = 2000)\n",
    "hist2=model2.fit(train_images, train_labels, epochs=10, batch_size = 2000)\n",
    "hist3=model3.fit(train_images, train_labels, epochs=10, batch_size = 2000)"
   ]
  },
  {
   "cell_type": "code",
   "execution_count": 93,
   "metadata": {
    "colab": {
     "base_uri": "https://localhost:8080/",
     "height": 295
    },
    "executionInfo": {
     "elapsed": 13,
     "status": "ok",
     "timestamp": 1665839417180,
     "user": {
      "displayName": "Mariia Korliakova",
      "userId": "14165537686129864864"
     },
     "user_tz": -180
    },
    "id": "N8SMebNEMi37",
    "outputId": "6370c91c-fdea-42b4-cbdc-af4e11c05fd4"
   },
   "outputs": [
    {
     "data": {
      "image/png": "[encoded data removed]",
      "text/plain": [
       "<Figure size 432x288 with 1 Axes>"
      ]
     },
     "metadata": {
      "needs_background": "light"
     },
     "output_type": "display_data"
    }
   ],
   "source": [
    "plt.plot(hist1.history['accuracy'],label='model1 acc sgd')\n",
    "plt.plot(hist2.history['accuracy'],label='model2 acc rmsprop')\n",
    "plt.plot(hist3.history['accuracy'],label ='model3 acc adam')\n",
    "plt.title('точность сетей от эпох')\n",
    "plt.xlabel('эпоха')\n",
    "plt.legend()\n",
    "plt.show()"
   ]
  },
  {
   "cell_type": "code",
   "execution_count": 94,
   "metadata": {
    "colab": {
     "base_uri": "https://localhost:8080/"
    },
    "executionInfo": {
     "elapsed": 1970,
     "status": "ok",
     "timestamp": 1665839419139,
     "user": {
      "displayName": "Mariia Korliakova",
      "userId": "14165537686129864864"
     },
     "user_tz": -180
    },
    "id": "iD4oM4JhPHWn",
    "outputId": "27e0d610-5da8-4194-f180-538943e03a97"
   },
   "outputs": [
    {
     "name": "stdout",
     "output_type": "stream",
     "text": [
      "313/313 [==============================] - 1s 2ms/step\n",
      "313/313 [==============================] - 1s 2ms/step\n",
      "313/313 [==============================] - 1s 2ms/step\n"
     ]
    }
   ],
   "source": [
    "y_pred1 = np.argmax(model1.predict(test_images),axis=1)\n",
    "y_pred2 = np.argmax(model2.predict(test_images),axis=1)\n",
    "y_pred3 = np.argmax(model3.predict(test_images),axis=1)\n",
    "\n",
    "CM1 = confusion_matrix(test_labels,y_pred1)\n",
    "CM2 = confusion_matrix(test_labels,y_pred2)\n",
    "CM3 = confusion_matrix(test_labels,y_pred3)"
   ]
  },
  {
   "cell_type": "code",
   "execution_count": 95,
   "metadata": {
    "colab": {
     "base_uri": "https://localhost:8080/",
     "height": 363
    },
    "executionInfo": {
     "elapsed": 1985,
     "status": "ok",
     "timestamp": 1665839421122,
     "user": {
      "displayName": "Mariia Korliakova",
      "userId": "14165537686129864864"
     },
     "user_tz": -180
    },
    "id": "_3DBsXLN-Q2T",
    "outputId": "2135dbfc-6746-450c-fb7d-93f49c1cb4ce"
   },
   "outputs": [
    {
     "data": {
      "image/png": "[encoded data removed]",
      "text/plain": [
       "<Figure size 1296x432 with 6 Axes>"
      ]
     },
     "metadata": {
      "needs_background": "light"
     },
     "output_type": "display_data"
    }
   ],
   "source": [
    "\n",
    "fig, (ax1, ax2, ax3) = plt.subplots(1, 3, figsize=(18, 6))\n",
    "disp1 = ConfusionMatrixDisplay(confusion_matrix=CM1, display_labels=np.arange(10))\n",
    "disp1.plot( ax=ax1, values_format ='.3g')\n",
    "disp2 = ConfusionMatrixDisplay(confusion_matrix=CM2, display_labels=np.arange(10))\n",
    "disp2.plot( ax=ax2, values_format ='.3g')\n",
    "disp3 = ConfusionMatrixDisplay(confusion_matrix=CM3, display_labels=np.arange(10))\n",
    "disp3.plot( ax=ax3, values_format ='.3g')\n",
    "plt.show()"
   ]
  },
  {
   "cell_type": "code",
   "execution_count": 96,
   "metadata": {
    "executionInfo": {
     "elapsed": 12,
     "status": "ok",
     "timestamp": 1665839421122,
     "user": {
      "displayName": "Mariia Korliakova",
      "userId": "14165537686129864864"
     },
     "user_tz": -180
    },
    "id": "stCJv8cZMQZf"
   },
   "outputs": [],
   "source": [
    "# сохранить модели на диск.\n",
    "model1.save_weights('model1.h5')\n",
    "model2.save_weights('model2.h5')\n",
    "model3.save_weights('model3.h5')\n",
    "# прочитать модели с диска (перед этим, нужно положить их в каталог для работы виртуальной машины Колаборатории):\n",
    "# model.load_weights('model.h5')"
   ]
  },
  {
   "cell_type": "markdown",
   "metadata": {
    "id": "tBd6kDX9qCZ1"
   },
   "source": [
    "Выгрузим на локальную машину нашу модель"
   ]
  },
  {
   "cell_type": "code",
   "execution_count": 97,
   "metadata": {
    "colab": {
     "base_uri": "https://localhost:8080/",
     "height": 34
    },
    "executionInfo": {
     "elapsed": 12,
     "status": "ok",
     "timestamp": 1665839421123,
     "user": {
      "displayName": "Mariia Korliakova",
      "userId": "14165537686129864864"
     },
     "user_tz": -180
    },
    "id": "2mIfT7C773y4",
    "outputId": "57455a15-fc13-4e58-b75f-07887857129e"
   },
   "outputs": [
    {
     "data": {
      "application/javascript": [
       "\n",
       "    async function download(id, filename, size) {\n",
       "      if (!google.colab.kernel.accessAllowed) {\n",
       "        return;\n",
       "      }\n",
       "      const div = document.createElement('div');\n",
       "      const label = document.createElement('label');\n",
       "      label.textContent = `Downloading \"${filename}\": `;\n",
       "      div.appendChild(label);\n",
       "      const progress = document.createElement('progress');\n",
       "      progress.max = size;\n",
       "      div.appendChild(progress);\n",
       "      document.body.appendChild(div);\n",
       "\n",
       "      const buffers = [];\n",
       "      let downloaded = 0;\n",
       "\n",
       "      const channel = await google.colab.kernel.comms.open(id);\n",
       "      // Send a message to notify the kernel that we're ready.\n",
       "      channel.send({})\n",
       "\n",
       "      for await (const message of channel.messages) {\n",
       "        // Send a message to notify the kernel that we're ready.\n",
       "        channel.send({})\n",
       "        if (message.buffers) {\n",
       "          for (const buffer of message.buffers) {\n",
       "            buffers.push(buffer);\n",
       "            downloaded += buffer.byteLength;\n",
       "            progress.value = downloaded;\n",
       "          }\n",
       "        }\n",
       "      }\n",
       "      const blob = new Blob(buffers, {type: 'application/binary'});\n",
       "      const a = document.createElement('a');\n",
       "      a.href = window.URL.createObjectURL(blob);\n",
       "      a.download = filename;\n",
       "      div.appendChild(a);\n",
       "      a.click();\n",
       "      div.remove();\n",
       "    }\n",
       "  "
      ],
      "text/plain": [
       "<IPython.core.display.Javascript object>"
      ]
     },
     "metadata": {},
     "output_type": "display_data"
    },
    {
     "data": {
      "application/javascript": [
       "download(\"download_4ea290cc-346a-4d7d-b4a8-4e2391b13260\", \"model1.h5\", 421584)"
      ],
      "text/plain": [
       "<IPython.core.display.Javascript object>"
      ]
     },
     "metadata": {},
     "output_type": "display_data"
    }
   ],
   "source": [
    "from google.colab import files\n",
    "\n",
    "files.download('model1.h5')"
   ]
  },
  {
   "cell_type": "code",
   "execution_count": 98,
   "metadata": {
    "colab": {
     "base_uri": "https://localhost:8080/"
    },
    "executionInfo": {
     "elapsed": 10,
     "status": "ok",
     "timestamp": 1665839421123,
     "user": {
      "displayName": "Mariia Korliakova",
      "userId": "14165537686129864864"
     },
     "user_tz": -180
    },
    "id": "rGZ0VmTDWiSi",
    "outputId": "4e181708-809b-4c80-adbc-e059776f5c64"
   },
   "outputs": [
    {
     "data": {
      "text/plain": [
       "<KerasTensor: shape=(None, 256) dtype=float32 (created by layer 'dense_35')>"
      ]
     },
     "execution_count": 98,
     "metadata": {},
     "output_type": "execute_result"
    }
   ],
   "source": [
    "x3"
   ]
  },
  {
   "cell_type": "markdown",
   "metadata": {
    "id": "RP9nm6V6qS7q"
   },
   "source": [
    "Сделаем предсказание на тестовом изображении"
   ]
  },
  {
   "cell_type": "code",
   "execution_count": 99,
   "metadata": {
    "colab": {
     "base_uri": "https://localhost:8080/"
    },
    "executionInfo": {
     "elapsed": 555,
     "status": "ok",
     "timestamp": 1665839421671,
     "user": {
      "displayName": "Mariia Korliakova",
      "userId": "14165537686129864864"
     },
     "user_tz": -180
    },
    "id": "QvkvodqxWmVn",
    "outputId": "659515d7-5752-40c8-93b0-0bb67f1506c4"
   },
   "outputs": [
    {
     "name": "stdout",
     "output_type": "stream",
     "text": [
      "313/313 [==============================] - 1s 2ms/step\n"
     ]
    }
   ],
   "source": [
    "y_pred = model3.predict(test_images)\n",
    "y_pred_arg = np.argmax(y_pred, axis=1)\n"
   ]
  },
  {
   "cell_type": "markdown",
   "metadata": {
    "id": "b2WJFW5kqagU"
   },
   "source": [
    "Отобразим значения на выходах сети (10 выходов - 10 точек графика)"
   ]
  },
  {
   "cell_type": "code",
   "execution_count": 100,
   "metadata": {
    "colab": {
     "base_uri": "https://localhost:8080/",
     "height": 295
    },
    "executionInfo": {
     "elapsed": 8,
     "status": "ok",
     "timestamp": 1665839421671,
     "user": {
      "displayName": "Mariia Korliakova",
      "userId": "14165537686129864864"
     },
     "user_tz": -180
    },
    "id": "EF18AOsTbsih",
    "outputId": "8a0c1f21-9dbe-4de0-a5ca-8de47dcb5db6"
   },
   "outputs": [
    {
     "data": {
      "image/png": "[encoded data removed]",
      "text/plain": [
       "<Figure size 432x288 with 1 Axes>"
      ]
     },
     "metadata": {
      "needs_background": "light"
     },
     "output_type": "display_data"
    }
   ],
   "source": [
    "N = 10 \n",
    "plt.plot(y_pred[N,:])\n",
    "plt.title('объект ' +class_names[test_labels[N]]+ '  No-'+str(test_labels[N]))\n",
    "plt.xlabel('номер выхода сети')\n",
    "plt.ylabel('значение на выходе')\n",
    "plt.show()"
   ]
  },
  {
   "cell_type": "code",
   "execution_count": 101,
   "metadata": {
    "colab": {
     "base_uri": "https://localhost:8080/"
    },
    "executionInfo": {
     "elapsed": 353,
     "status": "ok",
     "timestamp": 1665839422017,
     "user": {
      "displayName": "Mariia Korliakova",
      "userId": "14165537686129864864"
     },
     "user_tz": -180
    },
    "id": "K0cGPgqBc-sb",
    "outputId": "f6a56199-1750-40c1-e4cf-44d7fccaf739"
   },
   "outputs": [
    {
     "name": "stderr",
     "output_type": "stream",
     "text": [
      "/usr/local/lib/python3.7/dist-packages/tensorflow/python/util/dispatch.py:1082: UserWarning: \"`sparse_categorical_crossentropy` received `from_logits=True`, but the `output` argument was produced by a sigmoid or softmax activation and thus does not represent logits. Was this intended?\"\n",
      "  return dispatch_target(*args, **kwargs)\n"
     ]
    },
    {
     "name": "stdout",
     "output_type": "stream",
     "text": [
      "313/313 - 1s - loss: 0.3496 - accuracy: 0.8741 - 752ms/epoch - 2ms/step\n"
     ]
    }
   ],
   "source": [
    "test_loss, test_acc = model3.evaluate(test_images,  test_labels, verbose=2)"
   ]
  },
  {
   "cell_type": "markdown",
   "metadata": {
    "id": "f_dWDPIIuE6e"
   },
   "source": [
    "### **Ансамбль сетей**\n",
    "\n",
    "Использование функционального API для построения сложных сетей"
   ]
  },
  {
   "cell_type": "code",
   "execution_count": 102,
   "metadata": {
    "executionInfo": {
     "elapsed": 517,
     "status": "ok",
     "timestamp": 1665839422532,
     "user": {
      "displayName": "Mariia Korliakova",
      "userId": "14165537686129864864"
     },
     "user_tz": -180
    },
    "id": "3cJ-0N8Es0gB"
   },
   "outputs": [],
   "source": [
    "input1 = keras.layers.Input(shape=(28, 28))\n",
    "x1= keras.layers.Flatten()(input1)\n",
    "x1 = keras.layers.Dense(128, activation='relu')(x1)\n",
    "x1 =keras.layers.Dense(10, activation='softmax')(x1)\n",
    "\n",
    "model11 =keras.models.Model(inputs=input1,outputs=x1)\n",
    "\n",
    "#input2 = keras.layers.Input(shape=(28, 28))\n",
    "x2= keras.layers.Flatten()(input1)\n",
    "x2 = keras.layers.Dense(256, activation='relu')(x2)\n",
    "x2=keras.layers.Dense(10, activation='softmax')(x2)\n",
    "\n",
    "model22 =keras.models.Model(inputs=input1,outputs=x2)\n",
    "#input3 = keras.layers.Input(shape=(28, 28))\n",
    "x3= keras.layers.Flatten()(input1)\n",
    "x3 = keras.layers.Dense(256, activation='relu')(x3)\n",
    "x3=keras.layers.Dense(10, activation='softmax')(x3)\n",
    "\n",
    "\n",
    "model33 =keras.models.Model(inputs=[input1],outputs=x3)\n",
    "\n",
    "# усредняем выходы сетей\n",
    "out_all = keras.layers.Average()([model11.output,model22.output,model33.output])\n",
    "out_all = keras.layers.Softmax()(out_all)\n",
    "\n",
    "model_all=keras.models.Model(inputs =[input1],outputs =out_all)#, input2,input2,input3\n",
    "model_all.compile(optimizer=tf.keras.optimizers.Adagrad(learning_rate=0.1, epsilon=1e-08, decay=0.0),\n",
    "              loss=tf.keras.losses.SparseCategoricalCrossentropy(from_logits=True),\n",
    "              metrics=['accuracy'])\n",
    "\n",
    "\n",
    "model11.load_weights('model1.h5')\n",
    "model22.load_weights('model2.h5')\n",
    "model33.load_weights('model3.h5')"
   ]
  },
  {
   "cell_type": "code",
   "execution_count": 103,
   "metadata": {
    "colab": {
     "base_uri": "https://localhost:8080/"
    },
    "executionInfo": {
     "elapsed": 13,
     "status": "ok",
     "timestamp": 1665839422532,
     "user": {
      "displayName": "Mariia Korliakova",
      "userId": "14165537686129864864"
     },
     "user_tz": -180
    },
    "id": "zdNzWR6Se6fZ",
    "outputId": "0a7cc93f-06db-44e3-8ff5-b1b2e37a7926"
   },
   "outputs": [
    {
     "data": {
      "text/plain": [
       "<keras.optimizers.optimizer_v2.adam.Adam at 0x7f3074616950>"
      ]
     },
     "execution_count": 103,
     "metadata": {},
     "output_type": "execute_result"
    }
   ],
   "source": [
    "tf.keras.optimizers.Adam()"
   ]
  },
  {
   "cell_type": "code",
   "execution_count": 104,
   "metadata": {
    "colab": {
     "base_uri": "https://localhost:8080/"
    },
    "executionInfo": {
     "elapsed": 11,
     "status": "ok",
     "timestamp": 1665839422532,
     "user": {
      "displayName": "Mariia Korliakova",
      "userId": "14165537686129864864"
     },
     "user_tz": -180
    },
    "id": "uyUsa1Afs6cW",
    "outputId": "b8faae07-54c3-4e03-ef45-74c818be76d7"
   },
   "outputs": [
    {
     "name": "stdout",
     "output_type": "stream",
     "text": [
      "Model: \"model_6\"\n",
      "__________________________________________________________________________________________________\n",
      " Layer (type)                   Output Shape         Param #     Connected to                     \n",
      "==================================================================================================\n",
      " input_3 (InputLayer)           [(None, 28, 28)]     0           []                               \n",
      "                                                                                                  \n",
      " flatten_6 (Flatten)            (None, 784)          0           ['input_3[0][0]']                \n",
      "                                                                                                  \n",
      " flatten_7 (Flatten)            (None, 784)          0           ['input_3[0][0]']                \n",
      "                                                                                                  \n",
      " flatten_8 (Flatten)            (None, 784)          0           ['input_3[0][0]']                \n",
      "                                                                                                  \n",
      " dense_37 (Dense)               (None, 128)          100480      ['flatten_6[0][0]']              \n",
      "                                                                                                  \n",
      " dense_39 (Dense)               (None, 256)          200960      ['flatten_7[0][0]']              \n",
      "                                                                                                  \n",
      " dense_41 (Dense)               (None, 256)          200960      ['flatten_8[0][0]']              \n",
      "                                                                                                  \n",
      " dense_38 (Dense)               (None, 10)           1290        ['dense_37[0][0]']               \n",
      "                                                                                                  \n",
      " dense_40 (Dense)               (None, 10)           2570        ['dense_39[0][0]']               \n",
      "                                                                                                  \n",
      " dense_42 (Dense)               (None, 10)           2570        ['dense_41[0][0]']               \n",
      "                                                                                                  \n",
      " average (Average)              (None, 10)           0           ['dense_38[0][0]',               \n",
      "                                                                  'dense_40[0][0]',               \n",
      "                                                                  'dense_42[0][0]']               \n",
      "                                                                                                  \n",
      " softmax_1 (Softmax)            (None, 10)           0           ['average[0][0]']                \n",
      "                                                                                                  \n",
      "==================================================================================================\n",
      "Total params: 508,830\n",
      "Trainable params: 508,830\n",
      "Non-trainable params: 0\n",
      "__________________________________________________________________________________________________\n"
     ]
    }
   ],
   "source": [
    "model_all.summary()"
   ]
  },
  {
   "cell_type": "code",
   "execution_count": 105,
   "metadata": {
    "executionInfo": {
     "elapsed": 3,
     "status": "ok",
     "timestamp": 1665839422533,
     "user": {
      "displayName": "Mariia Korliakova",
      "userId": "14165537686129864864"
     },
     "user_tz": -180
    },
    "id": "ET_usPF9ejrP"
   },
   "outputs": [],
   "source": [
    "from tensorflow.keras.utils import plot_model"
   ]
  },
  {
   "cell_type": "code",
   "execution_count": 106,
   "metadata": {
    "colab": {
     "base_uri": "https://localhost:8080/",
     "height": 564
    },
    "executionInfo": {
     "elapsed": 534,
     "status": "ok",
     "timestamp": 1665839423064,
     "user": {
      "displayName": "Mariia Korliakova",
      "userId": "14165537686129864864"
     },
     "user_tz": -180
    },
    "id": "T8L3JBiWewft",
    "outputId": "9ee2601b-f569-42e0-ac09-446d6d99e334"
   },
   "outputs": [
    {
     "data": {
      "image/png": "[encoded data removed]",
      "text/plain": [
       "<IPython.core.display.Image object>"
      ]
     },
     "execution_count": 106,
     "metadata": {},
     "output_type": "execute_result"
    }
   ],
   "source": [
    "plot_model(model_all,to_file='new_model-all.png')"
   ]
  },
  {
   "cell_type": "code",
   "execution_count": 107,
   "metadata": {
    "colab": {
     "base_uri": "https://localhost:8080/"
    },
    "executionInfo": {
     "elapsed": 15,
     "status": "ok",
     "timestamp": 1665839423064,
     "user": {
      "displayName": "Mariia Korliakova",
      "userId": "14165537686129864864"
     },
     "user_tz": -180
    },
    "id": "9nqTRLVhts6i",
    "outputId": "c288a15f-ef66-4bba-d8b1-0bb94fa01083"
   },
   "outputs": [
    {
     "name": "stdout",
     "output_type": "stream",
     "text": [
      "1/1 [==============================] - 0s 81ms/step\n",
      "[[0.08882732 0.08808405 0.18171312 0.08818799 0.10097867 0.08806439\n",
      "  0.09884106 0.08806778 0.0891648  0.08807077]]\n"
     ]
    }
   ],
   "source": [
    "predictions_single=model_all.predict([img])#,img,img\n",
    "\n",
    "print(predictions_single)"
   ]
  },
  {
   "cell_type": "code",
   "execution_count": 108,
   "metadata": {
    "colab": {
     "base_uri": "https://localhost:8080/",
     "height": 300
    },
    "executionInfo": {
     "elapsed": 10,
     "status": "ok",
     "timestamp": 1665839423064,
     "user": {
      "displayName": "Mariia Korliakova",
      "userId": "14165537686129864864"
     },
     "user_tz": -180
    },
    "id": "ZRejlxRetwpq",
    "outputId": "ecf3b0b8-4ce9-427f-a97e-74bcd8752626"
   },
   "outputs": [
    {
     "data": {
      "image/png": "[encoded data removed]",
      "text/plain": [
       "<Figure size 432x288 with 1 Axes>"
      ]
     },
     "metadata": {
      "needs_background": "light"
     },
     "output_type": "display_data"
    }
   ],
   "source": [
    "plot_value_array(1, predictions_single[0], test_labels)\n",
    "_ = plt.xticks(range(10), class_names, rotation=45)"
   ]
  },
  {
   "cell_type": "code",
   "execution_count": 109,
   "metadata": {
    "colab": {
     "base_uri": "https://localhost:8080/"
    },
    "executionInfo": {
     "elapsed": 9,
     "status": "ok",
     "timestamp": 1665839423064,
     "user": {
      "displayName": "Mariia Korliakova",
      "userId": "14165537686129864864"
     },
     "user_tz": -180
    },
    "id": "OnUoZIIgt10d",
    "outputId": "229f50a5-1da5-45d5-94e6-fa34c100e7bc"
   },
   "outputs": [
    {
     "name": "stdout",
     "output_type": "stream",
     "text": [
      "1/1 [==============================] - 0s 18ms/step\n"
     ]
    }
   ],
   "source": [
    "y_test_pred= model_all.predict([test_images[:10,:,:]])#,test_images[:10,:,:],test_images[:10,:,:]]) #  test_labels[:10])"
   ]
  },
  {
   "cell_type": "code",
   "execution_count": 110,
   "metadata": {
    "colab": {
     "base_uri": "https://localhost:8080/"
    },
    "executionInfo": {
     "elapsed": 8,
     "status": "ok",
     "timestamp": 1665839423065,
     "user": {
      "displayName": "Mariia Korliakova",
      "userId": "14165537686129864864"
     },
     "user_tz": -180
    },
    "id": "P4Ys6l9qwBir",
    "outputId": "904dec67-5a4a-4ee0-d030-ddfe48d19aa9"
   },
   "outputs": [
    {
     "data": {
      "text/plain": [
       "array([9, 2, 1, 1, 6, 1, 4, 6, 5, 7])"
      ]
     },
     "execution_count": 110,
     "metadata": {},
     "output_type": "execute_result"
    }
   ],
   "source": [
    "np.argmax(y_test_pred,axis=1)"
   ]
  },
  {
   "cell_type": "code",
   "execution_count": 111,
   "metadata": {
    "colab": {
     "base_uri": "https://localhost:8080/"
    },
    "executionInfo": {
     "elapsed": 6,
     "status": "ok",
     "timestamp": 1665839423065,
     "user": {
      "displayName": "Mariia Korliakova",
      "userId": "14165537686129864864"
     },
     "user_tz": -180
    },
    "id": "DDEvC-EpwJ1P",
    "outputId": "e7d118c6-93f6-4291-effd-b511740a3978"
   },
   "outputs": [
    {
     "data": {
      "text/plain": [
       "array([9, 2, 1, 1, 6, 1, 4, 6, 5, 7], dtype=uint8)"
      ]
     },
     "execution_count": 111,
     "metadata": {},
     "output_type": "execute_result"
    }
   ],
   "source": [
    "test_labels[:10]"
   ]
  },
  {
   "cell_type": "code",
   "execution_count": 112,
   "metadata": {
    "executionInfo": {
     "elapsed": 597,
     "status": "ok",
     "timestamp": 1665839423657,
     "user": {
      "displayName": "Mariia Korliakova",
      "userId": "14165537686129864864"
     },
     "user_tz": -180
    },
    "id": "rWwZOIi_1Hgp"
   },
   "outputs": [],
   "source": [
    "model_all.save('model_all.h5')"
   ]
  },
  {
   "cell_type": "code",
   "execution_count": 113,
   "metadata": {
    "colab": {
     "base_uri": "https://localhost:8080/",
     "height": 297
    },
    "executionInfo": {
     "elapsed": 1452,
     "status": "ok",
     "timestamp": 1665839425103,
     "user": {
      "displayName": "Mariia Korliakova",
      "userId": "14165537686129864864"
     },
     "user_tz": -180
    },
    "id": "IkT0L8D-Oi4x",
    "outputId": "08d25658-8483-4512-973d-fcaf40b52044"
   },
   "outputs": [
    {
     "name": "stdout",
     "output_type": "stream",
     "text": [
      "313/313 [==============================] - 1s 2ms/step\n"
     ]
    },
    {
     "data": {
      "image/png": "[encoded data removed]",
      "text/plain": [
       "<Figure size 432x288 with 2 Axes>"
      ]
     },
     "metadata": {
      "needs_background": "light"
     },
     "output_type": "display_data"
    }
   ],
   "source": [
    "y_pred_all = np.argmax(model_all.predict([test_images]), axis=1)#,test_images,test_images]),axis=1)\n",
    "\n",
    "CM_all = confusion_matrix(test_labels,y_pred_all)\n",
    "disp_all = ConfusionMatrixDisplay(confusion_matrix=CM_all, display_labels=np.arange(10))\n",
    "disp_all.plot(  values_format ='.3g')\n",
    "plt.show()"
   ]
  },
  {
   "cell_type": "code",
   "execution_count": 114,
   "metadata": {
    "colab": {
     "base_uri": "https://localhost:8080/"
    },
    "executionInfo": {
     "elapsed": 9,
     "status": "ok",
     "timestamp": 1665839425103,
     "user": {
      "displayName": "Mariia Korliakova",
      "userId": "14165537686129864864"
     },
     "user_tz": -180
    },
    "id": "NtG0lRz1TfO2",
    "outputId": "d8b44e34-2fe2-4c6e-c74f-ae7d2f5a73e0"
   },
   "outputs": [
    {
     "data": {
      "text/plain": [
       "(60000,)"
      ]
     },
     "execution_count": 114,
     "metadata": {},
     "output_type": "execute_result"
    }
   ],
   "source": [
    "train_labels.shape"
   ]
  },
  {
   "cell_type": "code",
   "execution_count": 115,
   "metadata": {
    "colab": {
     "base_uri": "https://localhost:8080/"
    },
    "executionInfo": {
     "elapsed": 1414,
     "status": "ok",
     "timestamp": 1665839426512,
     "user": {
      "displayName": "Mariia Korliakova",
      "userId": "14165537686129864864"
     },
     "user_tz": -180
    },
    "id": "ieChLpxhBicr",
    "outputId": "bcea65b7-82a8-4235-fc1d-98f0071e97ef"
   },
   "outputs": [
    {
     "name": "stdout",
     "output_type": "stream",
     "text": [
      "Epoch 1/5\n",
      "32/32 [==============================] - 1s 4ms/step - loss: 2.2283 - accuracy: 0.1220\n",
      "Epoch 2/5\n",
      "32/32 [==============================] - 0s 4ms/step - loss: 2.2227 - accuracy: 0.1280\n",
      "Epoch 3/5\n",
      "32/32 [==============================] - 0s 4ms/step - loss: 2.2199 - accuracy: 0.1420\n",
      "Epoch 4/5\n",
      "32/32 [==============================] - 0s 4ms/step - loss: 2.2179 - accuracy: 0.1420\n",
      "Epoch 5/5\n",
      "32/32 [==============================] - 0s 4ms/step - loss: 2.2163 - accuracy: 0.1370\n"
     ]
    }
   ],
   "source": [
    "#hist1=model_all.fit( [train_images[:1000,:,:],train_images[:1000,:,:],train_images[:1000,:,:]], train_labels[:1000], epochs=5)\n",
    "hist1=model_all.fit( [train_images[:1000,:,:]], train_labels[:1000], epochs=5)"
   ]
  },
  {
   "cell_type": "code",
   "execution_count": 116,
   "metadata": {
    "colab": {
     "base_uri": "https://localhost:8080/",
     "height": 297
    },
    "executionInfo": {
     "elapsed": 1721,
     "status": "ok",
     "timestamp": 1665839428227,
     "user": {
      "displayName": "Mariia Korliakova",
      "userId": "14165537686129864864"
     },
     "user_tz": -180
    },
    "id": "Z1O8A5dlBfq0",
    "outputId": "7eb53920-b6dc-47ad-a7ba-cb3cf135616c"
   },
   "outputs": [
    {
     "name": "stdout",
     "output_type": "stream",
     "text": [
      "313/313 [==============================] - 1s 2ms/step\n"
     ]
    },
    {
     "data": {
      "image/png": "[encoded data removed]",
      "text/plain": [
       "<Figure size 432x288 with 2 Axes>"
      ]
     },
     "metadata": {
      "needs_background": "light"
     },
     "output_type": "display_data"
    }
   ],
   "source": [
    "y_pred_all = np.argmax(model_all.predict([test_images]),axis=1)\n",
    "#y_pred_all = np.argmax(model_all.predict([test_images,test_images,test_images]),axis=1)\n",
    "\n",
    "CM_all = confusion_matrix(test_labels,y_pred_all)\n",
    "disp_all = ConfusionMatrixDisplay(confusion_matrix=CM_all, display_labels=np.arange(10))\n",
    "disp_all.plot(  values_format ='.3g')\n",
    "plt.show()"
   ]
  },
  {
   "cell_type": "code",
   "execution_count": 117,
   "metadata": {
    "executionInfo": {
     "elapsed": 2,
     "status": "ok",
     "timestamp": 1665839428227,
     "user": {
      "displayName": "Mariia Korliakova",
      "userId": "14165537686129864864"
     },
     "user_tz": -180
    },
    "id": "NBqrv8dfXNyR"
   },
   "outputs": [],
   "source": [
    "from tensorflow.keras.layers import Concatenate "
   ]
  },
  {
   "cell_type": "markdown",
   "metadata": {
    "id": "4ZwrQaKpT9x0"
   },
   "source": [
    "можно отделить плохой класс от остальных новой моделью:\n",
    "- обучаем класс 6 против всех\n",
    "- выход стал бинарным на выходе часть вектора про 6-й класс (выборка разбалансирована) \n",
    "- по итогам такой классификации отделим "
   ]
  },
  {
   "cell_type": "code",
   "execution_count": 118,
   "metadata": {
    "colab": {
     "base_uri": "https://localhost:8080/"
    },
    "executionInfo": {
     "elapsed": 83110,
     "status": "ok",
     "timestamp": 1665839511335,
     "user": {
      "displayName": "Mariia Korliakova",
      "userId": "14165537686129864864"
     },
     "user_tz": -180
    },
    "id": "_v4dFXMxYShj",
    "outputId": "ef12a803-3933-4f8f-c943-33effd8e26d1"
   },
   "outputs": [
    {
     "name": "stdout",
     "output_type": "stream",
     "text": [
      "Epoch 1/10\n",
      "1500/1500 [==============================] - 8s 5ms/step - loss: 0.1944 - recall: 0.3152 - precision: 0.7115 - val_loss: 0.1609 - val_recall: 0.5640 - val_precision: 0.6660\n",
      "Epoch 2/10\n",
      "1500/1500 [==============================] - 6s 4ms/step - loss: 0.1592 - recall: 0.4886 - precision: 0.7557 - val_loss: 0.1443 - val_recall: 0.4265 - val_precision: 0.8319\n",
      "Epoch 3/10\n",
      "1500/1500 [==============================] - 7s 4ms/step - loss: 0.1473 - recall: 0.5422 - precision: 0.7813 - val_loss: 0.1466 - val_recall: 0.4543 - val_precision: 0.8220\n",
      "Epoch 4/10\n",
      "1500/1500 [==============================] - 6s 4ms/step - loss: 0.1404 - recall: 0.5751 - precision: 0.7737 - val_loss: 0.1368 - val_recall: 0.6162 - val_precision: 0.7383\n",
      "Epoch 5/10\n",
      "1500/1500 [==============================] - 11s 8ms/step - loss: 0.1350 - recall: 0.5986 - precision: 0.7847 - val_loss: 0.1395 - val_recall: 0.6719 - val_precision: 0.7031\n",
      "Epoch 6/10\n",
      "1500/1500 [==============================] - 6s 4ms/step - loss: 0.1302 - recall: 0.6217 - precision: 0.7998 - val_loss: 0.1376 - val_recall: 0.5735 - val_precision: 0.7549\n",
      "Epoch 7/10\n",
      "1500/1500 [==============================] - 6s 4ms/step - loss: 0.1264 - recall: 0.6343 - precision: 0.8013 - val_loss: 0.1351 - val_recall: 0.6841 - val_precision: 0.7049\n",
      "Epoch 8/10\n",
      "1500/1500 [==============================] - 6s 4ms/step - loss: 0.1223 - recall: 0.6506 - precision: 0.7998 - val_loss: 0.1312 - val_recall: 0.5735 - val_precision: 0.8027\n",
      "Epoch 9/10\n",
      "1500/1500 [==============================] - 6s 4ms/step - loss: 0.1191 - recall: 0.6642 - precision: 0.8102 - val_loss: 0.1367 - val_recall: 0.6449 - val_precision: 0.7258\n",
      "Epoch 10/10\n",
      "1500/1500 [==============================] - 6s 4ms/step - loss: 0.1146 - recall: 0.6751 - precision: 0.8183 - val_loss: 0.1361 - val_recall: 0.5544 - val_precision: 0.8393\n"
     ]
    },
    {
     "data": {
      "text/plain": [
       "<keras.callbacks.History at 0x7f3050197c90>"
      ]
     },
     "execution_count": 118,
     "metadata": {},
     "output_type": "execute_result"
    }
   ],
   "source": [
    "input6 = keras.layers.Input( shape=(28, 28) )\n",
    "x6= keras.layers.Flatten()(input6)\n",
    "x6 = keras.layers.Dense(256, activation='relu')(x6)\n",
    "x6=keras.layers.Dense(1, activation='sigmoid')(x6)\n",
    "\n",
    "\n",
    "model6 =Model(inputs=input6,outputs=x6)\n",
    "model6.compile(optimizer=tf.keras.optimizers.Adagrad(learning_rate=0.1, epsilon=1e-08, decay=0.0),\n",
    "              loss=tf.keras.losses.BinaryCrossentropy(),\n",
    "              metrics=[tf.keras.metrics.Recall(),tf.keras.metrics.Precision()])\n",
    "\n",
    "model6.fit(train_images,y_train_labels[:,6], epochs = 10, validation_split = 0.2)\n"
   ]
  },
  {
   "cell_type": "markdown",
   "metadata": {
    "id": "pZyy2UhoFzTB"
   },
   "source": [
    "## Практическое задание\n",
    "\n",
    "  1. Постройте нейронную сеть(берем простую линейную сеть, которую разбирали на уроке: меняем число слоев, число нейронов , типы активации, тип оптимизатора)  на датасет from sklearn.datasets import load_boston. \n",
    "  2. Измените функцию потерь и метрику для этой задачи. Постройте 10-15 вариантов и сведите результаты их работы в таблицу  Опишите, какого результата вы добились от нейросети? Что помогло вам улучшить ее точность?\n",
    "\n",
    "  3. Поработайте с документацией TensorFlow 2. Найти 2-3 полезные команды TensorFlow, не разобранные на уроке (полезные для Вас).\n",
    "\n",
    "  1-2. (*)  Попробуйте обучить нейронную сеть на TensorFlow 2 на датасете imdb_reviews .Опишите, какого результата вы добились от нейросети? Что помогло вам улучшить ее точность?\n",
    "    \n",
    "    \n",
    "</ol>\n",
    "\n",
    "\n",
    "\n",
    "## Набор данных для последнего ДЗ\n",
    "\n",
    "- COVID 19 диагностика https://www.kaggle.com/andrewmvd/covid19-ct-scans\n",
    "\n",
    "- Распознавание изображений цифр в представлении языка жестов https://www.kaggle.com/ardamavi/sign-language-digits-dataset"
   ]
  },
  {
   "cell_type": "markdown",
   "metadata": {
    "id": "oNZ6hZcMFzTE"
   },
   "source": [
    "## Дополнительные материалы\n",
    "\n",
    "<ol>\n",
    "    <li>www.tensorflow.org/api_docs</li>\n",
    "</ol>"
   ]
  },
  {
   "cell_type": "markdown",
   "metadata": {
    "id": "Q64Z2Kr_FzTF"
   },
   "source": [
    "## Используемая литература \n",
    "\n",
    "Для подготовки данного методического пособия были использованы следующие ресурсы:\n",
    "<ol>\n",
    "    <li>https://www.tensorflow.org/</li>\n",
    "    <li>https://www.tensorflow.org/tutorials/keras/classification</li>\n",
    "    <li>Singh P., Manure A. - Learn TensorFlow 2.0 - 2020</li>\n",
    "    <li>Шакла Н. — Машинное обучение и TensorFlow 2019</li>\n",
    "    <li>Википедия</li>\n",
    "    \n",
    "</ol>"
   ]
  }
 ],
 "metadata": {
  "accelerator": "GPU",
  "colab": {
   "collapsed_sections": [],
   "provenance": []
  },
  "kernelspec": {
   "display_name": "Python 3 (ipykernel)",
   "language": "python",
   "name": "python3"
  },
  "language_info": {
   "codemirror_mode": {
    "name": "ipython",
    "version": 3
   },
   "file_extension": ".py",
   "mimetype": "text/x-python",
   "name": "python",
   "nbconvert_exporter": "python",
   "pygments_lexer": "ipython3",
   "version": "3.9.12"
  }
 },
 "nbformat": 4,
 "nbformat_minor": 1
}
