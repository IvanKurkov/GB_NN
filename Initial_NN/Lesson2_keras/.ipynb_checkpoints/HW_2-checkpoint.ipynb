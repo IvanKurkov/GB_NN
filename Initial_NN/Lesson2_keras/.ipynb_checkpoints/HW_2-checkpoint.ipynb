{
 "cells": [
  {
   "cell_type": "markdown",
   "id": "88de3152",
   "metadata": {},
   "source": [
    "## Практическое задание\n",
    "\n",
    "Используем набор примеров fashion-MNIST\n",
    "\n",
    "1.  Опишите - какой результата получен в нейросети в зависимости от:\n",
    "  -  числа нейронов в слое(для 2-хслойной сети), \n",
    "  - числа слоев (2, 3, 5, 10) при близких размерах сети (близкое число тренируемых парметров).\n",
    "  - фиксируйте для тренировочного и тестового набора метрики accuracy.\n",
    "2.  Проверьте работу разных оптимизаторов (SGD, Adam, RMSProp) для одной из моделей п.1.Фиксируйте для тренировочного и тестового набора метрики accuracy.\n",
    "\n",
    "3. Сделайте вывод - что помогло вам улучшить качество классификации в нейросети на тестовом наборе? \n",
    "\n",
    "4. Для одного варианта сетей сформируйте матрицу ошибок по классам. Оцените качество модели по каждому классу отдельно (полнота , точность). Сделайте вывод."
   ]
  },
  {
   "cell_type": "code",
   "execution_count": 82,
   "id": "01d6b733",
   "metadata": {},
   "outputs": [],
   "source": [
    "import numpy as np\n",
    "import keras\n",
    "from keras.datasets import fashion_mnist\n",
    "from keras.models import Sequential\n",
    "from keras.layers import Dense\n",
    "from tensorflow.keras.utils import to_categorical\n",
    "from sklearn.metrics import multilabel_confusion_matrix, classification_report,  ConfusionMatrixDisplay\n",
    "import matplotlib.pyplot as plt"
   ]
  },
  {
   "cell_type": "code",
   "execution_count": 140,
   "id": "a227ec24",
   "metadata": {},
   "outputs": [],
   "source": [
    "(train_imagef,train_labelf),(test_imagef,test_labelf)=fashion_mnist.load_data()"
   ]
  },
  {
   "cell_type": "code",
   "execution_count": 131,
   "id": "f8270b8f",
   "metadata": {},
   "outputs": [
    {
     "name": "stdout",
     "output_type": "stream",
     "text": [
      "(60000, 28, 28)\n",
      "(10000, 28, 28)\n"
     ]
    }
   ],
   "source": [
    "print(train_imagef.shape)\n",
    "print(test_imagef.shape)"
   ]
  },
  {
   "cell_type": "code",
   "execution_count": 132,
   "id": "164363f0",
   "metadata": {},
   "outputs": [],
   "source": [
    "train_imagef = train_imagef.reshape((-1, 784))\n",
    "test_imagef = test_imagef.reshape((-1, 784))"
   ]
  },
  {
   "cell_type": "code",
   "execution_count": 8,
   "id": "353d7085",
   "metadata": {},
   "outputs": [],
   "source": [
    "train_imagef = (train_imagef / 127) - 1\n",
    "test_imagef = (test_imagef / 127) - 1"
   ]
  },
  {
   "cell_type": "code",
   "execution_count": 48,
   "id": "651d734a",
   "metadata": {},
   "outputs": [],
   "source": [
    "\n",
    "model = Sequential([\n",
    "  Dense(128, activation='tanh', input_shape=(784,)),\n",
    "  Dense(110, activation='tanh'),\n",
    "  Dense(100, activation='tanh'),\n",
    "  Dense(10, activation='softmax'),\n",
    "])\n",
    "\n",
    "\n",
    "model.compile(\n",
    "  optimizer='adam',\n",
    "  loss='categorical_crossentropy',\n",
    "  metrics=['accuracy'],\n",
    ")"
   ]
  },
  {
   "cell_type": "code",
   "execution_count": 49,
   "id": "cde4ee21",
   "metadata": {},
   "outputs": [],
   "source": [
    "model.save_weights('model.h5')\n"
   ]
  },
  {
   "cell_type": "code",
   "execution_count": 47,
   "id": "576246c5",
   "metadata": {},
   "outputs": [
    {
     "name": "stdout",
     "output_type": "stream",
     "text": [
      "Model: \"sequential_72\"\n",
      "_________________________________________________________________\n",
      " Layer (type)                Output Shape              Param #   \n",
      "=================================================================\n",
      " dense_306 (Dense)           (None, 128)               100480    \n",
      "                                                                 \n",
      " dense_307 (Dense)           (None, 110)               14190     \n",
      "                                                                 \n",
      " dense_308 (Dense)           (None, 100)               11100     \n",
      "                                                                 \n",
      " dense_309 (Dense)           (None, 10)                1010      \n",
      "                                                                 \n",
      "=================================================================\n",
      "Total params: 126,780\n",
      "Trainable params: 126,780\n",
      "Non-trainable params: 0\n",
      "_________________________________________________________________\n"
     ]
    }
   ],
   "source": [
    "model.summary( )"
   ]
  },
  {
   "cell_type": "code",
   "execution_count": 18,
   "id": "32e8e862",
   "metadata": {},
   "outputs": [],
   "source": [
    "y_t = to_categorical(train_labelf)\n",
    "y_tt = to_categorical(test_labelf)"
   ]
  },
  {
   "cell_type": "code",
   "execution_count": 23,
   "id": "2a014c33",
   "metadata": {},
   "outputs": [
    {
     "name": "stdout",
     "output_type": "stream",
     "text": [
      "Epoch 1/2\n",
      "1500/1500 [==============================] - 1s 972us/step - loss: 0.3086 - accuracy: 0.8887 - val_loss: 0.3514 - val_accuracy: 0.8752\n",
      "Epoch 2/2\n",
      "1500/1500 [==============================] - 1s 949us/step - loss: 0.3016 - accuracy: 0.8900 - val_loss: 0.3505 - val_accuracy: 0.8719\n",
      "313/313 [==============================] - 0s 654us/step - loss: 0.3708 - accuracy: 0.8667\n"
     ]
    },
    {
     "data": {
      "text/plain": [
       "[0.370841383934021, 0.8666999936103821]"
      ]
     },
     "execution_count": 23,
     "metadata": {},
     "output_type": "execute_result"
    }
   ],
   "source": [
    "# Train the model.\n",
    "model.fit(    \n",
    "  train_imagef[:,:],\n",
    "\n",
    "  y_t[:,:],\n",
    "  epochs=2,\n",
    "  batch_size=32, validation_split=0.2\n",
    ")\n",
    "\n",
    "# Evaluate the model.\n",
    "model.evaluate( \n",
    "  test_imagef,\n",
    "  y_tt\n",
    ")\n"
   ]
  },
  {
   "cell_type": "code",
   "execution_count": 20,
   "id": "c92ba7b3",
   "metadata": {},
   "outputs": [
    {
     "name": "stdout",
     "output_type": "stream",
     "text": [
      "1/1 [==============================] - 0s 13ms/step\n",
      "[9 2 1 1 6]\n",
      "[9 2 1 1 6]\n"
     ]
    }
   ],
   "source": [
    "\n",
    "# Predict on the first 5 test images.\n",
    "predictions = model.predict(test_imagef[:5])\n",
    "\n",
    "# Print our model's predictions.\n",
    "print(np.argmax(predictions, axis=1))\n",
    "\n",
    "# Check our predictions against the ground truths.\n",
    "print(test_labelf[:5]) "
   ]
  },
  {
   "cell_type": "markdown",
   "id": "551a8676",
   "metadata": {},
   "source": [
    "### 1. Опишите - какой результат получен в нейросети в зависимости от параметров"
   ]
  },
  {
   "cell_type": "code",
   "execution_count": 41,
   "id": "9bb3e76d",
   "metadata": {},
   "outputs": [],
   "source": [
    "def grid_test_models_1(train_data, train_label, test_data, test_label, optimizer='adam' ,base_neurons=128, add_layers=0 ):\n",
    "    model = Sequential()\n",
    "    model.add(Dense(base_neurons, activation='tanh', input_shape=(784,)))  \n",
    "    for k in range(add_layers):\n",
    "        model.add(Dense(10+(10-k)*10, activation='tanh'))       \n",
    "    model.add(Dense(10, activation='softmax')) \n",
    "\n",
    "    model.compile(\n",
    "      optimizer=optimizer,\n",
    "      loss='categorical_crossentropy',\n",
    "      metrics=['accuracy'],\n",
    "    )  \n",
    "    \n",
    "    model.fit(    \n",
    "      train_data[:,:],\n",
    "      train_label[:,:],\n",
    "      epochs=2,\n",
    "      batch_size=1024, validation_split=0.2, verbose=0\n",
    "    )\n",
    "    \n",
    "    return f'При параметрах: optimizer = {optimizer}, base_neurons = {base_neurons}, layers = {2 + add_layers} Качество: accuracy = {model.evaluate(test_data, test_label, verbose=0)[1]}'\n",
    "      "
   ]
  },
  {
   "cell_type": "markdown",
   "id": "6c73638f",
   "metadata": {},
   "source": [
    "### 1.1 Числа нейронов в слое(для 2-хслойной сети)"
   ]
  },
  {
   "cell_type": "code",
   "execution_count": 33,
   "id": "3a3098bc",
   "metadata": {},
   "outputs": [
    {
     "name": "stdout",
     "output_type": "stream",
     "text": [
      "При параметрах: optimizer = adam, base_neurons = 10, layers = 2 Качество: accuracy = 0.7301999926567078\n",
      "При параметрах: optimizer = adam, base_neurons = 20, layers = 2 Качество: accuracy = 0.7806000113487244\n",
      "При параметрах: optimizer = adam, base_neurons = 30, layers = 2 Качество: accuracy = 0.7989000082015991\n",
      "При параметрах: optimizer = adam, base_neurons = 50, layers = 2 Качество: accuracy = 0.809499979019165\n",
      "При параметрах: optimizer = adam, base_neurons = 80, layers = 2 Качество: accuracy = 0.8172000050544739\n",
      "При параметрах: optimizer = adam, base_neurons = 100, layers = 2 Качество: accuracy = 0.8288000226020813\n",
      "При параметрах: optimizer = adam, base_neurons = 128, layers = 2 Качество: accuracy = 0.8209999799728394\n",
      "При параметрах: optimizer = adam, base_neurons = 150, layers = 2 Качество: accuracy = 0.828499972820282\n",
      "При параметрах: optimizer = adam, base_neurons = 180, layers = 2 Качество: accuracy = 0.8299999833106995\n",
      "При параметрах: optimizer = adam, base_neurons = 200, layers = 2 Качество: accuracy = 0.8334000110626221\n",
      "При параметрах: optimizer = adam, base_neurons = 250, layers = 2 Качество: accuracy = 0.8385000228881836\n",
      "При параметрах: optimizer = adam, base_neurons = 350, layers = 2 Качество: accuracy = 0.8324000239372253\n",
      "При параметрах: optimizer = adam, base_neurons = 450, layers = 2 Качество: accuracy = 0.8379999995231628\n",
      "При параметрах: optimizer = adam, base_neurons = 600, layers = 2 Качество: accuracy = 0.8385000228881836\n",
      "При параметрах: optimizer = adam, base_neurons = 800, layers = 2 Качество: accuracy = 0.8384000062942505\n",
      "При параметрах: optimizer = adam, base_neurons = 1000, layers = 2 Качество: accuracy = 0.836899995803833\n"
     ]
    }
   ],
   "source": [
    "num_neurons = [10,20,30,50,80,100,128,150,180,200,250,350,450,600,800,1000]\n",
    "for i in num_neurons:\n",
    "    print(grid_test_models_1(train_imagef, y_t, test_imagef, y_tt, base_neurons = i))"
   ]
  },
  {
   "cell_type": "markdown",
   "id": "cb5d6101",
   "metadata": {},
   "source": [
    "#### Как видим при увеличении числа нейронов, качество растет"
   ]
  },
  {
   "cell_type": "markdown",
   "id": "2981a846",
   "metadata": {},
   "source": [
    "### 1.2 числа слоев (2, 3, 5, 10) при близких размерах сети (близкое число тренируемых парметров)."
   ]
  },
  {
   "cell_type": "code",
   "execution_count": 43,
   "id": "82f04277",
   "metadata": {},
   "outputs": [
    {
     "name": "stdout",
     "output_type": "stream",
     "text": [
      "При параметрах: optimizer = adam, base_neurons = 128, layers = 2 Качество: accuracy = 0.8313999772071838\n",
      "При параметрах: optimizer = adam, base_neurons = 128, layers = 3 Качество: accuracy = 0.8335000276565552\n",
      "При параметрах: optimizer = adam, base_neurons = 128, layers = 4 Качество: accuracy = 0.8328999876976013\n",
      "При параметрах: optimizer = adam, base_neurons = 128, layers = 5 Качество: accuracy = 0.8374000191688538\n",
      "При параметрах: optimizer = adam, base_neurons = 128, layers = 6 Качество: accuracy = 0.8447999954223633\n",
      "При параметрах: optimizer = adam, base_neurons = 128, layers = 7 Качество: accuracy = 0.8392000198364258\n",
      "При параметрах: optimizer = adam, base_neurons = 128, layers = 8 Качество: accuracy = 0.8323000073432922\n",
      "При параметрах: optimizer = adam, base_neurons = 128, layers = 9 Качество: accuracy = 0.8335000276565552\n",
      "При параметрах: optimizer = adam, base_neurons = 128, layers = 10 Качество: accuracy = 0.838100016117096\n",
      "При параметрах: optimizer = adam, base_neurons = 128, layers = 11 Качество: accuracy = 0.826200008392334\n",
      "При параметрах: optimizer = adam, base_neurons = 128, layers = 12 Качество: accuracy = 0.8282999992370605\n"
     ]
    }
   ],
   "source": [
    "for i in range(11):\n",
    "    print(grid_test_models_1(train_imagef, y_t, test_imagef, y_tt, add_layers=i ))"
   ]
  },
  {
   "cell_type": "markdown",
   "id": "b3d619e2",
   "metadata": {},
   "source": [
    "#### Похоже на то, что количество слоев нам не сильно помогло, в какойто момент качество даже стало хуже изначального. Вероятно большое количество ведет к переобучению."
   ]
  },
  {
   "cell_type": "markdown",
   "id": "afb51345",
   "metadata": {},
   "source": [
    "### 2. Проверьте работу разных оптимизаторов (SGD, Adam, RMSProp) для одной из моделей п.1.Фиксируйте для тренировочного и тестового набора метрики accuracy."
   ]
  },
  {
   "cell_type": "code",
   "execution_count": 54,
   "id": "a6855d15",
   "metadata": {},
   "outputs": [],
   "source": [
    "def grid_test_models_2(train_data, train_label, test_data, test_label, optimizer='adam'):\n",
    "    model = Sequential([\n",
    "      Dense(128, activation='tanh', input_shape=(784,)),\n",
    "      Dense(110, activation='tanh'),\n",
    "      Dense(100, activation='tanh'),\n",
    "      Dense(10, activation='softmax'),\n",
    "    ])\n",
    "    model.load_weights('model.h5')\n",
    "    model.compile(\n",
    "      optimizer=optimizer,\n",
    "      loss='categorical_crossentropy',\n",
    "      metrics=['accuracy'],\n",
    "    )  \n",
    "    \n",
    "    \n",
    "    model.fit(    \n",
    "      train_data[:,:],\n",
    "      train_label[:,:],\n",
    "      epochs=2,\n",
    "      batch_size=1024, validation_split=0.2, verbose=0\n",
    "    )\n",
    "    \n",
    "    return f'При параметрах: optimizer = {optimizer}, base_neurons = {base_neurons}, layers = {2 + add_layers} Качество: accuracy = {model.evaluate(test_data, test_label, verbose=0)[1]}'\n",
    "      "
   ]
  },
  {
   "cell_type": "code",
   "execution_count": 56,
   "id": "484c6653",
   "metadata": {},
   "outputs": [
    {
     "name": "stdout",
     "output_type": "stream",
     "text": [
      "При параметрах: optimizer = adam, base_neurons = 128, layers = 2 Качество: accuracy = 0.829800009727478\n",
      "При параметрах: optimizer = SGD, base_neurons = 128, layers = 2 Качество: accuracy = 0.7167999744415283\n",
      "При параметрах: optimizer = RMSProp, base_neurons = 128, layers = 2 Качество: accuracy = 0.8104000091552734\n",
      "При параметрах: optimizer = Adagrad, base_neurons = 128, layers = 2 Качество: accuracy = 0.607200026512146\n"
     ]
    }
   ],
   "source": [
    "optimaizers = ['adam', 'SGD', 'RMSProp', 'Adagrad']\n",
    "for i in optimaizers:\n",
    "    print(grid_test_models_1(train_imagef, y_t, test_imagef, y_tt, optimizer = i))"
   ]
  },
  {
   "cell_type": "markdown",
   "id": "f6b40ee5",
   "metadata": {},
   "source": [
    "#### По всей видимости из перечисленных, Adam справился лучше всех."
   ]
  },
  {
   "cell_type": "markdown",
   "id": "ec58c426",
   "metadata": {},
   "source": [
    "### 3. Сделайте вывод - что помогло вам улучшить качество классификации в нейросети на тестовом наборе?"
   ]
  },
  {
   "cell_type": "markdown",
   "id": "25ddd9a0",
   "metadata": {},
   "source": [
    "- Из перечисленных выше параметров, наибольший вклад в качество сделал размер слоя, также оптимизатор Adam стал лучшим выбором."
   ]
  },
  {
   "cell_type": "markdown",
   "id": "deb41f5d",
   "metadata": {},
   "source": [
    "### 4. Сделайте вывод - что помогло вам улучшить качество классификации в нейросети на тестовом наборе?"
   ]
  },
  {
   "cell_type": "code",
   "execution_count": 59,
   "id": "4298d439",
   "metadata": {},
   "outputs": [
    {
     "data": {
      "text/plain": [
       "<keras.callbacks.History at 0x2712268edc0>"
      ]
     },
     "execution_count": 59,
     "metadata": {},
     "output_type": "execute_result"
    }
   ],
   "source": [
    "model = Sequential([\n",
    "      Dense(600, activation='tanh', input_shape=(784,)),      \n",
    "      Dense(10, activation='softmax'),\n",
    "    ])\n",
    "\n",
    "model.compile(\n",
    "      optimizer='adam',\n",
    "      loss='categorical_crossentropy',\n",
    "      metrics=['accuracy'],\n",
    "    )  \n",
    "    \n",
    "    \n",
    "model.fit(    \n",
    "      train_imagef[:,:],\n",
    "      y_t[:,:],\n",
    "      epochs=35,\n",
    "      batch_size=1024, validation_split=0.2, verbose=0\n",
    "    )"
   ]
  },
  {
   "cell_type": "code",
   "execution_count": 60,
   "id": "44a1e0a0",
   "metadata": {},
   "outputs": [
    {
     "data": {
      "text/plain": [
       "0.8831999897956848"
      ]
     },
     "execution_count": 60,
     "metadata": {},
     "output_type": "execute_result"
    }
   ],
   "source": [
    "model.evaluate(test_imagef, y_tt, verbose=0)[1]"
   ]
  },
  {
   "cell_type": "code",
   "execution_count": 61,
   "id": "36809481",
   "metadata": {},
   "outputs": [
    {
     "name": "stdout",
     "output_type": "stream",
     "text": [
      "313/313 [==============================] - 0s 917us/step\n"
     ]
    }
   ],
   "source": [
    "y_pred = model.predict(test_imagef)\n",
    "y_pred_class = np.argmax(y_pred,axis=1)"
   ]
  },
  {
   "cell_type": "code",
   "execution_count": 79,
   "id": "39649889",
   "metadata": {},
   "outputs": [
    {
     "name": "stdout",
     "output_type": "stream",
     "text": [
      "              precision    recall  f1-score   support\n",
      "\n",
      "           0       0.87      0.78      0.82      1000\n",
      "           1       0.99      0.97      0.98      1000\n",
      "           2       0.87      0.74      0.80      1000\n",
      "           3       0.91      0.89      0.90      1000\n",
      "           4       0.80      0.83      0.82      1000\n",
      "           5       0.95      0.96      0.95      1000\n",
      "           6       0.63      0.79      0.70      1000\n",
      "           7       0.95      0.94      0.95      1000\n",
      "           8       0.97      0.97      0.97      1000\n",
      "           9       0.96      0.96      0.96      1000\n",
      "\n",
      "    accuracy                           0.88     10000\n",
      "   macro avg       0.89      0.88      0.88     10000\n",
      "weighted avg       0.89      0.88      0.88     10000\n",
      "\n"
     ]
    }
   ],
   "source": [
    "print(classification_report(test_labelf, y_pred_class))"
   ]
  },
  {
   "cell_type": "code",
   "execution_count": 69,
   "id": "528b4e46",
   "metadata": {},
   "outputs": [],
   "source": [
    "conf_mat = multilabel_confusion_matrix(test_labelf, y_pred_class)"
   ]
  },
  {
   "cell_type": "code",
   "execution_count": 212,
   "id": "55a244d5",
   "metadata": {},
   "outputs": [
    {
     "data": {
      "text/plain": [
       "<sklearn.metrics._plot.confusion_matrix.ConfusionMatrixDisplay at 0x27100307fd0>"
      ]
     },
     "execution_count": 212,
     "metadata": {},
     "output_type": "execute_result"
    },
    {
     "data": {
      "image/png": "[encoded data removed]",
      "text/plain": [
       "<Figure size 432x288 with 2 Axes>"
      ]
     },
     "metadata": {
      "needs_background": "light"
     },
     "output_type": "display_data"
    }
   ],
   "source": [
    "ConfusionMatrixDisplay(conf_mat[6]).plot()"
   ]
  },
  {
   "cell_type": "markdown",
   "id": "d6ef36a3",
   "metadata": {},
   "source": [
    "#### Видим, что Класс 6 - рубашки, определился хуже всего. Довольно плохая точность, видимо потому, что есть классы очень похожие на этот. "
   ]
  },
  {
   "cell_type": "code",
   "execution_count": null,
   "id": "ac7576dd",
   "metadata": {},
   "outputs": [],
   "source": []
  }
 ],
 "metadata": {
  "kernelspec": {
   "display_name": "Python 3 (ipykernel)",
   "language": "python",
   "name": "python3"
  },
  "language_info": {
   "codemirror_mode": {
    "name": "ipython",
    "version": 3
   },
   "file_extension": ".py",
   "mimetype": "text/x-python",
   "name": "python",
   "nbconvert_exporter": "python",
   "pygments_lexer": "ipython3",
   "version": "3.9.12"
  }
 },
 "nbformat": 4,
 "nbformat_minor": 5
}
